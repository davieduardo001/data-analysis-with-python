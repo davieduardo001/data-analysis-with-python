{
 "cells": [
  {
   "cell_type": "markdown",
   "id": "e8f0aa44",
   "metadata": {
    "papermill": {
     "duration": 0.006099,
     "end_time": "2025-06-11T11:49:50.969334",
     "exception": false,
     "start_time": "2025-06-11T11:49:50.963235",
     "status": "completed"
    },
    "tags": []
   },
   "source": [
    "**This notebook is an exercise in the [Intro to Programming](https://www.kaggle.com/learn/intro-to-programming) course.  You can reference the tutorial at [this link](https://www.kaggle.com/alexisbcook/data-types).**\n",
    "\n",
    "---\n"
   ]
  },
  {
   "cell_type": "markdown",
   "id": "0cb8f530",
   "metadata": {
    "papermill": {
     "duration": 0.006316,
     "end_time": "2025-06-11T11:49:50.980919",
     "exception": false,
     "start_time": "2025-06-11T11:49:50.974603",
     "status": "completed"
    },
    "tags": []
   },
   "source": [
    "In the tutorial, you learned about four different data types: floats, integers, strings, and booleans.  In this exercise, you'll experiment with them.\n",
    "\n",
    "# Set up the notebook\n",
    "\n",
    "Run the next code cell without changes to set up the notebook."
   ]
  },
  {
   "cell_type": "code",
   "execution_count": 1,
   "id": "c55d7208",
   "metadata": {
    "execution": {
     "iopub.execute_input": "2025-06-11T11:49:50.994890Z",
     "iopub.status.busy": "2025-06-11T11:49:50.994565Z",
     "iopub.status.idle": "2025-06-11T11:49:53.507700Z",
     "shell.execute_reply": "2025-06-11T11:49:53.506544Z"
    },
    "papermill": {
     "duration": 2.523247,
     "end_time": "2025-06-11T11:49:53.509959",
     "exception": false,
     "start_time": "2025-06-11T11:49:50.986712",
     "status": "completed"
    },
    "tags": []
   },
   "outputs": [
    {
     "name": "stdout",
     "output_type": "stream",
     "text": [
      "Setup complete.\n"
     ]
    }
   ],
   "source": [
    "# Set up the exercise\n",
    "from learntools.core import binder\n",
    "binder.bind(globals())\n",
    "from learntools.intro_to_programming.ex3 import *\n",
    "print('Setup complete.')"
   ]
  },
  {
   "cell_type": "markdown",
   "id": "202dff28",
   "metadata": {
    "papermill": {
     "duration": 0.004782,
     "end_time": "2025-06-11T11:49:53.520043",
     "exception": false,
     "start_time": "2025-06-11T11:49:53.515261",
     "status": "completed"
    },
    "tags": []
   },
   "source": [
    "# Question 1\n",
    "\n",
    "You have seen how to convert a float to an integer with the `int` function.  Try this out yourself by running the code cell below."
   ]
  },
  {
   "cell_type": "code",
   "execution_count": 2,
   "id": "dd742eff",
   "metadata": {
    "execution": {
     "iopub.execute_input": "2025-06-11T11:49:53.531495Z",
     "iopub.status.busy": "2025-06-11T11:49:53.531043Z",
     "iopub.status.idle": "2025-06-11T11:49:53.537329Z",
     "shell.execute_reply": "2025-06-11T11:49:53.536209Z"
    },
    "papermill": {
     "duration": 0.014166,
     "end_time": "2025-06-11T11:49:53.539488",
     "exception": false,
     "start_time": "2025-06-11T11:49:53.525322",
     "status": "completed"
    },
    "tags": []
   },
   "outputs": [
    {
     "name": "stdout",
     "output_type": "stream",
     "text": [
      "1.0\n",
      "<class 'float'>\n",
      "1\n",
      "<class 'int'>\n"
     ]
    }
   ],
   "source": [
    "# Define a float\n",
    "y = 1.\n",
    "print(y)\n",
    "print(type(y))\n",
    "\n",
    "# Convert float to integer with the int function\n",
    "z = int(y)\n",
    "print(z)\n",
    "print(type(z))"
   ]
  },
  {
   "cell_type": "markdown",
   "id": "2af95cb8",
   "metadata": {
    "papermill": {
     "duration": 0.005664,
     "end_time": "2025-06-11T11:49:53.550442",
     "exception": false,
     "start_time": "2025-06-11T11:49:53.544778",
     "status": "completed"
    },
    "tags": []
   },
   "source": [
    "In this case, the float you are using has no numbers after the decimal.  \n",
    "- But what happens when you try to convert a float with a fractional part to an integer?  \n",
    "- How does the outcome of the `int` function change for positive and negative numbers?\n",
    "\n",
    "Use the next code cell to investigate and answer these questions.  Feel free to add or remove any lines of code -- it is your workspace!"
   ]
  },
  {
   "cell_type": "code",
   "execution_count": 3,
   "id": "fefec426",
   "metadata": {
    "execution": {
     "iopub.execute_input": "2025-06-11T11:49:53.561532Z",
     "iopub.status.busy": "2025-06-11T11:49:53.561206Z",
     "iopub.status.idle": "2025-06-11T11:49:53.565734Z",
     "shell.execute_reply": "2025-06-11T11:49:53.564834Z"
    },
    "papermill": {
     "duration": 0.012142,
     "end_time": "2025-06-11T11:49:53.567358",
     "exception": false,
     "start_time": "2025-06-11T11:49:53.555216",
     "status": "completed"
    },
    "tags": []
   },
   "outputs": [],
   "source": [
    "# Uncomment and run this code to get started!\n",
    "#print(int(1.2321))\n",
    "#print(int(1.747))\n",
    "#print(int(-3.94535))\n",
    "#print(int(-2.19774))"
   ]
  },
  {
   "cell_type": "markdown",
   "id": "f49188b2",
   "metadata": {
    "papermill": {
     "duration": 0.004496,
     "end_time": "2025-06-11T11:49:53.576473",
     "exception": false,
     "start_time": "2025-06-11T11:49:53.571977",
     "status": "completed"
    },
    "tags": []
   },
   "source": [
    "Once you have an answer, run the code cell below to see the solution.  Viewing the solution will give you credit for answering the problem."
   ]
  },
  {
   "cell_type": "code",
   "execution_count": 4,
   "id": "e64a8f18",
   "metadata": {
    "execution": {
     "iopub.execute_input": "2025-06-11T11:49:53.587577Z",
     "iopub.status.busy": "2025-06-11T11:49:53.587252Z",
     "iopub.status.idle": "2025-06-11T11:49:53.596276Z",
     "shell.execute_reply": "2025-06-11T11:49:53.595261Z"
    },
    "papermill": {
     "duration": 0.016381,
     "end_time": "2025-06-11T11:49:53.597886",
     "exception": false,
     "start_time": "2025-06-11T11:49:53.581505",
     "status": "completed"
    },
    "tags": []
   },
   "outputs": [
    {
     "data": {
      "application/javascript": [
       "parent.postMessage({\"jupyterEvent\": \"custom.exercise_interaction\", \"data\": {\"outcomeType\": 1, \"valueTowardsCompletion\": 0.2, \"interactionType\": 1, \"questionType\": 4, \"questionId\": \"1_FloatToInt\", \"learnToolsVersion\": \"0.3.5\", \"failureMessage\": \"\", \"exceptionClass\": \"\", \"trace\": \"\"}}, \"*\")"
      ],
      "text/plain": [
       "<IPython.core.display.Javascript object>"
      ]
     },
     "metadata": {},
     "output_type": "display_data"
    },
    {
     "data": {
      "text/markdown": [
       "<span style=\"color:#33cc33\">Correct:</span> \n",
       "\n",
       "Negative floats are always rounded UP to the closest integer (for instance, both -1.1 and -1.9 are rounded up to -1). Positive floats are always rounded DOWN to the closest integer (for instance, 2.1 and 2.9 are rounded down to 2)."
      ],
      "text/plain": [
       "Correct: \n",
       "\n",
       "Negative floats are always rounded UP to the closest integer (for instance, both -1.1 and -1.9 are rounded up to -1). Positive floats are always rounded DOWN to the closest integer (for instance, 2.1 and 2.9 are rounded down to 2)."
      ]
     },
     "metadata": {},
     "output_type": "display_data"
    }
   ],
   "source": [
    "# Check your answer (Run this code cell to receive credit!)\n",
    "q1.check()"
   ]
  },
  {
   "cell_type": "markdown",
   "id": "e2e34199",
   "metadata": {
    "papermill": {
     "duration": 0.004695,
     "end_time": "2025-06-11T11:49:53.608645",
     "exception": false,
     "start_time": "2025-06-11T11:49:53.603950",
     "status": "completed"
    },
    "tags": []
   },
   "source": [
    "# Question 2\n",
    "\n",
    "In the tutorial, you learned about booleans (which can take a value of `True` or `False`), in addition to integers, floats, and strings.  For this question, your goal is to determine what happens when you multiply a boolean by any of these data types.  Specifically, \n",
    "- What happens when you multiply an integer or float by `True`?  What happens when you multiply them by `False`?  How does the answer change if the numbers are positive or negative?\n",
    "- What happens when you multiply a string by `True`?  By `False`?\n",
    "\n",
    "Use the next code cell for your investigation. "
   ]
  },
  {
   "cell_type": "code",
   "execution_count": 5,
   "id": "f7c20c20",
   "metadata": {
    "execution": {
     "iopub.execute_input": "2025-06-11T11:49:53.619654Z",
     "iopub.status.busy": "2025-06-11T11:49:53.619292Z",
     "iopub.status.idle": "2025-06-11T11:49:53.624882Z",
     "shell.execute_reply": "2025-06-11T11:49:53.623902Z"
    },
    "papermill": {
     "duration": 0.013123,
     "end_time": "2025-06-11T11:49:53.626656",
     "exception": false,
     "start_time": "2025-06-11T11:49:53.613533",
     "status": "completed"
    },
    "tags": []
   },
   "outputs": [
    {
     "name": "stdout",
     "output_type": "stream",
     "text": [
      "3\n",
      "-3.1\n",
      "<class 'str'>\n",
      "0\n"
     ]
    }
   ],
   "source": [
    "# Uncomment and run this code to get started!\n",
    "print(3 * True)\n",
    "print(-3.1 * True)\n",
    "print(type(\"abc\" * False))\n",
    "print(len(\"abc\" * False))"
   ]
  },
  {
   "cell_type": "markdown",
   "id": "2a93a73e",
   "metadata": {
    "papermill": {
     "duration": 0.004759,
     "end_time": "2025-06-11T11:49:53.636952",
     "exception": false,
     "start_time": "2025-06-11T11:49:53.632193",
     "status": "completed"
    },
    "tags": []
   },
   "source": [
    "Once you have an answer, run the code cell below to see the solution.  Viewing the solution will give you credit for answering the problem."
   ]
  },
  {
   "cell_type": "code",
   "execution_count": 6,
   "id": "6ea8cb52",
   "metadata": {
    "execution": {
     "iopub.execute_input": "2025-06-11T11:49:53.649384Z",
     "iopub.status.busy": "2025-06-11T11:49:53.648989Z",
     "iopub.status.idle": "2025-06-11T11:49:53.658115Z",
     "shell.execute_reply": "2025-06-11T11:49:53.657202Z"
    },
    "papermill": {
     "duration": 0.017612,
     "end_time": "2025-06-11T11:49:53.659732",
     "exception": false,
     "start_time": "2025-06-11T11:49:53.642120",
     "status": "completed"
    },
    "tags": []
   },
   "outputs": [
    {
     "data": {
      "application/javascript": [
       "parent.postMessage({\"jupyterEvent\": \"custom.exercise_interaction\", \"data\": {\"outcomeType\": 1, \"valueTowardsCompletion\": 0.2, \"interactionType\": 1, \"questionType\": 4, \"questionId\": \"2_MultiplyBooleans\", \"learnToolsVersion\": \"0.3.5\", \"failureMessage\": \"\", \"exceptionClass\": \"\", \"trace\": \"\"}}, \"*\")"
      ],
      "text/plain": [
       "<IPython.core.display.Javascript object>"
      ]
     },
     "metadata": {},
     "output_type": "display_data"
    },
    {
     "data": {
      "text/markdown": [
       "<span style=\"color:#33cc33\">Correct:</span> \n",
       "\n",
       "When you multiple an integer or float by a boolean with value `True`, it just returns that same integer or float (and is equivalent to multiplying by 1).  If you multiply an integer or float by a boolean with value `False`, it always returns 0.  This is true for both positive and negative numbers.  If you multiply a string by a boolean with value `True`, it just returns that same string.  And if you multiply a string by a boolean with value `False`, it returns an empty string (or a string with length zero)."
      ],
      "text/plain": [
       "Correct: \n",
       "\n",
       "When you multiple an integer or float by a boolean with value `True`, it just returns that same integer or float (and is equivalent to multiplying by 1).  If you multiply an integer or float by a boolean with value `False`, it always returns 0.  This is true for both positive and negative numbers.  If you multiply a string by a boolean with value `True`, it just returns that same string.  And if you multiply a string by a boolean with value `False`, it returns an empty string (or a string with length zero)."
      ]
     },
     "metadata": {},
     "output_type": "display_data"
    }
   ],
   "source": [
    "# Check your answer (Run this code cell to receive credit!)\n",
    "q2.check()"
   ]
  },
  {
   "cell_type": "markdown",
   "id": "d183b6c3",
   "metadata": {
    "papermill": {
     "duration": 0.004845,
     "end_time": "2025-06-11T11:49:53.670775",
     "exception": false,
     "start_time": "2025-06-11T11:49:53.665930",
     "status": "completed"
    },
    "tags": []
   },
   "source": [
    "# Question 3\n",
    "\n",
    "In this question, you will build off your work from the previous exercise to write a function that estimates the value of a house.\n",
    "\n",
    "Use the next code cell to create a function `get_expected_cost` that takes as input three variables:\n",
    "- `beds` - number of bedrooms (data type float)\n",
    "- `baths` - number of bathrooms (data type float)\n",
    "- `has_basement` - whether or not the house has a basement (data type boolean)\n",
    "\n",
    "It should return the expected cost of a house with those characteristics. Assume that:\n",
    "- the expected cost for a house with 0 bedrooms and 0 bathrooms, and no basement is 80000, \n",
    "- each bedroom adds 30000 to the expected cost,\n",
    "- each bathroom adds 10000 to the expected cost, and\n",
    "- a basement adds 40000 to the expected cost.\n",
    "\n",
    "For instance,\n",
    "- a house with 1 bedroom, 1 bathroom, and no basement has an expected cost of 80000 + 30000 + 10000 = 120000.  This value will be calculated with `get_expected_cost(1, 1, False)`.\n",
    "- a house with 2 bedrooms, 1 bathroom, and a basement has an expected cost of 80000 + 2*30000 + 10000 + 40000 = 190000.  This value will be calculated with `get_expected_cost(2, 1, True)`.\n",
    "\n",
    "Remember you can always get a hint by uncommenting `q3.hint()` in the code cell following the next!"
   ]
  },
  {
   "cell_type": "code",
   "execution_count": 7,
   "id": "f276ec14",
   "metadata": {
    "execution": {
     "iopub.execute_input": "2025-06-11T11:49:53.682270Z",
     "iopub.status.busy": "2025-06-11T11:49:53.681961Z",
     "iopub.status.idle": "2025-06-11T11:49:53.691318Z",
     "shell.execute_reply": "2025-06-11T11:49:53.689825Z"
    },
    "papermill": {
     "duration": 0.017054,
     "end_time": "2025-06-11T11:49:53.692865",
     "exception": false,
     "start_time": "2025-06-11T11:49:53.675811",
     "status": "completed"
    },
    "tags": []
   },
   "outputs": [
    {
     "data": {
      "application/javascript": [
       "parent.postMessage({\"jupyterEvent\": \"custom.exercise_interaction\", \"data\": {\"outcomeType\": 2, \"failureMessage\": \"Expected return value of `120000` given `beds=1`, `baths=1`, `has_basement=False`, but got `<learntools.core.constants.PlaceholderValue object at 0x7cca4d9175d0>` instead.\", \"interactionType\": 1, \"questionType\": 2, \"questionId\": \"3_EstimateHouseValueBool\", \"learnToolsVersion\": \"0.3.5\", \"valueTowardsCompletion\": 0.0, \"exceptionClass\": \"\", \"trace\": \"\"}}, \"*\")"
      ],
      "text/plain": [
       "<IPython.core.display.Javascript object>"
      ]
     },
     "metadata": {},
     "output_type": "display_data"
    },
    {
     "data": {
      "text/markdown": [
       "<span style=\"color:#cc3333\">Incorrect:</span> Expected return value of `120000` given `beds=1`, `baths=1`, `has_basement=False`, but got `<learntools.core.constants.PlaceholderValue object at 0x7cca4d9175d0>` instead."
      ],
      "text/plain": [
       "Incorrect: Expected return value of `120000` given `beds=1`, `baths=1`, `has_basement=False`, but got `<learntools.core.constants.PlaceholderValue object at 0x7cca4d9175d0>` instead."
      ]
     },
     "metadata": {},
     "output_type": "display_data"
    }
   ],
   "source": [
    "# TODO: Complete the function\n",
    "def get_expected_cost(beds, baths, has_basement):\n",
    "    value = ____\n",
    "    return value\n",
    "\n",
    "# Check your answer \n",
    "q3.check()"
   ]
  },
  {
   "cell_type": "code",
   "execution_count": 8,
   "id": "66e574be",
   "metadata": {
    "execution": {
     "iopub.execute_input": "2025-06-11T11:49:53.706542Z",
     "iopub.status.busy": "2025-06-11T11:49:53.706183Z",
     "iopub.status.idle": "2025-06-11T11:49:53.712657Z",
     "shell.execute_reply": "2025-06-11T11:49:53.710891Z"
    },
    "papermill": {
     "duration": 0.015934,
     "end_time": "2025-06-11T11:49:53.714448",
     "exception": false,
     "start_time": "2025-06-11T11:49:53.698514",
     "status": "completed"
    },
    "tags": []
   },
   "outputs": [],
   "source": [
    "# Uncomment to see a hint\n",
    "#q3.hint()\n",
    "\n",
    "# Uncomment to view the solution\n",
    "#q3.solution()"
   ]
  },
  {
   "cell_type": "markdown",
   "id": "f4cd61f6",
   "metadata": {
    "papermill": {
     "duration": 0.006225,
     "end_time": "2025-06-11T11:49:53.726537",
     "exception": false,
     "start_time": "2025-06-11T11:49:53.720312",
     "status": "completed"
    },
    "tags": []
   },
   "source": [
    "# Question 4\n",
    "\n",
    "We'll continue our study of boolean arithmetic.  For this question, your task is to provide a description of what happpens when you add booleans. \n",
    "\n",
    "Use the next code cell for your investigation.  Feel free to add or remove any lines of code - use it as your workspace!"
   ]
  },
  {
   "cell_type": "code",
   "execution_count": 9,
   "id": "2651c03c",
   "metadata": {
    "execution": {
     "iopub.execute_input": "2025-06-11T11:49:53.739868Z",
     "iopub.status.busy": "2025-06-11T11:49:53.739550Z",
     "iopub.status.idle": "2025-06-11T11:49:53.746450Z",
     "shell.execute_reply": "2025-06-11T11:49:53.744911Z"
    },
    "papermill": {
     "duration": 0.016158,
     "end_time": "2025-06-11T11:49:53.748619",
     "exception": false,
     "start_time": "2025-06-11T11:49:53.732461",
     "status": "completed"
    },
    "tags": []
   },
   "outputs": [
    {
     "name": "stdout",
     "output_type": "stream",
     "text": [
      "0\n",
      "1\n",
      "1\n",
      "2\n",
      "3\n"
     ]
    }
   ],
   "source": [
    "print(False + False)\n",
    "print(True + False)\n",
    "print(False + True)\n",
    "print(True + True)\n",
    "print(False + True + True + True)"
   ]
  },
  {
   "cell_type": "markdown",
   "id": "8ec1bb9f",
   "metadata": {
    "papermill": {
     "duration": 0.00533,
     "end_time": "2025-06-11T11:49:53.760282",
     "exception": false,
     "start_time": "2025-06-11T11:49:53.754952",
     "status": "completed"
    },
    "tags": []
   },
   "source": [
    "Once you have an answer, run the code cell below to see the solution.  Viewing the solution will give you credit for answering the problem."
   ]
  },
  {
   "cell_type": "code",
   "execution_count": 10,
   "id": "72074393",
   "metadata": {
    "execution": {
     "iopub.execute_input": "2025-06-11T11:49:53.772961Z",
     "iopub.status.busy": "2025-06-11T11:49:53.772615Z",
     "iopub.status.idle": "2025-06-11T11:49:53.782094Z",
     "shell.execute_reply": "2025-06-11T11:49:53.780988Z"
    },
    "papermill": {
     "duration": 0.018161,
     "end_time": "2025-06-11T11:49:53.784346",
     "exception": false,
     "start_time": "2025-06-11T11:49:53.766185",
     "status": "completed"
    },
    "tags": []
   },
   "outputs": [
    {
     "data": {
      "application/javascript": [
       "parent.postMessage({\"jupyterEvent\": \"custom.exercise_interaction\", \"data\": {\"outcomeType\": 1, \"valueTowardsCompletion\": 0.2, \"interactionType\": 1, \"questionType\": 4, \"questionId\": \"4_AddingBooleans\", \"learnToolsVersion\": \"0.3.5\", \"failureMessage\": \"\", \"exceptionClass\": \"\", \"trace\": \"\"}}, \"*\")"
      ],
      "text/plain": [
       "<IPython.core.display.Javascript object>"
      ]
     },
     "metadata": {},
     "output_type": "display_data"
    },
    {
     "data": {
      "text/markdown": [
       "<span style=\"color:#33cc33\">Correct:</span> \n",
       "\n",
       "When you add booleans, adding `False` is equivalent to adding 0, and adding `True` is equivalent to adding 1."
      ],
      "text/plain": [
       "Correct: \n",
       "\n",
       "When you add booleans, adding `False` is equivalent to adding 0, and adding `True` is equivalent to adding 1."
      ]
     },
     "metadata": {},
     "output_type": "display_data"
    }
   ],
   "source": [
    "# Check your answer (Run this code cell to receive credit!)\n",
    "q4.check()"
   ]
  },
  {
   "cell_type": "markdown",
   "id": "74503488",
   "metadata": {
    "papermill": {
     "duration": 0.00549,
     "end_time": "2025-06-11T11:49:53.795567",
     "exception": false,
     "start_time": "2025-06-11T11:49:53.790077",
     "status": "completed"
    },
    "tags": []
   },
   "source": [
    "# 🌶️ Question 5\n",
    "\n",
    "You own an online shop where you sell rings with custom engravings.  You offer both gold plated and solid gold rings.\n",
    "- Gold plated rings have a base cost of \\\\$50, and you charge \\\\$7 per engraved unit.  \n",
    "- Solid gold rings have a base cost of \\\\$100, and you charge \\\\$10 per engraved unit.\n",
    "- Spaces and punctuation are counted as engraved units.\n",
    "\n",
    "Write a function `cost_of_project()` that takes two arguments:\n",
    "- `engraving` - a Python string with the text of the engraving\n",
    "- `solid_gold` - a Boolean that indicates whether the ring is solid gold\n",
    "\n",
    "It should return the cost of the project.  This question should be fairly challenging, and you may need a hint."
   ]
  },
  {
   "cell_type": "code",
   "execution_count": 11,
   "id": "e5247323",
   "metadata": {
    "execution": {
     "iopub.execute_input": "2025-06-11T11:49:53.810456Z",
     "iopub.status.busy": "2025-06-11T11:49:53.810152Z",
     "iopub.status.idle": "2025-06-11T11:49:53.819291Z",
     "shell.execute_reply": "2025-06-11T11:49:53.817715Z"
    },
    "papermill": {
     "duration": 0.018895,
     "end_time": "2025-06-11T11:49:53.821461",
     "exception": false,
     "start_time": "2025-06-11T11:49:53.802566",
     "status": "completed"
    },
    "tags": []
   },
   "outputs": [
    {
     "data": {
      "application/javascript": [
       "parent.postMessage({\"jupyterEvent\": \"custom.exercise_interaction\", \"data\": {\"outcomeType\": 2, \"failureMessage\": \"Expected return value of `240` given `engraving='Charlie+Denver'`, `solid_gold=True`, but got `<learntools.core.constants.PlaceholderValue object at 0x7cca4d9175d0>` instead.\", \"interactionType\": 1, \"questionType\": 2, \"questionId\": \"5_CustomEngravings\", \"learnToolsVersion\": \"0.3.5\", \"valueTowardsCompletion\": 0.0, \"exceptionClass\": \"\", \"trace\": \"\"}}, \"*\")"
      ],
      "text/plain": [
       "<IPython.core.display.Javascript object>"
      ]
     },
     "metadata": {},
     "output_type": "display_data"
    },
    {
     "data": {
      "text/markdown": [
       "<span style=\"color:#cc3333\">Incorrect:</span> Expected return value of `240` given `engraving='Charlie+Denver'`, `solid_gold=True`, but got `<learntools.core.constants.PlaceholderValue object at 0x7cca4d9175d0>` instead."
      ],
      "text/plain": [
       "Incorrect: Expected return value of `240` given `engraving='Charlie+Denver'`, `solid_gold=True`, but got `<learntools.core.constants.PlaceholderValue object at 0x7cca4d9175d0>` instead."
      ]
     },
     "metadata": {},
     "output_type": "display_data"
    }
   ],
   "source": [
    "def cost_of_project(engraving, solid_gold):\n",
    "    cost = ____\n",
    "    return cost\n",
    "\n",
    "# Check your answer\n",
    "q5.check()"
   ]
  },
  {
   "cell_type": "code",
   "execution_count": 12,
   "id": "f8fb01d5",
   "metadata": {
    "execution": {
     "iopub.execute_input": "2025-06-11T11:49:53.835271Z",
     "iopub.status.busy": "2025-06-11T11:49:53.834979Z",
     "iopub.status.idle": "2025-06-11T11:49:53.841271Z",
     "shell.execute_reply": "2025-06-11T11:49:53.839680Z"
    },
    "papermill": {
     "duration": 0.01528,
     "end_time": "2025-06-11T11:49:53.843176",
     "exception": false,
     "start_time": "2025-06-11T11:49:53.827896",
     "status": "completed"
    },
    "tags": []
   },
   "outputs": [],
   "source": [
    "# Uncomment to see a hint\n",
    "#q5.hint()\n",
    "\n",
    "# Uncomment to view the solution\n",
    "#q5.solution()"
   ]
  },
  {
   "cell_type": "markdown",
   "id": "3d3d75d2",
   "metadata": {
    "papermill": {
     "duration": 0.006082,
     "end_time": "2025-06-11T11:49:53.855595",
     "exception": false,
     "start_time": "2025-06-11T11:49:53.849513",
     "status": "completed"
    },
    "tags": []
   },
   "source": [
    "Run the next code cell to calculate the cost of engraving `Charlie+Denver` on a solid gold ring."
   ]
  },
  {
   "cell_type": "code",
   "execution_count": 13,
   "id": "08828357",
   "metadata": {
    "execution": {
     "iopub.execute_input": "2025-06-11T11:49:53.868292Z",
     "iopub.status.busy": "2025-06-11T11:49:53.868013Z",
     "iopub.status.idle": "2025-06-11T11:49:53.872946Z",
     "shell.execute_reply": "2025-06-11T11:49:53.871950Z"
    },
    "papermill": {
     "duration": 0.01299,
     "end_time": "2025-06-11T11:49:53.874294",
     "exception": false,
     "start_time": "2025-06-11T11:49:53.861304",
     "status": "completed"
    },
    "tags": []
   },
   "outputs": [
    {
     "name": "stdout",
     "output_type": "stream",
     "text": [
      "<learntools.core.constants.PlaceholderValue object at 0x7cca4d9175d0>\n"
     ]
    }
   ],
   "source": [
    "project_one = cost_of_project(\"Charlie+Denver\", True)\n",
    "print(project_one)"
   ]
  },
  {
   "cell_type": "markdown",
   "id": "b993b25f",
   "metadata": {
    "papermill": {
     "duration": 0.005655,
     "end_time": "2025-06-11T11:49:53.886783",
     "exception": false,
     "start_time": "2025-06-11T11:49:53.881128",
     "status": "completed"
    },
    "tags": []
   },
   "source": [
    "Use the next code cell to calculate the cost of engraving `08/10/2000` on a gold plated ring."
   ]
  },
  {
   "cell_type": "code",
   "execution_count": 14,
   "id": "066c8db7",
   "metadata": {
    "execution": {
     "iopub.execute_input": "2025-06-11T11:49:53.902588Z",
     "iopub.status.busy": "2025-06-11T11:49:53.902130Z",
     "iopub.status.idle": "2025-06-11T11:49:53.908405Z",
     "shell.execute_reply": "2025-06-11T11:49:53.906845Z"
    },
    "papermill": {
     "duration": 0.016749,
     "end_time": "2025-06-11T11:49:53.910075",
     "exception": false,
     "start_time": "2025-06-11T11:49:53.893326",
     "status": "completed"
    },
    "tags": []
   },
   "outputs": [
    {
     "name": "stdout",
     "output_type": "stream",
     "text": [
      "<learntools.core.constants.PlaceholderValue object at 0x7cca4d9175d0>\n"
     ]
    }
   ],
   "source": [
    "project_two = cost_of_project(\"08/10/2000\", False)\n",
    "print(project_two)"
   ]
  },
  {
   "cell_type": "markdown",
   "id": "8eb59c87",
   "metadata": {
    "papermill": {
     "duration": 0.005831,
     "end_time": "2025-06-11T11:49:53.922543",
     "exception": false,
     "start_time": "2025-06-11T11:49:53.916712",
     "status": "completed"
    },
    "tags": []
   },
   "source": [
    "# Keep going\n",
    "\n",
    "Continue to the next lesson to **[learn about conditions and conditional statements](https://www.kaggle.com/alexisbcook/conditions-and-conditional-statements)**."
   ]
  },
  {
   "cell_type": "markdown",
   "id": "d567449c",
   "metadata": {
    "papermill": {
     "duration": 0.005565,
     "end_time": "2025-06-11T11:49:53.934043",
     "exception": false,
     "start_time": "2025-06-11T11:49:53.928478",
     "status": "completed"
    },
    "tags": []
   },
   "source": [
    "---\n",
    "\n",
    "\n",
    "\n",
    "\n",
    "*Have questions or comments? Visit the [course discussion forum](https://www.kaggle.com/learn/intro-to-programming/discussion) to chat with other learners.*"
   ]
  }
 ],
 "metadata": {
  "kaggle": {
   "accelerator": "none",
   "dataSources": [],
   "isGpuEnabled": false,
   "isInternetEnabled": false,
   "language": "python",
   "sourceType": "notebook"
  },
  "kernelspec": {
   "display_name": "Python 3",
   "language": "python",
   "name": "python3"
  },
  "language_info": {
   "codemirror_mode": {
    "name": "ipython",
    "version": 3
   },
   "file_extension": ".py",
   "mimetype": "text/x-python",
   "name": "python",
   "nbconvert_exporter": "python",
   "pygments_lexer": "ipython3",
   "version": "3.11.11"
  },
  "papermill": {
   "default_parameters": {},
   "duration": 9.172004,
   "end_time": "2025-06-11T11:49:54.562536",
   "environment_variables": {},
   "exception": null,
   "input_path": "__notebook__.ipynb",
   "output_path": "__notebook__.ipynb",
   "parameters": {},
   "start_time": "2025-06-11T11:49:45.390532",
   "version": "2.3.3"
  }
 },
 "nbformat": 4,
 "nbformat_minor": 5
}
