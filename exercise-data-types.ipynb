{
 "cells": [
  {
   "cell_type": "markdown",
   "id": "7e58864f",
   "metadata": {
    "papermill": {
     "duration": 0.006362,
     "end_time": "2025-06-11T12:06:42.324215",
     "exception": false,
     "start_time": "2025-06-11T12:06:42.317853",
     "status": "completed"
    },
    "tags": []
   },
   "source": [
    "**This notebook is an exercise in the [Intro to Programming](https://www.kaggle.com/learn/intro-to-programming) course.  You can reference the tutorial at [this link](https://www.kaggle.com/alexisbcook/data-types).**\n",
    "\n",
    "---\n"
   ]
  },
  {
   "cell_type": "markdown",
   "id": "34eb0ee2",
   "metadata": {
    "papermill": {
     "duration": 0.005513,
     "end_time": "2025-06-11T12:06:42.336073",
     "exception": false,
     "start_time": "2025-06-11T12:06:42.330560",
     "status": "completed"
    },
    "tags": []
   },
   "source": [
    "In the tutorial, you learned about four different data types: floats, integers, strings, and booleans.  In this exercise, you'll experiment with them.\n",
    "\n",
    "# Set up the notebook\n",
    "\n",
    "Run the next code cell without changes to set up the notebook."
   ]
  },
  {
   "cell_type": "code",
   "execution_count": 1,
   "id": "acdd6015",
   "metadata": {
    "execution": {
     "iopub.execute_input": "2025-06-11T12:06:42.347232Z",
     "iopub.status.busy": "2025-06-11T12:06:42.346813Z",
     "iopub.status.idle": "2025-06-11T12:06:44.763907Z",
     "shell.execute_reply": "2025-06-11T12:06:44.762837Z"
    },
    "papermill": {
     "duration": 2.424812,
     "end_time": "2025-06-11T12:06:44.765744",
     "exception": false,
     "start_time": "2025-06-11T12:06:42.340932",
     "status": "completed"
    },
    "tags": []
   },
   "outputs": [
    {
     "name": "stdout",
     "output_type": "stream",
     "text": [
      "Setup complete.\n"
     ]
    }
   ],
   "source": [
    "# Set up the exercise\n",
    "from learntools.core import binder\n",
    "binder.bind(globals())\n",
    "from learntools.intro_to_programming.ex3 import *\n",
    "print('Setup complete.')"
   ]
  },
  {
   "cell_type": "markdown",
   "id": "c2fe6020",
   "metadata": {
    "papermill": {
     "duration": 0.004475,
     "end_time": "2025-06-11T12:06:44.775577",
     "exception": false,
     "start_time": "2025-06-11T12:06:44.771102",
     "status": "completed"
    },
    "tags": []
   },
   "source": [
    "# Question 1\n",
    "\n",
    "You have seen how to convert a float to an integer with the `int` function.  Try this out yourself by running the code cell below."
   ]
  },
  {
   "cell_type": "code",
   "execution_count": 2,
   "id": "20cceed4",
   "metadata": {
    "execution": {
     "iopub.execute_input": "2025-06-11T12:06:44.786654Z",
     "iopub.status.busy": "2025-06-11T12:06:44.786212Z",
     "iopub.status.idle": "2025-06-11T12:06:44.792598Z",
     "shell.execute_reply": "2025-06-11T12:06:44.791435Z"
    },
    "papermill": {
     "duration": 0.013817,
     "end_time": "2025-06-11T12:06:44.794176",
     "exception": false,
     "start_time": "2025-06-11T12:06:44.780359",
     "status": "completed"
    },
    "tags": []
   },
   "outputs": [
    {
     "name": "stdout",
     "output_type": "stream",
     "text": [
      "1.0\n",
      "<class 'float'>\n",
      "1\n",
      "<class 'int'>\n"
     ]
    }
   ],
   "source": [
    "# Define a float\n",
    "y = 1.\n",
    "print(y)\n",
    "print(type(y))\n",
    "\n",
    "# Convert float to integer with the int function\n",
    "z = int(y)\n",
    "print(z)\n",
    "print(type(z))"
   ]
  },
  {
   "cell_type": "markdown",
   "id": "bf22b531",
   "metadata": {
    "papermill": {
     "duration": 0.005172,
     "end_time": "2025-06-11T12:06:44.804303",
     "exception": false,
     "start_time": "2025-06-11T12:06:44.799131",
     "status": "completed"
    },
    "tags": []
   },
   "source": [
    "In this case, the float you are using has no numbers after the decimal.  \n",
    "- But what happens when you try to convert a float with a fractional part to an integer?  \n",
    "- How does the outcome of the `int` function change for positive and negative numbers?\n",
    "\n",
    "Use the next code cell to investigate and answer these questions.  Feel free to add or remove any lines of code -- it is your workspace!"
   ]
  },
  {
   "cell_type": "code",
   "execution_count": 3,
   "id": "b1d33045",
   "metadata": {
    "execution": {
     "iopub.execute_input": "2025-06-11T12:06:44.816125Z",
     "iopub.status.busy": "2025-06-11T12:06:44.815791Z",
     "iopub.status.idle": "2025-06-11T12:06:44.821709Z",
     "shell.execute_reply": "2025-06-11T12:06:44.820517Z"
    },
    "papermill": {
     "duration": 0.013865,
     "end_time": "2025-06-11T12:06:44.823508",
     "exception": false,
     "start_time": "2025-06-11T12:06:44.809643",
     "status": "completed"
    },
    "tags": []
   },
   "outputs": [
    {
     "name": "stdout",
     "output_type": "stream",
     "text": [
      "1\n",
      "1\n",
      "-3\n",
      "-2\n"
     ]
    }
   ],
   "source": [
    "# Uncomment and run this code to get started!\n",
    "print(int(1.2321))\n",
    "print(int(1.747))\n",
    "print(int(-3.94535))\n",
    "print(int(-2.19774))"
   ]
  },
  {
   "cell_type": "markdown",
   "id": "32177c8b",
   "metadata": {
    "papermill": {
     "duration": 0.005376,
     "end_time": "2025-06-11T12:06:44.833818",
     "exception": false,
     "start_time": "2025-06-11T12:06:44.828442",
     "status": "completed"
    },
    "tags": []
   },
   "source": [
    "Once you have an answer, run the code cell below to see the solution.  Viewing the solution will give you credit for answering the problem."
   ]
  },
  {
   "cell_type": "code",
   "execution_count": 4,
   "id": "51251409",
   "metadata": {
    "execution": {
     "iopub.execute_input": "2025-06-11T12:06:44.846759Z",
     "iopub.status.busy": "2025-06-11T12:06:44.846413Z",
     "iopub.status.idle": "2025-06-11T12:06:44.856213Z",
     "shell.execute_reply": "2025-06-11T12:06:44.855224Z"
    },
    "papermill": {
     "duration": 0.019171,
     "end_time": "2025-06-11T12:06:44.858315",
     "exception": false,
     "start_time": "2025-06-11T12:06:44.839144",
     "status": "completed"
    },
    "tags": []
   },
   "outputs": [
    {
     "data": {
      "application/javascript": [
       "parent.postMessage({\"jupyterEvent\": \"custom.exercise_interaction\", \"data\": {\"outcomeType\": 1, \"valueTowardsCompletion\": 0.2, \"interactionType\": 1, \"questionType\": 4, \"questionId\": \"1_FloatToInt\", \"learnToolsVersion\": \"0.3.5\", \"failureMessage\": \"\", \"exceptionClass\": \"\", \"trace\": \"\"}}, \"*\")"
      ],
      "text/plain": [
       "<IPython.core.display.Javascript object>"
      ]
     },
     "metadata": {},
     "output_type": "display_data"
    },
    {
     "data": {
      "text/markdown": [
       "<span style=\"color:#33cc33\">Correct:</span> \n",
       "\n",
       "Negative floats are always rounded UP to the closest integer (for instance, both -1.1 and -1.9 are rounded up to -1). Positive floats are always rounded DOWN to the closest integer (for instance, 2.1 and 2.9 are rounded down to 2)."
      ],
      "text/plain": [
       "Correct: \n",
       "\n",
       "Negative floats are always rounded UP to the closest integer (for instance, both -1.1 and -1.9 are rounded up to -1). Positive floats are always rounded DOWN to the closest integer (for instance, 2.1 and 2.9 are rounded down to 2)."
      ]
     },
     "metadata": {},
     "output_type": "display_data"
    }
   ],
   "source": [
    "# Check your answer (Run this code cell to receive credit!)\n",
    "q1.check()"
   ]
  },
  {
   "cell_type": "markdown",
   "id": "4bbd48cb",
   "metadata": {
    "papermill": {
     "duration": 0.00481,
     "end_time": "2025-06-11T12:06:44.869054",
     "exception": false,
     "start_time": "2025-06-11T12:06:44.864244",
     "status": "completed"
    },
    "tags": []
   },
   "source": [
    "# Question 2\n",
    "\n",
    "In the tutorial, you learned about booleans (which can take a value of `True` or `False`), in addition to integers, floats, and strings.  For this question, your goal is to determine what happens when you multiply a boolean by any of these data types.  Specifically, \n",
    "- What happens when you multiply an integer or float by `True`?  What happens when you multiply them by `False`?  How does the answer change if the numbers are positive or negative?\n",
    "- What happens when you multiply a string by `True`?  By `False`?\n",
    "\n",
    "Use the next code cell for your investigation. "
   ]
  },
  {
   "cell_type": "code",
   "execution_count": 5,
   "id": "ecb80adb",
   "metadata": {
    "execution": {
     "iopub.execute_input": "2025-06-11T12:06:44.880948Z",
     "iopub.status.busy": "2025-06-11T12:06:44.880620Z",
     "iopub.status.idle": "2025-06-11T12:06:44.886652Z",
     "shell.execute_reply": "2025-06-11T12:06:44.885593Z"
    },
    "papermill": {
     "duration": 0.014222,
     "end_time": "2025-06-11T12:06:44.888705",
     "exception": false,
     "start_time": "2025-06-11T12:06:44.874483",
     "status": "completed"
    },
    "tags": []
   },
   "outputs": [
    {
     "name": "stdout",
     "output_type": "stream",
     "text": [
      "3\n",
      "-3.1\n",
      "<class 'str'>\n",
      "0\n"
     ]
    }
   ],
   "source": [
    "# Uncomment and run this code to get started!\n",
    "print(3 * True)\n",
    "print(-3.1 * True)\n",
    "print(type(\"abc\" * False))\n",
    "print(len(\"abc\" * False))"
   ]
  },
  {
   "cell_type": "markdown",
   "id": "25a07c72",
   "metadata": {
    "papermill": {
     "duration": 0.005089,
     "end_time": "2025-06-11T12:06:44.901481",
     "exception": false,
     "start_time": "2025-06-11T12:06:44.896392",
     "status": "completed"
    },
    "tags": []
   },
   "source": [
    "Once you have an answer, run the code cell below to see the solution.  Viewing the solution will give you credit for answering the problem."
   ]
  },
  {
   "cell_type": "code",
   "execution_count": 6,
   "id": "fd752e7b",
   "metadata": {
    "execution": {
     "iopub.execute_input": "2025-06-11T12:06:44.913863Z",
     "iopub.status.busy": "2025-06-11T12:06:44.913581Z",
     "iopub.status.idle": "2025-06-11T12:06:44.921539Z",
     "shell.execute_reply": "2025-06-11T12:06:44.920531Z"
    },
    "papermill": {
     "duration": 0.015837,
     "end_time": "2025-06-11T12:06:44.923250",
     "exception": false,
     "start_time": "2025-06-11T12:06:44.907413",
     "status": "completed"
    },
    "tags": []
   },
   "outputs": [
    {
     "data": {
      "application/javascript": [
       "parent.postMessage({\"jupyterEvent\": \"custom.exercise_interaction\", \"data\": {\"outcomeType\": 1, \"valueTowardsCompletion\": 0.2, \"interactionType\": 1, \"questionType\": 4, \"questionId\": \"2_MultiplyBooleans\", \"learnToolsVersion\": \"0.3.5\", \"failureMessage\": \"\", \"exceptionClass\": \"\", \"trace\": \"\"}}, \"*\")"
      ],
      "text/plain": [
       "<IPython.core.display.Javascript object>"
      ]
     },
     "metadata": {},
     "output_type": "display_data"
    },
    {
     "data": {
      "text/markdown": [
       "<span style=\"color:#33cc33\">Correct:</span> \n",
       "\n",
       "When you multiple an integer or float by a boolean with value `True`, it just returns that same integer or float (and is equivalent to multiplying by 1).  If you multiply an integer or float by a boolean with value `False`, it always returns 0.  This is true for both positive and negative numbers.  If you multiply a string by a boolean with value `True`, it just returns that same string.  And if you multiply a string by a boolean with value `False`, it returns an empty string (or a string with length zero)."
      ],
      "text/plain": [
       "Correct: \n",
       "\n",
       "When you multiple an integer or float by a boolean with value `True`, it just returns that same integer or float (and is equivalent to multiplying by 1).  If you multiply an integer or float by a boolean with value `False`, it always returns 0.  This is true for both positive and negative numbers.  If you multiply a string by a boolean with value `True`, it just returns that same string.  And if you multiply a string by a boolean with value `False`, it returns an empty string (or a string with length zero)."
      ]
     },
     "metadata": {},
     "output_type": "display_data"
    }
   ],
   "source": [
    "# Check your answer (Run this code cell to receive credit!)\n",
    "q2.check()"
   ]
  },
  {
   "cell_type": "markdown",
   "id": "30061788",
   "metadata": {
    "papermill": {
     "duration": 0.005458,
     "end_time": "2025-06-11T12:06:44.934389",
     "exception": false,
     "start_time": "2025-06-11T12:06:44.928931",
     "status": "completed"
    },
    "tags": []
   },
   "source": [
    "# Question 3\n",
    "\n",
    "In this question, you will build off your work from the previous exercise to write a function that estimates the value of a house.\n",
    "\n",
    "Use the next code cell to create a function `get_expected_cost` that takes as input three variables:\n",
    "- `beds` - number of bedrooms (data type float)\n",
    "- `baths` - number of bathrooms (data type float)\n",
    "- `has_basement` - whether or not the house has a basement (data type boolean)\n",
    "\n",
    "It should return the expected cost of a house with those characteristics. Assume that:\n",
    "- the expected cost for a house with 0 bedrooms and 0 bathrooms, and no basement is 80000, \n",
    "- each bedroom adds 30000 to the expected cost,\n",
    "- each bathroom adds 10000 to the expected cost, and\n",
    "- a basement adds 40000 to the expected cost.\n",
    "\n",
    "For instance,\n",
    "- a house with 1 bedroom, 1 bathroom, and no basement has an expected cost of 80000 + 30000 + 10000 = 120000.  This value will be calculated with `get_expected_cost(1, 1, False)`.\n",
    "- a house with 2 bedrooms, 1 bathroom, and a basement has an expected cost of 80000 + 2*30000 + 10000 + 40000 = 190000.  This value will be calculated with `get_expected_cost(2, 1, True)`.\n",
    "\n",
    "Remember you can always get a hint by uncommenting `q3.hint()` in the code cell following the next!"
   ]
  },
  {
   "cell_type": "code",
   "execution_count": 7,
   "id": "fa6acb8c",
   "metadata": {
    "execution": {
     "iopub.execute_input": "2025-06-11T12:06:44.946166Z",
     "iopub.status.busy": "2025-06-11T12:06:44.945813Z",
     "iopub.status.idle": "2025-06-11T12:06:44.954404Z",
     "shell.execute_reply": "2025-06-11T12:06:44.953280Z"
    },
    "papermill": {
     "duration": 0.016686,
     "end_time": "2025-06-11T12:06:44.956231",
     "exception": false,
     "start_time": "2025-06-11T12:06:44.939545",
     "status": "completed"
    },
    "tags": []
   },
   "outputs": [
    {
     "data": {
      "application/javascript": [
       "parent.postMessage({\"jupyterEvent\": \"custom.exercise_interaction\", \"data\": {\"outcomeType\": 1, \"valueTowardsCompletion\": 0.2, \"interactionType\": 1, \"questionType\": 2, \"questionId\": \"3_EstimateHouseValueBool\", \"learnToolsVersion\": \"0.3.5\", \"failureMessage\": \"\", \"exceptionClass\": \"\", \"trace\": \"\"}}, \"*\")"
      ],
      "text/plain": [
       "<IPython.core.display.Javascript object>"
      ]
     },
     "metadata": {},
     "output_type": "display_data"
    },
    {
     "data": {
      "text/markdown": [
       "<span style=\"color:#33cc33\">Correct</span>"
      ],
      "text/plain": [
       "Correct"
      ]
     },
     "metadata": {},
     "output_type": "display_data"
    }
   ],
   "source": [
    "# TODO: Complete the function\n",
    "def get_expected_cost(beds, baths, has_basement):\n",
    "    value = (beds*30000)+(baths*10000)+80000+(has_basement*40000)\n",
    "    return value\n",
    "\n",
    "# Check your answer \n",
    "q3.check()"
   ]
  },
  {
   "cell_type": "code",
   "execution_count": 8,
   "id": "c2f30064",
   "metadata": {
    "execution": {
     "iopub.execute_input": "2025-06-11T12:06:44.968827Z",
     "iopub.status.busy": "2025-06-11T12:06:44.968474Z",
     "iopub.status.idle": "2025-06-11T12:06:44.973608Z",
     "shell.execute_reply": "2025-06-11T12:06:44.972476Z"
    },
    "papermill": {
     "duration": 0.013569,
     "end_time": "2025-06-11T12:06:44.975428",
     "exception": false,
     "start_time": "2025-06-11T12:06:44.961859",
     "status": "completed"
    },
    "tags": []
   },
   "outputs": [],
   "source": [
    "# Uncomment to see a hint\n",
    "#q3.hint()\n",
    "\n",
    "# Uncomment to view the solution\n",
    "#q3.solution()"
   ]
  },
  {
   "cell_type": "markdown",
   "id": "e7a6f500",
   "metadata": {
    "papermill": {
     "duration": 0.005087,
     "end_time": "2025-06-11T12:06:44.986181",
     "exception": false,
     "start_time": "2025-06-11T12:06:44.981094",
     "status": "completed"
    },
    "tags": []
   },
   "source": [
    "# Question 4\n",
    "\n",
    "We'll continue our study of boolean arithmetic.  For this question, your task is to provide a description of what happpens when you add booleans. \n",
    "\n",
    "Use the next code cell for your investigation.  Feel free to add or remove any lines of code - use it as your workspace!"
   ]
  },
  {
   "cell_type": "code",
   "execution_count": 9,
   "id": "f2ba2138",
   "metadata": {
    "execution": {
     "iopub.execute_input": "2025-06-11T12:06:44.998940Z",
     "iopub.status.busy": "2025-06-11T12:06:44.997926Z",
     "iopub.status.idle": "2025-06-11T12:06:45.003565Z",
     "shell.execute_reply": "2025-06-11T12:06:45.002557Z"
    },
    "papermill": {
     "duration": 0.013798,
     "end_time": "2025-06-11T12:06:45.005493",
     "exception": false,
     "start_time": "2025-06-11T12:06:44.991695",
     "status": "completed"
    },
    "tags": []
   },
   "outputs": [
    {
     "name": "stdout",
     "output_type": "stream",
     "text": [
      "0\n",
      "1\n",
      "1\n",
      "2\n",
      "3\n"
     ]
    }
   ],
   "source": [
    "print(False + False)\n",
    "print(True + False)\n",
    "print(False + True)\n",
    "print(True + True)\n",
    "print(False + True + True + True)"
   ]
  },
  {
   "cell_type": "markdown",
   "id": "e59094f1",
   "metadata": {
    "papermill": {
     "duration": 0.005174,
     "end_time": "2025-06-11T12:06:45.016233",
     "exception": false,
     "start_time": "2025-06-11T12:06:45.011059",
     "status": "completed"
    },
    "tags": []
   },
   "source": [
    "Once you have an answer, run the code cell below to see the solution.  Viewing the solution will give you credit for answering the problem."
   ]
  },
  {
   "cell_type": "code",
   "execution_count": 10,
   "id": "01a6e542",
   "metadata": {
    "execution": {
     "iopub.execute_input": "2025-06-11T12:06:45.028174Z",
     "iopub.status.busy": "2025-06-11T12:06:45.027843Z",
     "iopub.status.idle": "2025-06-11T12:06:45.035916Z",
     "shell.execute_reply": "2025-06-11T12:06:45.034886Z"
    },
    "papermill": {
     "duration": 0.015929,
     "end_time": "2025-06-11T12:06:45.037606",
     "exception": false,
     "start_time": "2025-06-11T12:06:45.021677",
     "status": "completed"
    },
    "tags": []
   },
   "outputs": [
    {
     "data": {
      "application/javascript": [
       "parent.postMessage({\"jupyterEvent\": \"custom.exercise_interaction\", \"data\": {\"outcomeType\": 1, \"valueTowardsCompletion\": 0.2, \"interactionType\": 1, \"questionType\": 4, \"questionId\": \"4_AddingBooleans\", \"learnToolsVersion\": \"0.3.5\", \"failureMessage\": \"\", \"exceptionClass\": \"\", \"trace\": \"\"}}, \"*\")"
      ],
      "text/plain": [
       "<IPython.core.display.Javascript object>"
      ]
     },
     "metadata": {},
     "output_type": "display_data"
    },
    {
     "data": {
      "text/markdown": [
       "<span style=\"color:#33cc33\">Correct:</span> \n",
       "\n",
       "When you add booleans, adding `False` is equivalent to adding 0, and adding `True` is equivalent to adding 1."
      ],
      "text/plain": [
       "Correct: \n",
       "\n",
       "When you add booleans, adding `False` is equivalent to adding 0, and adding `True` is equivalent to adding 1."
      ]
     },
     "metadata": {},
     "output_type": "display_data"
    }
   ],
   "source": [
    "# Check your answer (Run this code cell to receive credit!)\n",
    "q4.check()"
   ]
  },
  {
   "cell_type": "markdown",
   "id": "7df9dce6",
   "metadata": {
    "papermill": {
     "duration": 0.005273,
     "end_time": "2025-06-11T12:06:45.048653",
     "exception": false,
     "start_time": "2025-06-11T12:06:45.043380",
     "status": "completed"
    },
    "tags": []
   },
   "source": [
    "# 🌶️ Question 5\n",
    "\n",
    "You own an online shop where you sell rings with custom engravings.  You offer both gold plated and solid gold rings.\n",
    "- Gold plated rings have a base cost of \\\\$50, and you charge \\\\$7 per engraved unit.  \n",
    "- Solid gold rings have a base cost of \\\\$100, and you charge \\\\$10 per engraved unit.\n",
    "- Spaces and punctuation are counted as engraved units.\n",
    "\n",
    "Write a function `cost_of_project()` that takes two arguments:\n",
    "- `engraving` - a Python string with the text of the engraving\n",
    "- `solid_gold` - a Boolean that indicates whether the ring is solid gold\n",
    "\n",
    "It should return the cost of the project.  This question should be fairly challenging, and you may need a hint."
   ]
  },
  {
   "cell_type": "code",
   "execution_count": 11,
   "id": "3788f0d1",
   "metadata": {
    "execution": {
     "iopub.execute_input": "2025-06-11T12:06:45.061348Z",
     "iopub.status.busy": "2025-06-11T12:06:45.060986Z",
     "iopub.status.idle": "2025-06-11T12:06:45.069612Z",
     "shell.execute_reply": "2025-06-11T12:06:45.068723Z"
    },
    "papermill": {
     "duration": 0.016699,
     "end_time": "2025-06-11T12:06:45.071327",
     "exception": false,
     "start_time": "2025-06-11T12:06:45.054628",
     "status": "completed"
    },
    "tags": []
   },
   "outputs": [
    {
     "data": {
      "application/javascript": [
       "parent.postMessage({\"jupyterEvent\": \"custom.exercise_interaction\", \"data\": {\"outcomeType\": 1, \"valueTowardsCompletion\": 0.2, \"interactionType\": 1, \"questionType\": 2, \"questionId\": \"5_CustomEngravings\", \"learnToolsVersion\": \"0.3.5\", \"failureMessage\": \"\", \"exceptionClass\": \"\", \"trace\": \"\"}}, \"*\")"
      ],
      "text/plain": [
       "<IPython.core.display.Javascript object>"
      ]
     },
     "metadata": {},
     "output_type": "display_data"
    },
    {
     "data": {
      "text/markdown": [
       "<span style=\"color:#33cc33\">Correct</span>"
      ],
      "text/plain": [
       "Correct"
      ]
     },
     "metadata": {},
     "output_type": "display_data"
    }
   ],
   "source": [
    "def cost_of_project(engraving, solid_gold):\n",
    "    if solid_gold:\n",
    "        cost = 100 + len(engraving) * 10\n",
    "    else:\n",
    "        cost = 50 + len(engraving) * 7\n",
    "    return cost\n",
    "\n",
    "# Check your answer\n",
    "q5.check()"
   ]
  },
  {
   "cell_type": "code",
   "execution_count": 12,
   "id": "9d5833ed",
   "metadata": {
    "execution": {
     "iopub.execute_input": "2025-06-11T12:06:45.086058Z",
     "iopub.status.busy": "2025-06-11T12:06:45.085697Z",
     "iopub.status.idle": "2025-06-11T12:06:45.094248Z",
     "shell.execute_reply": "2025-06-11T12:06:45.093261Z"
    },
    "papermill": {
     "duration": 0.018552,
     "end_time": "2025-06-11T12:06:45.096067",
     "exception": false,
     "start_time": "2025-06-11T12:06:45.077515",
     "status": "completed"
    },
    "tags": []
   },
   "outputs": [
    {
     "data": {
      "application/javascript": [
       "parent.postMessage({\"jupyterEvent\": \"custom.exercise_interaction\", \"data\": {\"interactionType\": 2, \"questionType\": 2, \"questionId\": \"5_CustomEngravings\", \"learnToolsVersion\": \"0.3.5\", \"valueTowardsCompletion\": 0.0, \"failureMessage\": \"\", \"exceptionClass\": \"\", \"trace\": \"\", \"outcomeType\": 4}}, \"*\")"
      ],
      "text/plain": [
       "<IPython.core.display.Javascript object>"
      ]
     },
     "metadata": {},
     "output_type": "display_data"
    },
    {
     "data": {
      "text/markdown": [
       "<span style=\"color:#3366cc\">Hint:</span> There are two options - either the project uses solid gold or does not.  With this in mind, you can structure your solution like this: `cost = solid_gold * ____ + (not solid_gold) * ____`.  You need to figure out how to fill in the blanks. Also, remember that:\n",
       "- If `solid_gold = True`, then `(not solid_gold) = False`, and if `solid_gold = False`, then `(not solid_gold) = True`.\n",
       "- Multiplying an integer by `True` is equivalent to multiplying it by 1, and multiplying an integer by `False` is equivalent to multiplying it by 0."
      ],
      "text/plain": [
       "Hint: There are two options - either the project uses solid gold or does not.  With this in mind, you can structure your solution like this: `cost = solid_gold * ____ + (not solid_gold) * ____`.  You need to figure out how to fill in the blanks. Also, remember that:\n",
       "- If `solid_gold = True`, then `(not solid_gold) = False`, and if `solid_gold = False`, then `(not solid_gold) = True`.\n",
       "- Multiplying an integer by `True` is equivalent to multiplying it by 1, and multiplying an integer by `False` is equivalent to multiplying it by 0."
      ]
     },
     "metadata": {},
     "output_type": "display_data"
    }
   ],
   "source": [
    "# Uncomment to see a hint\n",
    "q5.hint()\n",
    "\n",
    "# Uncomment to view the solution\n",
    "#q5.solution()"
   ]
  },
  {
   "cell_type": "markdown",
   "id": "97aea805",
   "metadata": {
    "papermill": {
     "duration": 0.005952,
     "end_time": "2025-06-11T12:06:45.108437",
     "exception": false,
     "start_time": "2025-06-11T12:06:45.102485",
     "status": "completed"
    },
    "tags": []
   },
   "source": [
    "Run the next code cell to calculate the cost of engraving `Charlie+Denver` on a solid gold ring."
   ]
  },
  {
   "cell_type": "code",
   "execution_count": 13,
   "id": "45908f47",
   "metadata": {
    "execution": {
     "iopub.execute_input": "2025-06-11T12:06:45.122372Z",
     "iopub.status.busy": "2025-06-11T12:06:45.121842Z",
     "iopub.status.idle": "2025-06-11T12:06:45.127395Z",
     "shell.execute_reply": "2025-06-11T12:06:45.126347Z"
    },
    "papermill": {
     "duration": 0.014139,
     "end_time": "2025-06-11T12:06:45.129151",
     "exception": false,
     "start_time": "2025-06-11T12:06:45.115012",
     "status": "completed"
    },
    "tags": []
   },
   "outputs": [
    {
     "name": "stdout",
     "output_type": "stream",
     "text": [
      "240\n"
     ]
    }
   ],
   "source": [
    "project_one = cost_of_project(\"Charlie+Denver\", True)\n",
    "print(project_one)"
   ]
  },
  {
   "cell_type": "markdown",
   "id": "fb5c68b3",
   "metadata": {
    "papermill": {
     "duration": 0.005945,
     "end_time": "2025-06-11T12:06:45.141962",
     "exception": false,
     "start_time": "2025-06-11T12:06:45.136017",
     "status": "completed"
    },
    "tags": []
   },
   "source": [
    "Use the next code cell to calculate the cost of engraving `08/10/2000` on a gold plated ring."
   ]
  },
  {
   "cell_type": "code",
   "execution_count": 14,
   "id": "19f00554",
   "metadata": {
    "execution": {
     "iopub.execute_input": "2025-06-11T12:06:45.155305Z",
     "iopub.status.busy": "2025-06-11T12:06:45.154797Z",
     "iopub.status.idle": "2025-06-11T12:06:45.159892Z",
     "shell.execute_reply": "2025-06-11T12:06:45.158829Z"
    },
    "papermill": {
     "duration": 0.013584,
     "end_time": "2025-06-11T12:06:45.161447",
     "exception": false,
     "start_time": "2025-06-11T12:06:45.147863",
     "status": "completed"
    },
    "tags": []
   },
   "outputs": [
    {
     "name": "stdout",
     "output_type": "stream",
     "text": [
      "120\n"
     ]
    }
   ],
   "source": [
    "project_two = cost_of_project(\"08/10/2000\", False)\n",
    "print(project_two)"
   ]
  },
  {
   "cell_type": "markdown",
   "id": "499e5693",
   "metadata": {
    "papermill": {
     "duration": 0.006518,
     "end_time": "2025-06-11T12:06:45.174327",
     "exception": false,
     "start_time": "2025-06-11T12:06:45.167809",
     "status": "completed"
    },
    "tags": []
   },
   "source": [
    "# Keep going\n",
    "\n",
    "Continue to the next lesson to **[learn about conditions and conditional statements](https://www.kaggle.com/alexisbcook/conditions-and-conditional-statements)**."
   ]
  },
  {
   "cell_type": "markdown",
   "id": "ebae5ac8",
   "metadata": {
    "papermill": {
     "duration": 0.005886,
     "end_time": "2025-06-11T12:06:45.186319",
     "exception": false,
     "start_time": "2025-06-11T12:06:45.180433",
     "status": "completed"
    },
    "tags": []
   },
   "source": [
    "---\n",
    "\n",
    "\n",
    "\n",
    "\n",
    "*Have questions or comments? Visit the [course discussion forum](https://www.kaggle.com/learn/intro-to-programming/discussion) to chat with other learners.*"
   ]
  }
 ],
 "metadata": {
  "kaggle": {
   "accelerator": "none",
   "dataSources": [],
   "isGpuEnabled": false,
   "isInternetEnabled": false,
   "language": "python",
   "sourceType": "notebook"
  },
  "kernelspec": {
   "display_name": "Python 3",
   "language": "python",
   "name": "python3"
  },
  "language_info": {
   "codemirror_mode": {
    "name": "ipython",
    "version": 3
   },
   "file_extension": ".py",
   "mimetype": "text/x-python",
   "name": "python",
   "nbconvert_exporter": "python",
   "pygments_lexer": "ipython3",
   "version": "3.11.11"
  },
  "papermill": {
   "default_parameters": {},
   "duration": 9.273536,
   "end_time": "2025-06-11T12:06:45.813860",
   "environment_variables": {},
   "exception": null,
   "input_path": "__notebook__.ipynb",
   "output_path": "__notebook__.ipynb",
   "parameters": {},
   "start_time": "2025-06-11T12:06:36.540324",
   "version": "2.3.3"
  }
 },
 "nbformat": 4,
 "nbformat_minor": 5
}
