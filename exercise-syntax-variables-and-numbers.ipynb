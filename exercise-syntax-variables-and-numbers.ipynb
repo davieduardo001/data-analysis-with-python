{
 "cells": [
  {
   "cell_type": "markdown",
   "id": "eb44ac7d",
   "metadata": {
    "papermill": {
     "duration": 0.005729,
     "end_time": "2025-06-15T22:10:35.901296",
     "exception": false,
     "start_time": "2025-06-15T22:10:35.895567",
     "status": "completed"
    },
    "tags": []
   },
   "source": [
    "**This notebook is an exercise in the [Python](https://www.kaggle.com/learn/python) course.  You can reference the tutorial at [this link](https://www.kaggle.com/colinmorris/hello-python).**\n",
    "\n",
    "---\n"
   ]
  },
  {
   "cell_type": "markdown",
   "id": "eb853f46",
   "metadata": {
    "papermill": {
     "duration": 0.004009,
     "end_time": "2025-06-15T22:10:35.909834",
     "exception": false,
     "start_time": "2025-06-15T22:10:35.905825",
     "status": "completed"
    },
    "tags": []
   },
   "source": [
    "Welcome to your first set of Python coding problems.  If this is your first time using Kaggle Notebooks, welcome! \n",
    "\n",
    "Notebooks are composed of blocks (called \"cells\") of text and code. Each of these is editable, though you'll mainly be editing the code cells to answer some questions.\n",
    "\n",
    "To get started, try running the code cell below (by pressing the ► button, or clicking on the cell and pressing ctrl+enter on your keyboard)."
   ]
  },
  {
   "cell_type": "code",
   "execution_count": 1,
   "id": "399826cc",
   "metadata": {
    "execution": {
     "iopub.execute_input": "2025-06-15T22:10:35.921053Z",
     "iopub.status.busy": "2025-06-15T22:10:35.920000Z",
     "iopub.status.idle": "2025-06-15T22:10:35.929184Z",
     "shell.execute_reply": "2025-06-15T22:10:35.927975Z"
    },
    "papermill": {
     "duration": 0.016407,
     "end_time": "2025-06-15T22:10:35.930682",
     "exception": false,
     "start_time": "2025-06-15T22:10:35.914275",
     "status": "completed"
    },
    "tags": []
   },
   "outputs": [
    {
     "name": "stdout",
     "output_type": "stream",
     "text": [
      "You've successfully run some Python code\n",
      "Congratulations!\n"
     ]
    }
   ],
   "source": [
    "print(\"You've successfully run some Python code\")\n",
    "print(\"Congratulations!\")"
   ]
  },
  {
   "cell_type": "markdown",
   "id": "a1dc8463",
   "metadata": {
    "papermill": {
     "duration": 0.00412,
     "end_time": "2025-06-15T22:10:35.939358",
     "exception": false,
     "start_time": "2025-06-15T22:10:35.935238",
     "status": "completed"
    },
    "tags": []
   },
   "source": [
    "Try adding another line of code in the cell above and re-running it. \n",
    "\n",
    "Now let's get a little fancier:  Add a new code cell by clicking on an existing code cell, hitting the escape key, and then hitting the `a` or `b` key.  The `a` key will add a cell above the current cell, and `b` adds a cell below.\n",
    "\n",
    "Great! Now you know how to use Notebooks.\n",
    "\n",
    "Each hands-on exercise starts by setting up our feedback and code checking mechanism. Run the code cell below to do that. Then you'll be ready to move on to question 0."
   ]
  },
  {
   "cell_type": "code",
   "execution_count": 2,
   "id": "97e8e3e0",
   "metadata": {
    "_kg_hide-input": true,
    "_kg_hide-output": true,
    "execution": {
     "iopub.execute_input": "2025-06-15T22:10:35.949446Z",
     "iopub.status.busy": "2025-06-15T22:10:35.948809Z",
     "iopub.status.idle": "2025-06-15T22:10:37.990980Z",
     "shell.execute_reply": "2025-06-15T22:10:37.989503Z"
    },
    "papermill": {
     "duration": 2.049869,
     "end_time": "2025-06-15T22:10:37.993497",
     "exception": false,
     "start_time": "2025-06-15T22:10:35.943628",
     "status": "completed"
    },
    "tags": []
   },
   "outputs": [
    {
     "name": "stdout",
     "output_type": "stream",
     "text": [
      "Setup complete! You're ready to start question 0.\n"
     ]
    }
   ],
   "source": [
    "from learntools.core import binder; binder.bind(globals())\n",
    "from learntools.python.ex1 import *\n",
    "print(\"Setup complete! You're ready to start question 0.\")"
   ]
  },
  {
   "cell_type": "markdown",
   "id": "93d1abc9",
   "metadata": {
    "papermill": {
     "duration": 0.004554,
     "end_time": "2025-06-15T22:10:38.003741",
     "exception": false,
     "start_time": "2025-06-15T22:10:37.999187",
     "status": "completed"
    },
    "tags": []
   },
   "source": [
    "# 0.\n",
    "\n",
    "*This is a silly question intended as an introduction to the format we use for hands-on exercises throughout all Kaggle courses.*\n",
    "\n",
    "**What is your favorite color? **\n",
    "\n",
    "To complete this question, create a variable called `color` in the cell below with an appropriate value. The function call `q0.check()` (which we've already provided in the cell below) will check your answer."
   ]
  },
  {
   "cell_type": "code",
   "execution_count": 3,
   "id": "652f8054",
   "metadata": {
    "execution": {
     "iopub.execute_input": "2025-06-15T22:10:38.015304Z",
     "iopub.status.busy": "2025-06-15T22:10:38.014830Z",
     "iopub.status.idle": "2025-06-15T22:10:38.023534Z",
     "shell.execute_reply": "2025-06-15T22:10:38.022601Z"
    },
    "papermill": {
     "duration": 0.01623,
     "end_time": "2025-06-15T22:10:38.024894",
     "exception": false,
     "start_time": "2025-06-15T22:10:38.008664",
     "status": "completed"
    },
    "tags": []
   },
   "outputs": [
    {
     "data": {
      "application/javascript": [
       "parent.postMessage({\"jupyterEvent\": \"custom.exercise_interaction\", \"data\": {\"outcomeType\": 1, \"valueTowardsCompletion\": 0.25, \"interactionType\": 1, \"questionType\": 2, \"questionId\": \"0_ExerciseFormatTutorial\", \"learnToolsVersion\": \"0.3.5\", \"failureMessage\": \"\", \"exceptionClass\": \"\", \"trace\": \"\"}}, \"*\")"
      ],
      "text/plain": [
       "<IPython.core.display.Javascript object>"
      ]
     },
     "metadata": {},
     "output_type": "display_data"
    },
    {
     "data": {
      "text/markdown": [
       "<span style=\"color:#33cc33\">Correct:</span> What?! You got it right without needing a hint or anything? Drats. Well hey, you should still continue to the next step to get some practice asking for a hint and checking solutions. (Even though you obviously don't need any help here.)"
      ],
      "text/plain": [
       "Correct: What?! You got it right without needing a hint or anything? Drats. Well hey, you should still continue to the next step to get some practice asking for a hint and checking solutions. (Even though you obviously don't need any help here.)"
      ]
     },
     "metadata": {},
     "output_type": "display_data"
    }
   ],
   "source": [
    "# create a variable called color with an appropriate value on the line below\n",
    "# (Remember, strings in Python must be enclosed in 'single' or \"double\" quotes)\n",
    "color = 'blue'\n",
    "\n",
    "# Check your answer\n",
    "q0.check()"
   ]
  },
  {
   "cell_type": "markdown",
   "id": "5c566cf9",
   "metadata": {
    "papermill": {
     "duration": 0.004674,
     "end_time": "2025-06-15T22:10:38.034832",
     "exception": false,
     "start_time": "2025-06-15T22:10:38.030158",
     "status": "completed"
    },
    "tags": []
   },
   "source": [
    "Didn't get the right answer? How do you not even know your own favorite color?!\n",
    "\n",
    "Delete the `#` in the line below to make one of the lines run. You can choose between getting a hint or the full answer by choosing which line to remove the `#` from. \n",
    "\n",
    "Removing the `#` is called uncommenting, because it changes that line from a \"comment\" which Python doesn't run to code, which Python does run."
   ]
  },
  {
   "cell_type": "code",
   "execution_count": 4,
   "id": "453e5800",
   "metadata": {
    "execution": {
     "iopub.execute_input": "2025-06-15T22:10:38.044602Z",
     "iopub.status.busy": "2025-06-15T22:10:38.044322Z",
     "iopub.status.idle": "2025-06-15T22:10:38.047832Z",
     "shell.execute_reply": "2025-06-15T22:10:38.047144Z"
    },
    "papermill": {
     "duration": 0.010275,
     "end_time": "2025-06-15T22:10:38.049497",
     "exception": false,
     "start_time": "2025-06-15T22:10:38.039222",
     "status": "completed"
    },
    "tags": []
   },
   "outputs": [],
   "source": [
    "#q0.hint()\n",
    "#q0.solution()"
   ]
  },
  {
   "cell_type": "markdown",
   "id": "45a0a227",
   "metadata": {
    "papermill": {
     "duration": 0.004256,
     "end_time": "2025-06-15T22:10:38.058697",
     "exception": false,
     "start_time": "2025-06-15T22:10:38.054441",
     "status": "completed"
    },
    "tags": []
   },
   "source": [
    "The upcoming questions work the same way. The only thing that will change are the question numbers. For the next question, you'll call `q1.check()`, `q1.hint()`, `q1.solution()`, for question 2, you'll call `q2.check()`, and so on."
   ]
  },
  {
   "cell_type": "markdown",
   "id": "3a1927fe",
   "metadata": {
    "papermill": {
     "duration": 0.004148,
     "end_time": "2025-06-15T22:10:38.067114",
     "exception": false,
     "start_time": "2025-06-15T22:10:38.062966",
     "status": "completed"
    },
    "tags": []
   },
   "source": [
    "<hr/>\n",
    "\n",
    "# 1.\n",
    "\n",
    "Complete the code below. In case it's helpful, here is the table of available arithmetic operations:\n",
    "\n",
    "\n",
    "\n",
    "| Operator     | Name           | Description                                            |\n",
    "|--------------|----------------|--------------------------------------------------------|\n",
    "| ``a + b``    | Addition       | Sum of ``a`` and ``b``                                 |\n",
    "| ``a - b``    | Subtraction    | Difference of ``a`` and ``b``                          |\n",
    "| ``a * b``    | Multiplication | Product of ``a`` and ``b``                             |\n",
    "| ``a / b``    | True division  | Quotient of ``a`` and ``b``                            |\n",
    "| ``a // b``   | Floor division | Quotient of ``a`` and ``b``, removing fractional parts |\n",
    "| ``a % b``    | Modulus        | Integer remainder after division of ``a`` by ``b``     |\n",
    "| ``a ** b``   | Exponentiation | ``a`` raised to the power of ``b``                     |\n",
    "| ``-a``       | Negation       | The negative of ``a``                                  |\n",
    "\n",
    "<span style=\"display:none\"></span>\n"
   ]
  },
  {
   "cell_type": "code",
   "execution_count": 5,
   "id": "6acc7429",
   "metadata": {
    "execution": {
     "iopub.execute_input": "2025-06-15T22:10:38.077394Z",
     "iopub.status.busy": "2025-06-15T22:10:38.077133Z",
     "iopub.status.idle": "2025-06-15T22:10:38.084298Z",
     "shell.execute_reply": "2025-06-15T22:10:38.083561Z"
    },
    "papermill": {
     "duration": 0.014162,
     "end_time": "2025-06-15T22:10:38.085517",
     "exception": false,
     "start_time": "2025-06-15T22:10:38.071355",
     "status": "completed"
    },
    "tags": []
   },
   "outputs": [
    {
     "data": {
      "application/javascript": [
       "parent.postMessage({\"jupyterEvent\": \"custom.exercise_interaction\", \"data\": {\"outcomeType\": 1, \"valueTowardsCompletion\": 0.25, \"interactionType\": 1, \"questionType\": 1, \"questionId\": \"1_CircleArea\", \"learnToolsVersion\": \"0.3.5\", \"failureMessage\": \"\", \"exceptionClass\": \"\", \"trace\": \"\"}}, \"*\")"
      ],
      "text/plain": [
       "<IPython.core.display.Javascript object>"
      ]
     },
     "metadata": {},
     "output_type": "display_data"
    },
    {
     "data": {
      "text/markdown": [
       "<span style=\"color:#33cc33\">Correct</span>"
      ],
      "text/plain": [
       "Correct"
      ]
     },
     "metadata": {},
     "output_type": "display_data"
    }
   ],
   "source": [
    "pi = 3.14159 # approximate\n",
    "diameter = 3\n",
    "\n",
    "# Create a variable called 'radius' equal to half the diameter\n",
    "radius = diameter/2\n",
    "\n",
    "# Create a variable called 'area', using the formula for the area of a circle: pi times the radius squared\n",
    "area = pi*(radius*radius)\n",
    "\n",
    "# Check your answer\n",
    "q1.check()"
   ]
  },
  {
   "cell_type": "code",
   "execution_count": 6,
   "id": "c0fe1578",
   "metadata": {
    "execution": {
     "iopub.execute_input": "2025-06-15T22:10:38.095387Z",
     "iopub.status.busy": "2025-06-15T22:10:38.095153Z",
     "iopub.status.idle": "2025-06-15T22:10:38.098803Z",
     "shell.execute_reply": "2025-06-15T22:10:38.098098Z"
    },
    "papermill": {
     "duration": 0.009972,
     "end_time": "2025-06-15T22:10:38.100033",
     "exception": false,
     "start_time": "2025-06-15T22:10:38.090061",
     "status": "completed"
    },
    "tags": []
   },
   "outputs": [],
   "source": [
    "# Uncomment and run the lines below if you need help.\n",
    "#q1.hint()\n",
    "#q1.solution()"
   ]
  },
  {
   "cell_type": "markdown",
   "id": "64fea13b",
   "metadata": {
    "papermill": {
     "duration": 0.004365,
     "end_time": "2025-06-15T22:10:38.109039",
     "exception": false,
     "start_time": "2025-06-15T22:10:38.104674",
     "status": "completed"
    },
    "tags": []
   },
   "source": [
    "<hr/>\n",
    "\n",
    "# 2.\n",
    "\n",
    "Add code to the following cell to swap variables `a` and `b` (so that `a` refers to the object previously referred to by `b` and vice versa)."
   ]
  },
  {
   "cell_type": "code",
   "execution_count": 7,
   "id": "cb5e4b96",
   "metadata": {
    "execution": {
     "iopub.execute_input": "2025-06-15T22:10:38.118927Z",
     "iopub.status.busy": "2025-06-15T22:10:38.118696Z",
     "iopub.status.idle": "2025-06-15T22:10:38.127154Z",
     "shell.execute_reply": "2025-06-15T22:10:38.126166Z"
    },
    "papermill": {
     "duration": 0.015423,
     "end_time": "2025-06-15T22:10:38.128930",
     "exception": false,
     "start_time": "2025-06-15T22:10:38.113507",
     "status": "completed"
    },
    "tags": []
   },
   "outputs": [
    {
     "data": {
      "application/javascript": [
       "parent.postMessage({\"jupyterEvent\": \"custom.exercise_interaction\", \"data\": {\"outcomeType\": 1, \"valueTowardsCompletion\": 0.25, \"interactionType\": 1, \"questionType\": 2, \"questionId\": \"2_VariableSwap\", \"learnToolsVersion\": \"0.3.5\", \"failureMessage\": \"\", \"exceptionClass\": \"\", \"trace\": \"\"}}, \"*\")"
      ],
      "text/plain": [
       "<IPython.core.display.Javascript object>"
      ]
     },
     "metadata": {},
     "output_type": "display_data"
    },
    {
     "data": {
      "text/markdown": [
       "<span style=\"color:#33cc33\">Correct:</span> \n",
       "\n",
       "The most straightforward solution is to use a third variable to temporarily store one of the old values. e.g.:\n",
       "\n",
       "    tmp = a\n",
       "    a = b\n",
       "    b = tmp\n",
       "\n",
       "If you've read lots of Python code, you might have seen the following trick to swap two variables in one line:\n",
       "\n",
       "    a, b = b, a\n",
       "\n",
       "We'll demystify this bit of Python magic later when we talk about *tuples*."
      ],
      "text/plain": [
       "Correct: \n",
       "\n",
       "The most straightforward solution is to use a third variable to temporarily store one of the old values. e.g.:\n",
       "\n",
       "    tmp = a\n",
       "    a = b\n",
       "    b = tmp\n",
       "\n",
       "If you've read lots of Python code, you might have seen the following trick to swap two variables in one line:\n",
       "\n",
       "    a, b = b, a\n",
       "\n",
       "We'll demystify this bit of Python magic later when we talk about *tuples*."
      ]
     },
     "metadata": {},
     "output_type": "display_data"
    }
   ],
   "source": [
    "########### Setup code - don't touch this part ######################\n",
    "# If you're curious, these are examples of lists. We'll talk about \n",
    "# them in depth a few lessons from now. For now, just know that they're\n",
    "# yet another type of Python object, like int or float.\n",
    "a = [1, 2, 3]\n",
    "b = [3, 2, 1]\n",
    "q2.store_original_ids()\n",
    "######################################################################\n",
    "\n",
    "# Your code goes here. Swap the values to which a and b refer.\n",
    "# If you get stuck, you can always uncomment one or both of the lines in\n",
    "# the next cell for a hint, or to peek at the solution.\n",
    "c = a\n",
    "a = b\n",
    "b = c\n",
    "######################################################################\n",
    "\n",
    "# Check your answer\n",
    "q2.check()"
   ]
  },
  {
   "cell_type": "code",
   "execution_count": 8,
   "id": "31b7099e",
   "metadata": {
    "execution": {
     "iopub.execute_input": "2025-06-15T22:10:38.145612Z",
     "iopub.status.busy": "2025-06-15T22:10:38.145320Z",
     "iopub.status.idle": "2025-06-15T22:10:38.149352Z",
     "shell.execute_reply": "2025-06-15T22:10:38.148486Z"
    },
    "papermill": {
     "duration": 0.01341,
     "end_time": "2025-06-15T22:10:38.150814",
     "exception": false,
     "start_time": "2025-06-15T22:10:38.137404",
     "status": "completed"
    },
    "tags": []
   },
   "outputs": [],
   "source": [
    "#q2.hint()"
   ]
  },
  {
   "cell_type": "code",
   "execution_count": 9,
   "id": "6cd5618e",
   "metadata": {
    "execution": {
     "iopub.execute_input": "2025-06-15T22:10:38.165237Z",
     "iopub.status.busy": "2025-06-15T22:10:38.164924Z",
     "iopub.status.idle": "2025-06-15T22:10:38.169053Z",
     "shell.execute_reply": "2025-06-15T22:10:38.168133Z"
    },
    "papermill": {
     "duration": 0.012283,
     "end_time": "2025-06-15T22:10:38.170485",
     "exception": false,
     "start_time": "2025-06-15T22:10:38.158202",
     "status": "completed"
    },
    "tags": []
   },
   "outputs": [],
   "source": [
    "#q2.solution()"
   ]
  },
  {
   "cell_type": "markdown",
   "id": "0929109e",
   "metadata": {
    "papermill": {
     "duration": 0.006231,
     "end_time": "2025-06-15T22:10:38.181564",
     "exception": false,
     "start_time": "2025-06-15T22:10:38.175333",
     "status": "completed"
    },
    "tags": []
   },
   "source": [
    "<hr/>\n",
    "\n",
    "# 3a.\n",
    "\n",
    "Add parentheses to the following expression so that it evaluates to 1."
   ]
  },
  {
   "cell_type": "code",
   "execution_count": 10,
   "id": "ec7b0bfa",
   "metadata": {
    "execution": {
     "iopub.execute_input": "2025-06-15T22:10:38.192466Z",
     "iopub.status.busy": "2025-06-15T22:10:38.192177Z",
     "iopub.status.idle": "2025-06-15T22:10:38.197426Z",
     "shell.execute_reply": "2025-06-15T22:10:38.196718Z"
    },
    "papermill": {
     "duration": 0.012321,
     "end_time": "2025-06-15T22:10:38.198834",
     "exception": false,
     "start_time": "2025-06-15T22:10:38.186513",
     "status": "completed"
    },
    "tags": []
   },
   "outputs": [
    {
     "data": {
      "text/plain": [
       "1"
      ]
     },
     "execution_count": 10,
     "metadata": {},
     "output_type": "execute_result"
    }
   ],
   "source": [
    "(5 - 3) // 2"
   ]
  },
  {
   "cell_type": "code",
   "execution_count": 11,
   "id": "d573e04a",
   "metadata": {
    "execution": {
     "iopub.execute_input": "2025-06-15T22:10:38.210287Z",
     "iopub.status.busy": "2025-06-15T22:10:38.210001Z",
     "iopub.status.idle": "2025-06-15T22:10:38.213727Z",
     "shell.execute_reply": "2025-06-15T22:10:38.212906Z"
    },
    "papermill": {
     "duration": 0.010795,
     "end_time": "2025-06-15T22:10:38.215053",
     "exception": false,
     "start_time": "2025-06-15T22:10:38.204258",
     "status": "completed"
    },
    "tags": []
   },
   "outputs": [],
   "source": [
    "#q3.a.hint()"
   ]
  },
  {
   "cell_type": "code",
   "execution_count": 12,
   "id": "b0c0663d",
   "metadata": {
    "execution": {
     "iopub.execute_input": "2025-06-15T22:10:38.226416Z",
     "iopub.status.busy": "2025-06-15T22:10:38.226183Z",
     "iopub.status.idle": "2025-06-15T22:10:38.233568Z",
     "shell.execute_reply": "2025-06-15T22:10:38.232813Z"
    },
    "papermill": {
     "duration": 0.014484,
     "end_time": "2025-06-15T22:10:38.234955",
     "exception": false,
     "start_time": "2025-06-15T22:10:38.220471",
     "status": "completed"
    },
    "tags": []
   },
   "outputs": [
    {
     "data": {
      "application/javascript": [
       "parent.postMessage({\"jupyterEvent\": \"custom.exercise_interaction\", \"data\": {\"interactionType\": 3, \"questionType\": 4, \"questionId\": \"3.1_ArithmeticParensEasy\", \"learnToolsVersion\": \"0.3.5\", \"valueTowardsCompletion\": 0.0, \"failureMessage\": \"\", \"exceptionClass\": \"\", \"trace\": \"\", \"outcomeType\": 4}}, \"*\")"
      ],
      "text/plain": [
       "<IPython.core.display.Javascript object>"
      ]
     },
     "metadata": {},
     "output_type": "display_data"
    },
    {
     "data": {
      "text/markdown": [
       "<span style=\"color:#33cc99\">Solution:</span> \n",
       "```python\n",
       "(5 - 3) // 2\n",
       "```"
      ],
      "text/plain": [
       "Solution: \n",
       "```python\n",
       "(5 - 3) // 2\n",
       "```"
      ]
     },
     "metadata": {},
     "output_type": "display_data"
    }
   ],
   "source": [
    "# Check your answer (Run this code cell to receive credit!)\n",
    "q3.a.solution()"
   ]
  },
  {
   "cell_type": "markdown",
   "id": "c6e758e3",
   "metadata": {
    "papermill": {
     "duration": 0.00486,
     "end_time": "2025-06-15T22:10:38.245213",
     "exception": false,
     "start_time": "2025-06-15T22:10:38.240353",
     "status": "completed"
    },
    "tags": []
   },
   "source": [
    "# 3b.  <span title=\"A bit spicy\" style=\"color: darkgreen \">🌶️</span>\n",
    "\n",
    "<small>Questions, like this one, marked a spicy pepper are a bit harder.</small>\n",
    "\n",
    "Add parentheses to the following expression so that it evaluates to 0."
   ]
  },
  {
   "cell_type": "code",
   "execution_count": 13,
   "id": "0343437c",
   "metadata": {
    "execution": {
     "iopub.execute_input": "2025-06-15T22:10:38.256316Z",
     "iopub.status.busy": "2025-06-15T22:10:38.256030Z",
     "iopub.status.idle": "2025-06-15T22:10:38.261059Z",
     "shell.execute_reply": "2025-06-15T22:10:38.260371Z"
    },
    "papermill": {
     "duration": 0.012339,
     "end_time": "2025-06-15T22:10:38.262558",
     "exception": false,
     "start_time": "2025-06-15T22:10:38.250219",
     "status": "completed"
    },
    "tags": []
   },
   "outputs": [
    {
     "data": {
      "text/plain": [
       "0"
      ]
     },
     "execution_count": 13,
     "metadata": {},
     "output_type": "execute_result"
    }
   ],
   "source": [
    "(8 - 3) * (2 - (1 + 1))"
   ]
  },
  {
   "cell_type": "code",
   "execution_count": 14,
   "id": "6764eff0",
   "metadata": {
    "execution": {
     "iopub.execute_input": "2025-06-15T22:10:38.274388Z",
     "iopub.status.busy": "2025-06-15T22:10:38.274148Z",
     "iopub.status.idle": "2025-06-15T22:10:38.277665Z",
     "shell.execute_reply": "2025-06-15T22:10:38.276992Z"
    },
    "papermill": {
     "duration": 0.010626,
     "end_time": "2025-06-15T22:10:38.278841",
     "exception": false,
     "start_time": "2025-06-15T22:10:38.268215",
     "status": "completed"
    },
    "tags": []
   },
   "outputs": [],
   "source": [
    "#q3.b.hint()"
   ]
  },
  {
   "cell_type": "code",
   "execution_count": 15,
   "id": "047d7bcb",
   "metadata": {
    "execution": {
     "iopub.execute_input": "2025-06-15T22:10:38.290146Z",
     "iopub.status.busy": "2025-06-15T22:10:38.289890Z",
     "iopub.status.idle": "2025-06-15T22:10:38.296274Z",
     "shell.execute_reply": "2025-06-15T22:10:38.295579Z"
    },
    "papermill": {
     "duration": 0.013322,
     "end_time": "2025-06-15T22:10:38.297452",
     "exception": false,
     "start_time": "2025-06-15T22:10:38.284130",
     "status": "completed"
    },
    "tags": []
   },
   "outputs": [
    {
     "data": {
      "application/javascript": [
       "parent.postMessage({\"jupyterEvent\": \"custom.exercise_interaction\", \"data\": {\"interactionType\": 3, \"questionType\": 4, \"questionId\": \"3.2_ArithmeticParensHard\", \"learnToolsVersion\": \"0.3.5\", \"valueTowardsCompletion\": 0.0, \"failureMessage\": \"\", \"exceptionClass\": \"\", \"trace\": \"\", \"outcomeType\": 4}}, \"*\")"
      ],
      "text/plain": [
       "<IPython.core.display.Javascript object>"
      ]
     },
     "metadata": {},
     "output_type": "display_data"
    },
    {
     "data": {
      "text/markdown": [
       "<span style=\"color:#33cc99\">Solution:</span> `(8 - 3) * (2 - (1 + 1))` is one solution. There may be others."
      ],
      "text/plain": [
       "Solution: `(8 - 3) * (2 - (1 + 1))` is one solution. There may be others."
      ]
     },
     "metadata": {},
     "output_type": "display_data"
    }
   ],
   "source": [
    "# Check your answer (Run this code cell to receive credit!)\n",
    "q3.b.solution()"
   ]
  },
  {
   "cell_type": "markdown",
   "id": "5e78f49d",
   "metadata": {
    "papermill": {
     "duration": 0.005237,
     "end_time": "2025-06-15T22:10:38.308032",
     "exception": false,
     "start_time": "2025-06-15T22:10:38.302795",
     "status": "completed"
    },
    "tags": []
   },
   "source": [
    "<hr/>\n",
    "\n",
    "# 4. \n",
    "Alice, Bob and Carol have agreed to pool their Halloween candy and split it evenly among themselves.\n",
    "For the sake of their friendship, any candies left over will be smashed. For example, if they collectively\n",
    "bring home 91 candies, they'll take 30 each and smash 1.\n",
    "\n",
    "Write an arithmetic expression below to calculate how many candies they must smash for a given haul."
   ]
  },
  {
   "cell_type": "code",
   "execution_count": 16,
   "id": "e09061e9",
   "metadata": {
    "execution": {
     "iopub.execute_input": "2025-06-15T22:10:38.319736Z",
     "iopub.status.busy": "2025-06-15T22:10:38.319463Z",
     "iopub.status.idle": "2025-06-15T22:10:38.327265Z",
     "shell.execute_reply": "2025-06-15T22:10:38.326518Z"
    },
    "papermill": {
     "duration": 0.015311,
     "end_time": "2025-06-15T22:10:38.328629",
     "exception": false,
     "start_time": "2025-06-15T22:10:38.313318",
     "status": "completed"
    },
    "tags": []
   },
   "outputs": [
    {
     "name": "stdout",
     "output_type": "stream",
     "text": [
      "1\n"
     ]
    },
    {
     "data": {
      "application/javascript": [
       "parent.postMessage({\"jupyterEvent\": \"custom.exercise_interaction\", \"data\": {\"outcomeType\": 1, \"valueTowardsCompletion\": 0.25, \"interactionType\": 1, \"questionType\": 1, \"questionId\": \"4_CandySplitting\", \"learnToolsVersion\": \"0.3.5\", \"failureMessage\": \"\", \"exceptionClass\": \"\", \"trace\": \"\"}}, \"*\")"
      ],
      "text/plain": [
       "<IPython.core.display.Javascript object>"
      ]
     },
     "metadata": {},
     "output_type": "display_data"
    },
    {
     "data": {
      "text/markdown": [
       "<span style=\"color:#33cc33\">Correct</span>"
      ],
      "text/plain": [
       "Correct"
      ]
     },
     "metadata": {},
     "output_type": "display_data"
    }
   ],
   "source": [
    "# Variables representing the number of candies collected by alice, bob, and carol\n",
    "alice_candies = 121\n",
    "bob_candies = 77\n",
    "carol_candies = 109\n",
    "\n",
    "# Your code goes here! Replace the right-hand side of this assignment with an expression\n",
    "# involving alice_candies, bob_candies, and carol_candies\n",
    "to_smash = (alice_candies + bob_candies + carol_candies) % 2\n",
    "\n",
    "print(to_smash)\n",
    "\n",
    "# Check your answer\n",
    "q4.check()"
   ]
  },
  {
   "cell_type": "code",
   "execution_count": 17,
   "id": "159bcda1",
   "metadata": {
    "execution": {
     "iopub.execute_input": "2025-06-15T22:10:38.340870Z",
     "iopub.status.busy": "2025-06-15T22:10:38.340603Z",
     "iopub.status.idle": "2025-06-15T22:10:38.346968Z",
     "shell.execute_reply": "2025-06-15T22:10:38.346246Z"
    },
    "papermill": {
     "duration": 0.01387,
     "end_time": "2025-06-15T22:10:38.348231",
     "exception": false,
     "start_time": "2025-06-15T22:10:38.334361",
     "status": "completed"
    },
    "tags": []
   },
   "outputs": [
    {
     "data": {
      "application/javascript": [
       "parent.postMessage({\"jupyterEvent\": \"custom.exercise_interaction\", \"data\": {\"interactionType\": 2, \"questionType\": 1, \"questionId\": \"4_CandySplitting\", \"learnToolsVersion\": \"0.3.5\", \"valueTowardsCompletion\": 0.0, \"failureMessage\": \"\", \"exceptionClass\": \"\", \"trace\": \"\", \"outcomeType\": 4}}, \"*\")"
      ],
      "text/plain": [
       "<IPython.core.display.Javascript object>"
      ]
     },
     "metadata": {},
     "output_type": "display_data"
    },
    {
     "data": {
      "text/markdown": [
       "<span style=\"color:#3366cc\">Hint 1:</span> You'll probably want to use the modulo operator, `%`.\n",
       "(For another hint, call `.hint(2)`)"
      ],
      "text/plain": [
       "Hint 1: You'll probably want to use the modulo operator, `%`.\n",
       "(For another hint, call `.hint(2)`)"
      ]
     },
     "metadata": {},
     "output_type": "display_data"
    }
   ],
   "source": [
    "q4.hint()\n",
    "#q4.solution()"
   ]
  },
  {
   "cell_type": "markdown",
   "id": "48287c61",
   "metadata": {
    "papermill": {
     "duration": 0.005446,
     "end_time": "2025-06-15T22:10:38.359476",
     "exception": false,
     "start_time": "2025-06-15T22:10:38.354030",
     "status": "completed"
    },
    "tags": []
   },
   "source": [
    "# Keep Going\n",
    "\n",
    "Next up, you'll **[learn to write new functions and understand functions others write](https://www.kaggle.com/colinmorris/functions-and-getting-help)**. This will make you at least 10 times more productive as a Python programmer. "
   ]
  },
  {
   "cell_type": "markdown",
   "id": "46af5b6f",
   "metadata": {
    "papermill": {
     "duration": 0.005588,
     "end_time": "2025-06-15T22:10:38.370764",
     "exception": false,
     "start_time": "2025-06-15T22:10:38.365176",
     "status": "completed"
    },
    "tags": []
   },
   "source": [
    "---\n",
    "\n",
    "\n",
    "\n",
    "\n",
    "*Have questions or comments? Visit the [course discussion forum](https://www.kaggle.com/learn/python/discussion) to chat with other learners.*"
   ]
  }
 ],
 "metadata": {
  "kaggle": {
   "accelerator": "none",
   "dataSources": [],
   "isGpuEnabled": false,
   "isInternetEnabled": false,
   "language": "python",
   "sourceType": "notebook"
  },
  "kernelspec": {
   "display_name": "Python 3",
   "language": "python",
   "name": "python3"
  },
  "language_info": {
   "codemirror_mode": {
    "name": "ipython",
    "version": 3
   },
   "file_extension": ".py",
   "mimetype": "text/x-python",
   "name": "python",
   "nbconvert_exporter": "python",
   "pygments_lexer": "ipython3",
   "version": "3.11.11"
  },
  "learntools_metadata": {
   "lesson_index": 0,
   "type": "exercise"
  },
  "papermill": {
   "default_parameters": {},
   "duration": 8.03526,
   "end_time": "2025-06-15T22:10:38.793947",
   "environment_variables": {},
   "exception": null,
   "input_path": "__notebook__.ipynb",
   "output_path": "__notebook__.ipynb",
   "parameters": {},
   "start_time": "2025-06-15T22:10:30.758687",
   "version": "2.6.0"
  }
 },
 "nbformat": 4,
 "nbformat_minor": 5
}
