{
 "cells": [
  {
   "cell_type": "markdown",
   "id": "6316de3e",
   "metadata": {
    "papermill": {
     "duration": 0.004074,
     "end_time": "2025-06-12T15:05:11.652856",
     "exception": false,
     "start_time": "2025-06-12T15:05:11.648782",
     "status": "completed"
    },
    "tags": []
   },
   "source": [
    "# 1. Análise Exploratória de Dados (EDA)"
   ]
  },
  {
   "cell_type": "code",
   "execution_count": 1,
   "id": "9b4db7fa",
   "metadata": {
    "_cell_guid": "b1076dfc-b9ad-4769-8c92-a6c4dae69d19",
    "_uuid": "8f2839f25d086af736a60e9eeb907d3b93b6e0e5",
    "execution": {
     "iopub.execute_input": "2025-06-12T15:05:11.660955Z",
     "iopub.status.busy": "2025-06-12T15:05:11.660661Z",
     "iopub.status.idle": "2025-06-12T15:05:13.631530Z",
     "shell.execute_reply": "2025-06-12T15:05:13.630778Z"
    },
    "papermill": {
     "duration": 1.976705,
     "end_time": "2025-06-12T15:05:13.633076",
     "exception": false,
     "start_time": "2025-06-12T15:05:11.656371",
     "status": "completed"
    },
    "tags": []
   },
   "outputs": [],
   "source": [
    "import pandas as pd\n",
    "train_df = pd.read_csv('/kaggle/input/titanic/train.csv')\n",
    "test_df = pd.read_csv('/kaggle/input/titanic/test.csv')"
   ]
  },
  {
   "cell_type": "code",
   "execution_count": 2,
   "id": "23944116",
   "metadata": {
    "execution": {
     "iopub.execute_input": "2025-06-12T15:05:13.642590Z",
     "iopub.status.busy": "2025-06-12T15:05:13.642302Z",
     "iopub.status.idle": "2025-06-12T15:05:13.670193Z",
     "shell.execute_reply": "2025-06-12T15:05:13.669296Z"
    },
    "papermill": {
     "duration": 0.033701,
     "end_time": "2025-06-12T15:05:13.671563",
     "exception": false,
     "start_time": "2025-06-12T15:05:13.637862",
     "status": "completed"
    },
    "tags": []
   },
   "outputs": [
    {
     "data": {
      "text/html": [
       "<div>\n",
       "<style scoped>\n",
       "    .dataframe tbody tr th:only-of-type {\n",
       "        vertical-align: middle;\n",
       "    }\n",
       "\n",
       "    .dataframe tbody tr th {\n",
       "        vertical-align: top;\n",
       "    }\n",
       "\n",
       "    .dataframe thead th {\n",
       "        text-align: right;\n",
       "    }\n",
       "</style>\n",
       "<table border=\"1\" class=\"dataframe\">\n",
       "  <thead>\n",
       "    <tr style=\"text-align: right;\">\n",
       "      <th></th>\n",
       "      <th>PassengerId</th>\n",
       "      <th>Survived</th>\n",
       "      <th>Pclass</th>\n",
       "      <th>Name</th>\n",
       "      <th>Sex</th>\n",
       "      <th>Age</th>\n",
       "      <th>SibSp</th>\n",
       "      <th>Parch</th>\n",
       "      <th>Ticket</th>\n",
       "      <th>Fare</th>\n",
       "      <th>Cabin</th>\n",
       "      <th>Embarked</th>\n",
       "    </tr>\n",
       "  </thead>\n",
       "  <tbody>\n",
       "    <tr>\n",
       "      <th>0</th>\n",
       "      <td>1</td>\n",
       "      <td>0</td>\n",
       "      <td>3</td>\n",
       "      <td>Braund, Mr. Owen Harris</td>\n",
       "      <td>male</td>\n",
       "      <td>22.0</td>\n",
       "      <td>1</td>\n",
       "      <td>0</td>\n",
       "      <td>A/5 21171</td>\n",
       "      <td>7.2500</td>\n",
       "      <td>NaN</td>\n",
       "      <td>S</td>\n",
       "    </tr>\n",
       "    <tr>\n",
       "      <th>1</th>\n",
       "      <td>2</td>\n",
       "      <td>1</td>\n",
       "      <td>1</td>\n",
       "      <td>Cumings, Mrs. John Bradley (Florence Briggs Th...</td>\n",
       "      <td>female</td>\n",
       "      <td>38.0</td>\n",
       "      <td>1</td>\n",
       "      <td>0</td>\n",
       "      <td>PC 17599</td>\n",
       "      <td>71.2833</td>\n",
       "      <td>C85</td>\n",
       "      <td>C</td>\n",
       "    </tr>\n",
       "    <tr>\n",
       "      <th>2</th>\n",
       "      <td>3</td>\n",
       "      <td>1</td>\n",
       "      <td>3</td>\n",
       "      <td>Heikkinen, Miss. Laina</td>\n",
       "      <td>female</td>\n",
       "      <td>26.0</td>\n",
       "      <td>0</td>\n",
       "      <td>0</td>\n",
       "      <td>STON/O2. 3101282</td>\n",
       "      <td>7.9250</td>\n",
       "      <td>NaN</td>\n",
       "      <td>S</td>\n",
       "    </tr>\n",
       "    <tr>\n",
       "      <th>3</th>\n",
       "      <td>4</td>\n",
       "      <td>1</td>\n",
       "      <td>1</td>\n",
       "      <td>Futrelle, Mrs. Jacques Heath (Lily May Peel)</td>\n",
       "      <td>female</td>\n",
       "      <td>35.0</td>\n",
       "      <td>1</td>\n",
       "      <td>0</td>\n",
       "      <td>113803</td>\n",
       "      <td>53.1000</td>\n",
       "      <td>C123</td>\n",
       "      <td>S</td>\n",
       "    </tr>\n",
       "    <tr>\n",
       "      <th>4</th>\n",
       "      <td>5</td>\n",
       "      <td>0</td>\n",
       "      <td>3</td>\n",
       "      <td>Allen, Mr. William Henry</td>\n",
       "      <td>male</td>\n",
       "      <td>35.0</td>\n",
       "      <td>0</td>\n",
       "      <td>0</td>\n",
       "      <td>373450</td>\n",
       "      <td>8.0500</td>\n",
       "      <td>NaN</td>\n",
       "      <td>S</td>\n",
       "    </tr>\n",
       "  </tbody>\n",
       "</table>\n",
       "</div>"
      ],
      "text/plain": [
       "   PassengerId  Survived  Pclass  \\\n",
       "0            1         0       3   \n",
       "1            2         1       1   \n",
       "2            3         1       3   \n",
       "3            4         1       1   \n",
       "4            5         0       3   \n",
       "\n",
       "                                                Name     Sex   Age  SibSp  \\\n",
       "0                            Braund, Mr. Owen Harris    male  22.0      1   \n",
       "1  Cumings, Mrs. John Bradley (Florence Briggs Th...  female  38.0      1   \n",
       "2                             Heikkinen, Miss. Laina  female  26.0      0   \n",
       "3       Futrelle, Mrs. Jacques Heath (Lily May Peel)  female  35.0      1   \n",
       "4                           Allen, Mr. William Henry    male  35.0      0   \n",
       "\n",
       "   Parch            Ticket     Fare Cabin Embarked  \n",
       "0      0         A/5 21171   7.2500   NaN        S  \n",
       "1      0          PC 17599  71.2833   C85        C  \n",
       "2      0  STON/O2. 3101282   7.9250   NaN        S  \n",
       "3      0            113803  53.1000  C123        S  \n",
       "4      0            373450   8.0500   NaN        S  "
      ]
     },
     "execution_count": 2,
     "metadata": {},
     "output_type": "execute_result"
    }
   ],
   "source": [
    "train_df.head()"
   ]
  },
  {
   "cell_type": "code",
   "execution_count": 3,
   "id": "f5fe1df8",
   "metadata": {
    "execution": {
     "iopub.execute_input": "2025-06-12T15:05:13.680393Z",
     "iopub.status.busy": "2025-06-12T15:05:13.679570Z",
     "iopub.status.idle": "2025-06-12T15:05:13.691505Z",
     "shell.execute_reply": "2025-06-12T15:05:13.690677Z"
    },
    "papermill": {
     "duration": 0.017661,
     "end_time": "2025-06-12T15:05:13.692795",
     "exception": false,
     "start_time": "2025-06-12T15:05:13.675134",
     "status": "completed"
    },
    "tags": []
   },
   "outputs": [
    {
     "data": {
      "text/html": [
       "<div>\n",
       "<style scoped>\n",
       "    .dataframe tbody tr th:only-of-type {\n",
       "        vertical-align: middle;\n",
       "    }\n",
       "\n",
       "    .dataframe tbody tr th {\n",
       "        vertical-align: top;\n",
       "    }\n",
       "\n",
       "    .dataframe thead th {\n",
       "        text-align: right;\n",
       "    }\n",
       "</style>\n",
       "<table border=\"1\" class=\"dataframe\">\n",
       "  <thead>\n",
       "    <tr style=\"text-align: right;\">\n",
       "      <th></th>\n",
       "      <th>PassengerId</th>\n",
       "      <th>Pclass</th>\n",
       "      <th>Name</th>\n",
       "      <th>Sex</th>\n",
       "      <th>Age</th>\n",
       "      <th>SibSp</th>\n",
       "      <th>Parch</th>\n",
       "      <th>Ticket</th>\n",
       "      <th>Fare</th>\n",
       "      <th>Cabin</th>\n",
       "      <th>Embarked</th>\n",
       "    </tr>\n",
       "  </thead>\n",
       "  <tbody>\n",
       "    <tr>\n",
       "      <th>0</th>\n",
       "      <td>892</td>\n",
       "      <td>3</td>\n",
       "      <td>Kelly, Mr. James</td>\n",
       "      <td>male</td>\n",
       "      <td>34.5</td>\n",
       "      <td>0</td>\n",
       "      <td>0</td>\n",
       "      <td>330911</td>\n",
       "      <td>7.8292</td>\n",
       "      <td>NaN</td>\n",
       "      <td>Q</td>\n",
       "    </tr>\n",
       "    <tr>\n",
       "      <th>1</th>\n",
       "      <td>893</td>\n",
       "      <td>3</td>\n",
       "      <td>Wilkes, Mrs. James (Ellen Needs)</td>\n",
       "      <td>female</td>\n",
       "      <td>47.0</td>\n",
       "      <td>1</td>\n",
       "      <td>0</td>\n",
       "      <td>363272</td>\n",
       "      <td>7.0000</td>\n",
       "      <td>NaN</td>\n",
       "      <td>S</td>\n",
       "    </tr>\n",
       "    <tr>\n",
       "      <th>2</th>\n",
       "      <td>894</td>\n",
       "      <td>2</td>\n",
       "      <td>Myles, Mr. Thomas Francis</td>\n",
       "      <td>male</td>\n",
       "      <td>62.0</td>\n",
       "      <td>0</td>\n",
       "      <td>0</td>\n",
       "      <td>240276</td>\n",
       "      <td>9.6875</td>\n",
       "      <td>NaN</td>\n",
       "      <td>Q</td>\n",
       "    </tr>\n",
       "    <tr>\n",
       "      <th>3</th>\n",
       "      <td>895</td>\n",
       "      <td>3</td>\n",
       "      <td>Wirz, Mr. Albert</td>\n",
       "      <td>male</td>\n",
       "      <td>27.0</td>\n",
       "      <td>0</td>\n",
       "      <td>0</td>\n",
       "      <td>315154</td>\n",
       "      <td>8.6625</td>\n",
       "      <td>NaN</td>\n",
       "      <td>S</td>\n",
       "    </tr>\n",
       "    <tr>\n",
       "      <th>4</th>\n",
       "      <td>896</td>\n",
       "      <td>3</td>\n",
       "      <td>Hirvonen, Mrs. Alexander (Helga E Lindqvist)</td>\n",
       "      <td>female</td>\n",
       "      <td>22.0</td>\n",
       "      <td>1</td>\n",
       "      <td>1</td>\n",
       "      <td>3101298</td>\n",
       "      <td>12.2875</td>\n",
       "      <td>NaN</td>\n",
       "      <td>S</td>\n",
       "    </tr>\n",
       "  </tbody>\n",
       "</table>\n",
       "</div>"
      ],
      "text/plain": [
       "   PassengerId  Pclass                                          Name     Sex  \\\n",
       "0          892       3                              Kelly, Mr. James    male   \n",
       "1          893       3              Wilkes, Mrs. James (Ellen Needs)  female   \n",
       "2          894       2                     Myles, Mr. Thomas Francis    male   \n",
       "3          895       3                              Wirz, Mr. Albert    male   \n",
       "4          896       3  Hirvonen, Mrs. Alexander (Helga E Lindqvist)  female   \n",
       "\n",
       "    Age  SibSp  Parch   Ticket     Fare Cabin Embarked  \n",
       "0  34.5      0      0   330911   7.8292   NaN        Q  \n",
       "1  47.0      1      0   363272   7.0000   NaN        S  \n",
       "2  62.0      0      0   240276   9.6875   NaN        Q  \n",
       "3  27.0      0      0   315154   8.6625   NaN        S  \n",
       "4  22.0      1      1  3101298  12.2875   NaN        S  "
      ]
     },
     "execution_count": 3,
     "metadata": {},
     "output_type": "execute_result"
    }
   ],
   "source": [
    "test_df.head()"
   ]
  },
  {
   "cell_type": "code",
   "execution_count": 4,
   "id": "33a4cd3f",
   "metadata": {
    "execution": {
     "iopub.execute_input": "2025-06-12T15:05:13.702065Z",
     "iopub.status.busy": "2025-06-12T15:05:13.701353Z",
     "iopub.status.idle": "2025-06-12T15:05:13.710945Z",
     "shell.execute_reply": "2025-06-12T15:05:13.709878Z"
    },
    "papermill": {
     "duration": 0.015455,
     "end_time": "2025-06-12T15:05:13.712323",
     "exception": false,
     "start_time": "2025-06-12T15:05:13.696868",
     "status": "completed"
    },
    "tags": []
   },
   "outputs": [
    {
     "name": "stdout",
     "output_type": "stream",
     "text": [
      "PassengerId      0\n",
      "Survived         0\n",
      "Pclass           0\n",
      "Name             0\n",
      "Sex              0\n",
      "Age            177\n",
      "SibSp            0\n",
      "Parch            0\n",
      "Ticket           0\n",
      "Fare             0\n",
      "Cabin          687\n",
      "Embarked         2\n",
      "dtype: int64\n"
     ]
    }
   ],
   "source": [
    "print(train_df.isnull().sum())"
   ]
  },
  {
   "cell_type": "code",
   "execution_count": 5,
   "id": "6c6854fe",
   "metadata": {
    "execution": {
     "iopub.execute_input": "2025-06-12T15:05:13.721769Z",
     "iopub.status.busy": "2025-06-12T15:05:13.720777Z",
     "iopub.status.idle": "2025-06-12T15:05:13.727351Z",
     "shell.execute_reply": "2025-06-12T15:05:13.726467Z"
    },
    "papermill": {
     "duration": 0.012403,
     "end_time": "2025-06-12T15:05:13.728638",
     "exception": false,
     "start_time": "2025-06-12T15:05:13.716235",
     "status": "completed"
    },
    "tags": []
   },
   "outputs": [
    {
     "name": "stdout",
     "output_type": "stream",
     "text": [
      "PassengerId      0\n",
      "Pclass           0\n",
      "Name             0\n",
      "Sex              0\n",
      "Age             86\n",
      "SibSp            0\n",
      "Parch            0\n",
      "Ticket           0\n",
      "Fare             1\n",
      "Cabin          327\n",
      "Embarked         0\n",
      "dtype: int64\n"
     ]
    }
   ],
   "source": [
    "print(test_df.isnull().sum())"
   ]
  },
  {
   "cell_type": "markdown",
   "id": "f23cd9d3",
   "metadata": {
    "papermill": {
     "duration": 0.003446,
     "end_time": "2025-06-12T15:05:13.735978",
     "exception": false,
     "start_time": "2025-06-12T15:05:13.732532",
     "status": "completed"
    },
    "tags": []
   },
   "source": [
    "## 1.2 Análise Inicial"
   ]
  },
  {
   "cell_type": "code",
   "execution_count": 6,
   "id": "c06b5f36",
   "metadata": {
    "execution": {
     "iopub.execute_input": "2025-06-12T15:05:13.744733Z",
     "iopub.status.busy": "2025-06-12T15:05:13.744084Z",
     "iopub.status.idle": "2025-06-12T15:05:15.843913Z",
     "shell.execute_reply": "2025-06-12T15:05:15.843167Z"
    },
    "papermill": {
     "duration": 2.105837,
     "end_time": "2025-06-12T15:05:15.845472",
     "exception": false,
     "start_time": "2025-06-12T15:05:13.739635",
     "status": "completed"
    },
    "tags": []
   },
   "outputs": [],
   "source": [
    "import seaborn as sns\n",
    "import matplotlib.pyplot as plt"
   ]
  },
  {
   "cell_type": "code",
   "execution_count": 7,
   "id": "b872d0e4",
   "metadata": {
    "execution": {
     "iopub.execute_input": "2025-06-12T15:05:15.854728Z",
     "iopub.status.busy": "2025-06-12T15:05:15.854290Z",
     "iopub.status.idle": "2025-06-12T15:05:16.075051Z",
     "shell.execute_reply": "2025-06-12T15:05:16.074150Z"
    },
    "papermill": {
     "duration": 0.226963,
     "end_time": "2025-06-12T15:05:16.076525",
     "exception": false,
     "start_time": "2025-06-12T15:05:15.849562",
     "status": "completed"
    },
    "tags": []
   },
   "outputs": [
    {
     "data": {
      "image/png": "[encoded data removed]",
      "text/plain": [
       "<Figure size 640x480 with 1 Axes>"
      ]
     },
     "metadata": {},
     "output_type": "display_data"
    }
   ],
   "source": [
    "sns.countplot(x='Survived', data=train_df)\n",
    "plt.show()"
   ]
  },
  {
   "cell_type": "code",
   "execution_count": 8,
   "id": "29ab40fa",
   "metadata": {
    "execution": {
     "iopub.execute_input": "2025-06-12T15:05:16.086015Z",
     "iopub.status.busy": "2025-06-12T15:05:16.085706Z",
     "iopub.status.idle": "2025-06-12T15:05:16.299005Z",
     "shell.execute_reply": "2025-06-12T15:05:16.298089Z"
    },
    "papermill": {
     "duration": 0.21992,
     "end_time": "2025-06-12T15:05:16.300564",
     "exception": false,
     "start_time": "2025-06-12T15:05:16.080644",
     "status": "completed"
    },
    "tags": []
   },
   "outputs": [
    {
     "data": {
      "image/png": "[encoded data removed]",
      "text/plain": [
       "<Figure size 640x480 with 1 Axes>"
      ]
     },
     "metadata": {},
     "output_type": "display_data"
    }
   ],
   "source": [
    "# Taxa de sobrevivência por sexo\n",
    "sns.countplot(x='Sex', hue='Survived', data=train_df)\n",
    "plt.show()"
   ]
  },
  {
   "cell_type": "code",
   "execution_count": 9,
   "id": "16554b10",
   "metadata": {
    "execution": {
     "iopub.execute_input": "2025-06-12T15:05:16.310487Z",
     "iopub.status.busy": "2025-06-12T15:05:16.310174Z",
     "iopub.status.idle": "2025-06-12T15:05:16.452110Z",
     "shell.execute_reply": "2025-06-12T15:05:16.451153Z"
    },
    "papermill": {
     "duration": 0.148797,
     "end_time": "2025-06-12T15:05:16.453772",
     "exception": false,
     "start_time": "2025-06-12T15:05:16.304975",
     "status": "completed"
    },
    "tags": []
   },
   "outputs": [
    {
     "data": {
      "image/png": "[encoded data removed]",
      "text/plain": [
       "<Figure size 640x480 with 1 Axes>"
      ]
     },
     "metadata": {},
     "output_type": "display_data"
    }
   ],
   "source": [
    "# taxa de sobrevivência por classe\n",
    "sns.countplot(x='Pclass', hue='Survived', data=train_df)\n",
    "plt.show()"
   ]
  },
  {
   "cell_type": "code",
   "execution_count": 10,
   "id": "133f845c",
   "metadata": {
    "execution": {
     "iopub.execute_input": "2025-06-12T15:05:16.464597Z",
     "iopub.status.busy": "2025-06-12T15:05:16.464330Z",
     "iopub.status.idle": "2025-06-12T15:05:16.469364Z",
     "shell.execute_reply": "2025-06-12T15:05:16.468533Z"
    },
    "papermill": {
     "duration": 0.01229,
     "end_time": "2025-06-12T15:05:16.470953",
     "exception": false,
     "start_time": "2025-06-12T15:05:16.458663",
     "status": "completed"
    },
    "tags": []
   },
   "outputs": [],
   "source": [
    "# Verificando se os passageiros estão em uma cabine ou não\n",
    "train_df['InCabin'] = train_df['Cabin'].notnull()"
   ]
  },
  {
   "cell_type": "code",
   "execution_count": 11,
   "id": "78bb8209",
   "metadata": {
    "execution": {
     "iopub.execute_input": "2025-06-12T15:05:16.481430Z",
     "iopub.status.busy": "2025-06-12T15:05:16.481111Z",
     "iopub.status.idle": "2025-06-12T15:05:16.612631Z",
     "shell.execute_reply": "2025-06-12T15:05:16.611679Z"
    },
    "papermill": {
     "duration": 0.138392,
     "end_time": "2025-06-12T15:05:16.614072",
     "exception": false,
     "start_time": "2025-06-12T15:05:16.475680",
     "status": "completed"
    },
    "tags": []
   },
   "outputs": [
    {
     "data": {
      "image/png": "[encoded data removed]",
      "text/plain": [
       "<Figure size 640x480 with 1 Axes>"
      ]
     },
     "metadata": {},
     "output_type": "display_data"
    }
   ],
   "source": [
    "sns.countplot(x='InCabin', hue='Survived', data=train_df)\n",
    "plt.show()"
   ]
  },
  {
   "cell_type": "markdown",
   "id": "2cc0f2eb",
   "metadata": {
    "papermill": {
     "duration": 0.004762,
     "end_time": "2025-06-12T15:05:16.623841",
     "exception": false,
     "start_time": "2025-06-12T15:05:16.619079",
     "status": "completed"
    },
    "tags": []
   },
   "source": [
    "## Insights\n",
    "* Mulheres tem a maior taxa de sobrevivência\n",
    "* Passageiros da primeira classe tem maior taxa de sobrevivência\n",
    "* Pessoas fora da cabine tiveram maior taxa de sobrevivência"
   ]
  },
  {
   "cell_type": "markdown",
   "id": "bc72da8e",
   "metadata": {
    "papermill": {
     "duration": 0.004609,
     "end_time": "2025-06-12T15:05:16.634016",
     "exception": false,
     "start_time": "2025-06-12T15:05:16.629407",
     "status": "completed"
    },
    "tags": []
   },
   "source": [
    "## 1.3 Tratamento de Dados\n",
    "* Colocando a mediana nas idades para que os dados sejam tratados"
   ]
  },
  {
   "cell_type": "code",
   "execution_count": 12,
   "id": "70ae4d27",
   "metadata": {
    "execution": {
     "iopub.execute_input": "2025-06-12T15:05:16.644945Z",
     "iopub.status.busy": "2025-06-12T15:05:16.644669Z",
     "iopub.status.idle": "2025-06-12T15:05:16.658397Z",
     "shell.execute_reply": "2025-06-12T15:05:16.657628Z"
    },
    "papermill": {
     "duration": 0.021201,
     "end_time": "2025-06-12T15:05:16.659940",
     "exception": false,
     "start_time": "2025-06-12T15:05:16.638739",
     "status": "completed"
    },
    "tags": []
   },
   "outputs": [],
   "source": [
    "train_df['Age'] = train_df.groupby(['Sex', 'Pclass'])['Age'].transform(lambda x: x.fillna(x.median()))"
   ]
  },
  {
   "cell_type": "code",
   "execution_count": 13,
   "id": "c22ee4dc",
   "metadata": {
    "execution": {
     "iopub.execute_input": "2025-06-12T15:05:16.670754Z",
     "iopub.status.busy": "2025-06-12T15:05:16.670496Z",
     "iopub.status.idle": "2025-06-12T15:05:16.679060Z",
     "shell.execute_reply": "2025-06-12T15:05:16.678278Z"
    },
    "papermill": {
     "duration": 0.015519,
     "end_time": "2025-06-12T15:05:16.680450",
     "exception": false,
     "start_time": "2025-06-12T15:05:16.664931",
     "status": "completed"
    },
    "tags": []
   },
   "outputs": [],
   "source": [
    "test_df['Age'] = test_df.groupby(['Sex', 'Pclass'])['Age'].transform(lambda x: x.fillna(x.median()))"
   ]
  },
  {
   "cell_type": "markdown",
   "id": "dbb9dfb5",
   "metadata": {
    "papermill": {
     "duration": 0.004579,
     "end_time": "2025-06-12T15:05:16.690573",
     "exception": false,
     "start_time": "2025-06-12T15:05:16.685994",
     "status": "completed"
    },
    "tags": []
   },
   "source": [
    "* Preenchendo os 2 valores ausentes com o modo (valor mais comum)"
   ]
  },
  {
   "cell_type": "code",
   "execution_count": 14,
   "id": "99301808",
   "metadata": {
    "execution": {
     "iopub.execute_input": "2025-06-12T15:05:16.701194Z",
     "iopub.status.busy": "2025-06-12T15:05:16.700935Z",
     "iopub.status.idle": "2025-06-12T15:05:16.706795Z",
     "shell.execute_reply": "2025-06-12T15:05:16.705896Z"
    },
    "papermill": {
     "duration": 0.012824,
     "end_time": "2025-06-12T15:05:16.708197",
     "exception": false,
     "start_time": "2025-06-12T15:05:16.695373",
     "status": "completed"
    },
    "tags": []
   },
   "outputs": [
    {
     "name": "stderr",
     "output_type": "stream",
     "text": [
      "/tmp/ipykernel_13/1613448763.py:1: FutureWarning: A value is trying to be set on a copy of a DataFrame or Series through chained assignment using an inplace method.\n",
      "The behavior will change in pandas 3.0. This inplace method will never work because the intermediate object on which we are setting values always behaves as a copy.\n",
      "\n",
      "For example, when doing 'df[col].method(value, inplace=True)', try using 'df.method({col: value}, inplace=True)' or df[col] = df[col].method(value) instead, to perform the operation inplace on the original object.\n",
      "\n",
      "\n",
      "  train_df['Embarked'].fillna(train_df['Embarked'].mode()[0], inplace=True)\n"
     ]
    }
   ],
   "source": [
    "train_df['Embarked'].fillna(train_df['Embarked'].mode()[0], inplace=True)"
   ]
  }
 ],
 "metadata": {
  "kaggle": {
   "accelerator": "none",
   "dataSources": [
    {
     "datasetId": 7647779,
     "sourceId": 12143062,
     "sourceType": "datasetVersion"
    }
   ],
   "dockerImageVersionId": 31040,
   "isGpuEnabled": false,
   "isInternetEnabled": false,
   "language": "python",
   "sourceType": "notebook"
  },
  "kernelspec": {
   "display_name": "Python 3",
   "language": "python",
   "name": "python3"
  },
  "language_info": {
   "codemirror_mode": {
    "name": "ipython",
    "version": 3
   },
   "file_extension": ".py",
   "mimetype": "text/x-python",
   "name": "python",
   "nbconvert_exporter": "python",
   "pygments_lexer": "ipython3",
   "version": "3.11.11"
  },
  "papermill": {
   "default_parameters": {},
   "duration": 10.595499,
   "end_time": "2025-06-12T15:05:17.332302",
   "environment_variables": {},
   "exception": null,
   "input_path": "__notebook__.ipynb",
   "output_path": "__notebook__.ipynb",
   "parameters": {},
   "start_time": "2025-06-12T15:05:06.736803",
   "version": "2.6.0"
  }
 },
 "nbformat": 4,
 "nbformat_minor": 5
}
