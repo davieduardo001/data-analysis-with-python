{
 "cells": [
  {
   "cell_type": "markdown",
   "id": "82d3ac95",
   "metadata": {
    "papermill": {
     "duration": 0.00571,
     "end_time": "2025-06-15T21:52:34.345609",
     "exception": false,
     "start_time": "2025-06-15T21:52:34.339899",
     "status": "completed"
    },
    "tags": []
   },
   "source": [
    "**This notebook is an exercise in the [Intro to Programming](https://www.kaggle.com/learn/intro-to-programming) course.  You can reference the tutorial at [this link](https://www.kaggle.com/alexisbcook/intro-to-lists).**\n",
    "\n",
    "---\n"
   ]
  },
  {
   "cell_type": "markdown",
   "id": "a08288da",
   "metadata": {
    "papermill": {
     "duration": 0.005505,
     "end_time": "2025-06-15T21:52:34.356233",
     "exception": false,
     "start_time": "2025-06-15T21:52:34.350728",
     "status": "completed"
    },
    "tags": []
   },
   "source": [
    "In the tutorial, you learned how to define and modify Python lists.  In this exercise, you will use your new knowledge to solve several problems.\n",
    "\n",
    "# Set up the notebook\n",
    "\n",
    "Run the next code cell without changes to set up the notebook."
   ]
  },
  {
   "cell_type": "code",
   "execution_count": 1,
   "id": "568a7a67",
   "metadata": {
    "execution": {
     "iopub.execute_input": "2025-06-15T21:52:34.367097Z",
     "iopub.status.busy": "2025-06-15T21:52:34.366788Z",
     "iopub.status.idle": "2025-06-15T21:52:36.522816Z",
     "shell.execute_reply": "2025-06-15T21:52:36.521665Z"
    },
    "papermill": {
     "duration": 2.163499,
     "end_time": "2025-06-15T21:52:36.524552",
     "exception": false,
     "start_time": "2025-06-15T21:52:34.361053",
     "status": "completed"
    },
    "tags": []
   },
   "outputs": [
    {
     "name": "stdout",
     "output_type": "stream",
     "text": [
      "Setup complete.\n"
     ]
    }
   ],
   "source": [
    "from learntools.core import binder\n",
    "binder.bind(globals())\n",
    "from learntools.intro_to_programming.ex5 import *\n",
    "print('Setup complete.')"
   ]
  },
  {
   "cell_type": "markdown",
   "id": "fc8cc156",
   "metadata": {
    "papermill": {
     "duration": 0.004381,
     "end_time": "2025-06-15T21:52:36.533900",
     "exception": false,
     "start_time": "2025-06-15T21:52:36.529519",
     "status": "completed"
    },
    "tags": []
   },
   "source": [
    "# Question 1\n",
    "\n",
    "You own a restaurant with five food dishes, organized in the Python list `menu` below.  One day, you decide to:\n",
    "- remove bean soup (`'bean soup'`) from the menu, and\n",
    "- add roasted beet salad (`'roasted beet salad'`) to the menu.\n",
    "\n",
    "Implement this change to the list below.  While completing this task, \n",
    "- do not change the line that creates the `menu` list.  \n",
    "- your answer should use `.remove()` and `.append()`.  "
   ]
  },
  {
   "cell_type": "code",
   "execution_count": 2,
   "id": "53b734de",
   "metadata": {
    "execution": {
     "iopub.execute_input": "2025-06-15T21:52:36.545059Z",
     "iopub.status.busy": "2025-06-15T21:52:36.543924Z",
     "iopub.status.idle": "2025-06-15T21:52:36.553134Z",
     "shell.execute_reply": "2025-06-15T21:52:36.552285Z"
    },
    "papermill": {
     "duration": 0.016275,
     "end_time": "2025-06-15T21:52:36.554571",
     "exception": false,
     "start_time": "2025-06-15T21:52:36.538296",
     "status": "completed"
    },
    "tags": []
   },
   "outputs": [
    {
     "data": {
      "application/javascript": [
       "parent.postMessage({\"jupyterEvent\": \"custom.exercise_interaction\", \"data\": {\"outcomeType\": 1, \"valueTowardsCompletion\": 0.2, \"interactionType\": 1, \"questionType\": 2, \"questionId\": \"1_FoodMenu\", \"learnToolsVersion\": \"0.3.5\", \"failureMessage\": \"\", \"exceptionClass\": \"\", \"trace\": \"\"}}, \"*\")"
      ],
      "text/plain": [
       "<IPython.core.display.Javascript object>"
      ]
     },
     "metadata": {},
     "output_type": "display_data"
    },
    {
     "data": {
      "text/markdown": [
       "<span style=\"color:#33cc33\">Correct</span>"
      ],
      "text/plain": [
       "Correct"
      ]
     },
     "metadata": {},
     "output_type": "display_data"
    }
   ],
   "source": [
    "# Do not change: Initial menu for your restaurant\n",
    "menu = ['stewed meat with onions', 'bean soup', 'risotto with trout and shrimp',\n",
    "       'fish soup with cream and onion', 'gyro']\n",
    "\n",
    "menu.remove('bean soup')\n",
    "menu.append('roasted beet salad')\n",
    "\n",
    "# TODO: remove 'bean soup', and add 'roasted beet salad' to the end of the menu\n",
    "____\n",
    "\n",
    "# Do not change: Check your answer\n",
    "q1.check()"
   ]
  },
  {
   "cell_type": "code",
   "execution_count": 3,
   "id": "5b25b6f0",
   "metadata": {
    "execution": {
     "iopub.execute_input": "2025-06-15T21:52:36.565305Z",
     "iopub.status.busy": "2025-06-15T21:52:36.564727Z",
     "iopub.status.idle": "2025-06-15T21:52:36.568916Z",
     "shell.execute_reply": "2025-06-15T21:52:36.568107Z"
    },
    "papermill": {
     "duration": 0.011037,
     "end_time": "2025-06-15T21:52:36.570234",
     "exception": false,
     "start_time": "2025-06-15T21:52:36.559197",
     "status": "completed"
    },
    "tags": []
   },
   "outputs": [],
   "source": [
    "# Uncomment to see a hint\n",
    "#q1.hint()\n",
    "\n",
    "# Uncomment to see the solution\n",
    "#q1.solution()"
   ]
  },
  {
   "cell_type": "markdown",
   "id": "f77a952f",
   "metadata": {
    "papermill": {
     "duration": 0.004374,
     "end_time": "2025-06-15T21:52:36.579435",
     "exception": false,
     "start_time": "2025-06-15T21:52:36.575061",
     "status": "completed"
    },
    "tags": []
   },
   "source": [
    "# Question 2\n",
    "\n",
    "The list `num_customers` contains the number of customers who came into your restaurant every day over the last month (which lasted thirty days).  Fill in values for each of the following:\n",
    "- `avg_first_seven` - average number of customers who visited in the first seven days\n",
    "- `avg_last_seven` - average number of customers who visited in the last seven days\n",
    "- `max_month` - number of customers on the day that got the most customers in the last month\n",
    "- `min_month` - number of customers on the day that got the least customers in the last month\n",
    "\n",
    "Answer this question by writing code.  For instance, if you have to find the minimum value in a list, use `min()` instead of scanning for the smallest value and directly filling in a number."
   ]
  },
  {
   "cell_type": "code",
   "execution_count": 4,
   "id": "01d61b87",
   "metadata": {
    "execution": {
     "iopub.execute_input": "2025-06-15T21:52:36.590234Z",
     "iopub.status.busy": "2025-06-15T21:52:36.589900Z",
     "iopub.status.idle": "2025-06-15T21:52:36.600730Z",
     "shell.execute_reply": "2025-06-15T21:52:36.599790Z"
    },
    "papermill": {
     "duration": 0.018167,
     "end_time": "2025-06-15T21:52:36.602253",
     "exception": false,
     "start_time": "2025-06-15T21:52:36.584086",
     "status": "completed"
    },
    "tags": []
   },
   "outputs": [
    {
     "name": "stdout",
     "output_type": "stream",
     "text": [
      "150.85714285714286\n",
      "157.0\n",
      "174\n",
      "126\n"
     ]
    },
    {
     "data": {
      "application/javascript": [
       "parent.postMessage({\"jupyterEvent\": \"custom.exercise_interaction\", \"data\": {\"outcomeType\": 1, \"valueTowardsCompletion\": 0.2, \"interactionType\": 1, \"questionType\": 1, \"questionId\": \"2_NumCustomers\", \"learnToolsVersion\": \"0.3.5\", \"failureMessage\": \"\", \"exceptionClass\": \"\", \"trace\": \"\"}}, \"*\")"
      ],
      "text/plain": [
       "<IPython.core.display.Javascript object>"
      ]
     },
     "metadata": {},
     "output_type": "display_data"
    },
    {
     "data": {
      "text/markdown": [
       "<span style=\"color:#33cc33\">Correct</span>"
      ],
      "text/plain": [
       "Correct"
      ]
     },
     "metadata": {},
     "output_type": "display_data"
    }
   ],
   "source": [
    "###### Do not change: Number of customers each day for the last month\n",
    "num_customers = [137, 147, 135, 128, 170, 174, 165, 146, 126, 159,\n",
    "                 141, 148, 132, 147, 168, 153, 170, 161, 148, 152,\n",
    "                 141, 151, 131, 149, 164, 163, 143, 143, 166, 171]\n",
    "\n",
    "# TODO: Fill in values for the variables below\n",
    "fist_seven_days = num_customers[:7]\n",
    "last_seven_days = num_customers[-7:]\n",
    "\n",
    "avg_first_seven = sum(fist_seven_days)/7\n",
    "avg_last_seven = sum(last_seven_days) /7\n",
    "max_month = max(num_customers)\n",
    "min_month = min(num_customers)\n",
    "\n",
    "print(avg_first_seven)\n",
    "print(avg_last_seven)\n",
    "print(max_month)\n",
    "print(min_month)\n",
    "\n",
    "# Do not change: Check your answer\n",
    "q2.check()"
   ]
  },
  {
   "cell_type": "code",
   "execution_count": 5,
   "id": "d697a1a0",
   "metadata": {
    "execution": {
     "iopub.execute_input": "2025-06-15T21:52:36.614278Z",
     "iopub.status.busy": "2025-06-15T21:52:36.613178Z",
     "iopub.status.idle": "2025-06-15T21:52:36.617477Z",
     "shell.execute_reply": "2025-06-15T21:52:36.616615Z"
    },
    "papermill": {
     "duration": 0.01167,
     "end_time": "2025-06-15T21:52:36.619027",
     "exception": false,
     "start_time": "2025-06-15T21:52:36.607357",
     "status": "completed"
    },
    "tags": []
   },
   "outputs": [],
   "source": [
    "# Uncomment to see a hint\n",
    "#q2.hint()\n",
    "\n",
    "# Uncomment to see the solution\n",
    "#q2.solution()"
   ]
  },
  {
   "cell_type": "markdown",
   "id": "9e341a74",
   "metadata": {
    "papermill": {
     "duration": 0.004774,
     "end_time": "2025-06-15T21:52:36.628712",
     "exception": false,
     "start_time": "2025-06-15T21:52:36.623938",
     "status": "completed"
    },
    "tags": []
   },
   "source": [
    "# Question 3\n",
    "\n",
    "In the tutorial, we gave an example of a Python string with information that was better as a list."
   ]
  },
  {
   "cell_type": "code",
   "execution_count": 6,
   "id": "03ca7270",
   "metadata": {
    "execution": {
     "iopub.execute_input": "2025-06-15T21:52:36.640047Z",
     "iopub.status.busy": "2025-06-15T21:52:36.639662Z",
     "iopub.status.idle": "2025-06-15T21:52:36.643919Z",
     "shell.execute_reply": "2025-06-15T21:52:36.643082Z"
    },
    "papermill": {
     "duration": 0.011742,
     "end_time": "2025-06-15T21:52:36.645362",
     "exception": false,
     "start_time": "2025-06-15T21:52:36.633620",
     "status": "completed"
    },
    "tags": []
   },
   "outputs": [],
   "source": [
    "flowers = \"pink primrose,hard-leaved pocket orchid,canterbury bells,sweet pea,english marigold,tiger lily,moon orchid,bird of paradise,monkshood,globe thistle\""
   ]
  },
  {
   "cell_type": "markdown",
   "id": "585f42c9",
   "metadata": {
    "papermill": {
     "duration": 0.00478,
     "end_time": "2025-06-15T21:52:36.655070",
     "exception": false,
     "start_time": "2025-06-15T21:52:36.650290",
     "status": "completed"
    },
    "tags": []
   },
   "source": [
    "You can actually use Python to quickly turn this string into a list with `.split()`.  In the parentheses, we need to provide the character should be used to mark the end of one list item and the beginning of another, and enclose it in quotation marks.  In this case, that character is a comma."
   ]
  },
  {
   "cell_type": "code",
   "execution_count": 7,
   "id": "bd75ef7e",
   "metadata": {
    "execution": {
     "iopub.execute_input": "2025-06-15T21:52:36.666749Z",
     "iopub.status.busy": "2025-06-15T21:52:36.666418Z",
     "iopub.status.idle": "2025-06-15T21:52:36.671232Z",
     "shell.execute_reply": "2025-06-15T21:52:36.670223Z"
    },
    "papermill": {
     "duration": 0.012587,
     "end_time": "2025-06-15T21:52:36.672574",
     "exception": false,
     "start_time": "2025-06-15T21:52:36.659987",
     "status": "completed"
    },
    "tags": []
   },
   "outputs": [
    {
     "name": "stdout",
     "output_type": "stream",
     "text": [
      "['pink primrose', 'hard-leaved pocket orchid', 'canterbury bells', 'sweet pea', 'english marigold', 'tiger lily', 'moon orchid', 'bird of paradise', 'monkshood', 'globe thistle']\n"
     ]
    }
   ],
   "source": [
    " print(flowers.split(\",\"))"
   ]
  },
  {
   "cell_type": "markdown",
   "id": "0c2c4179",
   "metadata": {
    "papermill": {
     "duration": 0.004674,
     "end_time": "2025-06-15T21:52:36.682174",
     "exception": false,
     "start_time": "2025-06-15T21:52:36.677500",
     "status": "completed"
    },
    "tags": []
   },
   "source": [
    "Now it is your turn to try this out!  Create two Python lists:\n",
    "- `letters` should be a Python list where each entry is an uppercase letter of the English alphabet.  For instance, the first two entries should be `\"A\"` and `\"B\"`, and the final two entries should be `\"Y\"` and `\"Z\"`.  Use the string `alphabet` to create this list.\n",
    "- `address` should be a Python list where each row in `address` is a different item in the list.  Currently, each row in `address` is separated by a comma. "
   ]
  },
  {
   "cell_type": "code",
   "execution_count": 8,
   "id": "9e5317ad",
   "metadata": {
    "execution": {
     "iopub.execute_input": "2025-06-15T21:52:36.693115Z",
     "iopub.status.busy": "2025-06-15T21:52:36.692843Z",
     "iopub.status.idle": "2025-06-15T21:52:36.702409Z",
     "shell.execute_reply": "2025-06-15T21:52:36.701491Z"
    },
    "papermill": {
     "duration": 0.017106,
     "end_time": "2025-06-15T21:52:36.704131",
     "exception": false,
     "start_time": "2025-06-15T21:52:36.687025",
     "status": "completed"
    },
    "tags": []
   },
   "outputs": [
    {
     "name": "stdout",
     "output_type": "stream",
     "text": [
      "['A', 'B', 'C', 'D', 'E', 'F', 'G', 'H', 'I', 'J', 'K', 'L', 'M', 'N', 'O', 'P', 'Q', 'R', 'S', 'T', 'U', 'V', 'W', 'X', 'Y', 'Z']\n",
      "['Mr. H. Potter', 'The cupboard under the Stairs', '4 Privet Drive', 'Little Whinging', 'Surrey']\n"
     ]
    },
    {
     "data": {
      "application/javascript": [
       "parent.postMessage({\"jupyterEvent\": \"custom.exercise_interaction\", \"data\": {\"outcomeType\": 1, \"valueTowardsCompletion\": 0.2, \"interactionType\": 1, \"questionType\": 1, \"questionId\": \"3_SplitString\", \"learnToolsVersion\": \"0.3.5\", \"failureMessage\": \"\", \"exceptionClass\": \"\", \"trace\": \"\"}}, \"*\")"
      ],
      "text/plain": [
       "<IPython.core.display.Javascript object>"
      ]
     },
     "metadata": {},
     "output_type": "display_data"
    },
    {
     "data": {
      "text/markdown": [
       "<span style=\"color:#33cc33\">Correct</span>"
      ],
      "text/plain": [
       "Correct"
      ]
     },
     "metadata": {},
     "output_type": "display_data"
    }
   ],
   "source": [
    "# DO not change: Define two Python strings\n",
    "alphabet = \"A.B.C.D.E.F.G.H.I.J.K.L.M.N.O.P.Q.R.S.T.U.V.W.X.Y.Z\"\n",
    "address = \"Mr. H. Potter,The cupboard under the Stairs,4 Privet Drive,Little Whinging,Surrey\"\n",
    "\n",
    "# TODO: Convert strings into Python lists\n",
    "letters = alphabet.split('.')\n",
    "formatted_address = address.split(',')\n",
    "\n",
    "print(letters)\n",
    "print(formatted_address)\n",
    "# Do not change: Check your answer\n",
    "q3.check()"
   ]
  },
  {
   "cell_type": "code",
   "execution_count": 9,
   "id": "fa8c2d75",
   "metadata": {
    "execution": {
     "iopub.execute_input": "2025-06-15T21:52:36.716393Z",
     "iopub.status.busy": "2025-06-15T21:52:36.716066Z",
     "iopub.status.idle": "2025-06-15T21:52:36.720133Z",
     "shell.execute_reply": "2025-06-15T21:52:36.719255Z"
    },
    "papermill": {
     "duration": 0.011797,
     "end_time": "2025-06-15T21:52:36.721672",
     "exception": false,
     "start_time": "2025-06-15T21:52:36.709875",
     "status": "completed"
    },
    "tags": []
   },
   "outputs": [],
   "source": [
    "# Uncomment to see a hint\n",
    "#q3.hint()\n",
    "\n",
    "# Uncomment to see the solution\n",
    "#q3.solution()"
   ]
  },
  {
   "cell_type": "markdown",
   "id": "e914c7ce",
   "metadata": {
    "papermill": {
     "duration": 0.005143,
     "end_time": "2025-06-15T21:52:36.732269",
     "exception": false,
     "start_time": "2025-06-15T21:52:36.727126",
     "status": "completed"
    },
    "tags": []
   },
   "source": [
    "# Question 4\n",
    "\n",
    "In the Python course, you'll learn all about **list comprehensions**, which allow you to create a list based on the values in another list.  In this question, you'll get a brief preview of how they work.\n",
    "\n",
    "Say we're working with the list below."
   ]
  },
  {
   "cell_type": "code",
   "execution_count": 10,
   "id": "aafa8a59",
   "metadata": {
    "execution": {
     "iopub.execute_input": "2025-06-15T21:52:36.744868Z",
     "iopub.status.busy": "2025-06-15T21:52:36.744574Z",
     "iopub.status.idle": "2025-06-15T21:52:36.749239Z",
     "shell.execute_reply": "2025-06-15T21:52:36.748220Z"
    },
    "papermill": {
     "duration": 0.013118,
     "end_time": "2025-06-15T21:52:36.751149",
     "exception": false,
     "start_time": "2025-06-15T21:52:36.738031",
     "status": "completed"
    },
    "tags": []
   },
   "outputs": [],
   "source": [
    "test_ratings = [1, 2, 3, 4, 5]"
   ]
  },
  {
   "cell_type": "markdown",
   "id": "b8537fb7",
   "metadata": {
    "papermill": {
     "duration": 0.0051,
     "end_time": "2025-06-15T21:52:36.761804",
     "exception": false,
     "start_time": "2025-06-15T21:52:36.756704",
     "status": "completed"
    },
    "tags": []
   },
   "source": [
    "Then we can use this list (`test_ratings`) to create a new list (`test_liked`) where each item has been turned into a boolean, depending on whether or not the item is greater than or equal to four."
   ]
  },
  {
   "cell_type": "code",
   "execution_count": 11,
   "id": "cd978031",
   "metadata": {
    "execution": {
     "iopub.execute_input": "2025-06-15T21:52:36.773600Z",
     "iopub.status.busy": "2025-06-15T21:52:36.773236Z",
     "iopub.status.idle": "2025-06-15T21:52:36.778861Z",
     "shell.execute_reply": "2025-06-15T21:52:36.777848Z"
    },
    "papermill": {
     "duration": 0.013535,
     "end_time": "2025-06-15T21:52:36.780691",
     "exception": false,
     "start_time": "2025-06-15T21:52:36.767156",
     "status": "completed"
    },
    "tags": []
   },
   "outputs": [
    {
     "name": "stdout",
     "output_type": "stream",
     "text": [
      "[False, False, False, True, True]\n"
     ]
    }
   ],
   "source": [
    "test_liked = [i>=4 for i in test_ratings]\n",
    "print(test_liked)"
   ]
  },
  {
   "cell_type": "markdown",
   "id": "9cfd79e5",
   "metadata": {
    "papermill": {
     "duration": 0.005271,
     "end_time": "2025-06-15T21:52:36.791538",
     "exception": false,
     "start_time": "2025-06-15T21:52:36.786267",
     "status": "completed"
    },
    "tags": []
   },
   "source": [
    "In this question, you'll use this list comprehension to define a function `percentage_liked()` that takes one argument as input:\n",
    "- `ratings`: list of ratings that people gave to a movie, where each rating is a number between 1-5, inclusive\n",
    "\n",
    "We say someone liked the movie, if they gave a rating of either 4 or 5.  Your function should return the percentage of people who liked the movie.\n",
    "\n",
    "For instance, if we supply a value of `[1, 2, 3, 4, 5, 4, 5, 1]`, then 50% (4/8) of the people liked the movie, and the function should return `0.5`.\n",
    "\n",
    "Part of the function has already been completed for you.  You need only use `list_liked` to calculate `percentage_liked`."
   ]
  },
  {
   "cell_type": "code",
   "execution_count": 12,
   "id": "873b5843",
   "metadata": {
    "execution": {
     "iopub.execute_input": "2025-06-15T21:52:36.804242Z",
     "iopub.status.busy": "2025-06-15T21:52:36.803824Z",
     "iopub.status.idle": "2025-06-15T21:52:36.814334Z",
     "shell.execute_reply": "2025-06-15T21:52:36.813139Z"
    },
    "papermill": {
     "duration": 0.019424,
     "end_time": "2025-06-15T21:52:36.816293",
     "exception": false,
     "start_time": "2025-06-15T21:52:36.796869",
     "status": "completed"
    },
    "tags": []
   },
   "outputs": [
    {
     "name": "stdout",
     "output_type": "stream",
     "text": [
      "0.5\n"
     ]
    },
    {
     "data": {
      "application/javascript": [
       "parent.postMessage({\"jupyterEvent\": \"custom.exercise_interaction\", \"data\": {\"outcomeType\": 1, \"valueTowardsCompletion\": 0.2, \"interactionType\": 1, \"questionType\": 2, \"questionId\": \"4_PercentageLiked\", \"learnToolsVersion\": \"0.3.5\", \"failureMessage\": \"\", \"exceptionClass\": \"\", \"trace\": \"\"}}, \"*\")"
      ],
      "text/plain": [
       "<IPython.core.display.Javascript object>"
      ]
     },
     "metadata": {},
     "output_type": "display_data"
    },
    {
     "data": {
      "text/markdown": [
       "<span style=\"color:#33cc33\">Correct</span>"
      ],
      "text/plain": [
       "Correct"
      ]
     },
     "metadata": {},
     "output_type": "display_data"
    }
   ],
   "source": [
    "\n",
    "def percentage_liked(ratings):\n",
    "    list_liked = [i>=4 for i in ratings]\n",
    "    percentage_liked = sum(list_liked)\n",
    "    total_ratings = len(ratings)\n",
    "    return percentage_liked/total_ratings\n",
    "\n",
    "# Do not change: should return 0.5\n",
    "result = percentage_liked([1, 2, 3, 4, 5, 4, 5, 1])\n",
    "\n",
    "print(result)\n",
    "\n",
    "# Do not change: Check your answer\n",
    "q4.check()"
   ]
  },
  {
   "cell_type": "code",
   "execution_count": 13,
   "id": "57fb9039",
   "metadata": {
    "execution": {
     "iopub.execute_input": "2025-06-15T21:52:36.833002Z",
     "iopub.status.busy": "2025-06-15T21:52:36.831917Z",
     "iopub.status.idle": "2025-06-15T21:52:36.836740Z",
     "shell.execute_reply": "2025-06-15T21:52:36.835834Z"
    },
    "papermill": {
     "duration": 0.015118,
     "end_time": "2025-06-15T21:52:36.839293",
     "exception": false,
     "start_time": "2025-06-15T21:52:36.824175",
     "status": "completed"
    },
    "tags": []
   },
   "outputs": [],
   "source": [
    "# Uncomment to see a hint\n",
    "#q4.hint()\n",
    "\n",
    "# Uncomment to see the solution\n",
    "#q4.solution()"
   ]
  },
  {
   "cell_type": "markdown",
   "id": "599c58ae",
   "metadata": {
    "papermill": {
     "duration": 0.006734,
     "end_time": "2025-06-15T21:52:36.852490",
     "exception": false,
     "start_time": "2025-06-15T21:52:36.845756",
     "status": "completed"
    },
    "tags": []
   },
   "source": [
    "# 🌶️ Question 5\n",
    " \n",
    "Say you're doing analytics for a website.  You need to write a function that returns the percentage growth in the total number of users relative to a specified number of years ago.\n",
    "\n",
    "Your function `percentage_growth()` should take two arguments as input:\n",
    "- `num_users` = Python list with the total number of users each year.  So `num_users[0]` is the total number of users in the first year, `num_users[1]` is the total number of users in the second year, and so on.  The final entry in the list gives the total number of users in the most recently completed year.\n",
    "- `yrs_ago` = number of years to go back in time when calculating the growth percentage\n",
    "\n",
    "For instance, say `num_users = [920344, 1043553, 1204334, 1458996, 1503323, 1593432, 1623463, 1843064, 1930992, 2001078]`.\n",
    "- if `yrs_ago = 1`, we want the function to return a value of about `0.036`. This corresponds to a percentage growth of approximately 3.6%, calculated as (2001078 - 1930992)/1930992.\n",
    "- if `years_ago = 7`, we would want to return approximately `0.66`.  This corresponds to a percentage growth of approximately 66%, calculated as (2001078 - 1204334)/1204334.\n",
    "\n",
    "Your coworker sent you a draft of a function, but it doesn't seem to be doing the correct calculation.  Can you figure out what has gone wrong and make the needed changes?"
   ]
  },
  {
   "cell_type": "code",
   "execution_count": 14,
   "id": "249bf33d",
   "metadata": {
    "execution": {
     "iopub.execute_input": "2025-06-15T21:52:36.866308Z",
     "iopub.status.busy": "2025-06-15T21:52:36.865928Z",
     "iopub.status.idle": "2025-06-15T21:52:36.877234Z",
     "shell.execute_reply": "2025-06-15T21:52:36.876158Z"
    },
    "papermill": {
     "duration": 0.02009,
     "end_time": "2025-06-15T21:52:36.878909",
     "exception": false,
     "start_time": "2025-06-15T21:52:36.858819",
     "status": "completed"
    },
    "tags": []
   },
   "outputs": [
    {
     "name": "stdout",
     "output_type": "stream",
     "text": [
      "0.03629533421163837\n",
      "0.6615639847417742\n"
     ]
    },
    {
     "data": {
      "application/javascript": [
       "parent.postMessage({\"jupyterEvent\": \"custom.exercise_interaction\", \"data\": {\"outcomeType\": 1, \"valueTowardsCompletion\": 0.2, \"interactionType\": 1, \"questionType\": 2, \"questionId\": \"5_WebsiteAnalytics\", \"learnToolsVersion\": \"0.3.5\", \"failureMessage\": \"\", \"exceptionClass\": \"\", \"trace\": \"\"}}, \"*\")"
      ],
      "text/plain": [
       "<IPython.core.display.Javascript object>"
      ]
     },
     "metadata": {},
     "output_type": "display_data"
    },
    {
     "data": {
      "text/markdown": [
       "<span style=\"color:#33cc33\">Correct</span>"
      ],
      "text/plain": [
       "Correct"
      ]
     },
     "metadata": {},
     "output_type": "display_data"
    }
   ],
   "source": [
    "# TODO: Edit the function\n",
    "def percentage_growth(num_users, yrs_ago):\n",
    "    year_ago_position = yrs_ago+1\n",
    "    growth = ( num_users[-1] - num_users[len(num_users)-yrs_ago-1] ) / num_users[len(num_users)-yrs_ago-1]\n",
    "    return growth\n",
    "\n",
    "# Do not change: Variable for calculating some test examples\n",
    "num_users_test = [920344, 1043553, 1204334, 1458996, 1503323, 1593432, 1623463, 1843064, 1930992, 2001078]\n",
    "\n",
    "# Do not change: Should return .036\n",
    "print(percentage_growth(num_users_test, 1))\n",
    "\n",
    "# Do not change: Should return 0.66\n",
    "print(percentage_growth(num_users_test, 7))\n",
    "\n",
    "# Do not change: Check your answer\n",
    "q5.check()"
   ]
  },
  {
   "cell_type": "code",
   "execution_count": 15,
   "id": "3f6f1bfa",
   "metadata": {
    "execution": {
     "iopub.execute_input": "2025-06-15T21:52:36.892259Z",
     "iopub.status.busy": "2025-06-15T21:52:36.891976Z",
     "iopub.status.idle": "2025-06-15T21:52:36.896093Z",
     "shell.execute_reply": "2025-06-15T21:52:36.895214Z"
    },
    "papermill": {
     "duration": 0.012629,
     "end_time": "2025-06-15T21:52:36.897706",
     "exception": false,
     "start_time": "2025-06-15T21:52:36.885077",
     "status": "completed"
    },
    "tags": []
   },
   "outputs": [],
   "source": [
    "# Uncomment to see a hint\n",
    "#q5.hint()\n",
    "\n",
    "# Uncomment to see the solution\n",
    "#q5.solution()"
   ]
  },
  {
   "cell_type": "markdown",
   "id": "c6592a76",
   "metadata": {
    "papermill": {
     "duration": 0.006236,
     "end_time": "2025-06-15T21:52:36.909803",
     "exception": false,
     "start_time": "2025-06-15T21:52:36.903567",
     "status": "completed"
    },
    "tags": []
   },
   "source": [
    "# Congratulations!\n",
    "\n",
    "Congratulations for finishing the Intro to Programming course!  You should be proud of your very first steps with learning programming.  As next steps, we recommend taking:\n",
    "- the **[Python course](http://www.kaggle.com/learn/python)**, and \n",
    "- the **[Intro to Machine Learning course](https://www.kaggle.com/learn/intro-to-machine-learning)**."
   ]
  },
  {
   "cell_type": "markdown",
   "id": "e661ab85",
   "metadata": {
    "papermill": {
     "duration": 0.005347,
     "end_time": "2025-06-15T21:52:36.921104",
     "exception": false,
     "start_time": "2025-06-15T21:52:36.915757",
     "status": "completed"
    },
    "tags": []
   },
   "source": [
    "---\n",
    "\n",
    "\n",
    "\n",
    "\n",
    "*Have questions or comments? Visit the [course discussion forum](https://www.kaggle.com/learn/intro-to-programming/discussion) to chat with other learners.*"
   ]
  }
 ],
 "metadata": {
  "kaggle": {
   "accelerator": "none",
   "dataSources": [],
   "isGpuEnabled": false,
   "isInternetEnabled": false,
   "language": "python",
   "sourceType": "notebook"
  },
  "kernelspec": {
   "display_name": "Python 3",
   "language": "python",
   "name": "python3"
  },
  "language_info": {
   "codemirror_mode": {
    "name": "ipython",
    "version": 3
   },
   "file_extension": ".py",
   "mimetype": "text/x-python",
   "name": "python",
   "nbconvert_exporter": "python",
   "pygments_lexer": "ipython3",
   "version": "3.11.11"
  },
  "papermill": {
   "default_parameters": {},
   "duration": 8.259565,
   "end_time": "2025-06-15T21:52:37.446283",
   "environment_variables": {},
   "exception": null,
   "input_path": "__notebook__.ipynb",
   "output_path": "__notebook__.ipynb",
   "parameters": {},
   "start_time": "2025-06-15T21:52:29.186718",
   "version": "2.6.0"
  }
 },
 "nbformat": 4,
 "nbformat_minor": 5
}
