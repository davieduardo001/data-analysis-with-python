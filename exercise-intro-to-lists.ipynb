{
 "cells": [
  {
   "cell_type": "markdown",
   "id": "16aae684",
   "metadata": {
    "papermill": {
     "duration": 0.00526,
     "end_time": "2025-06-15T21:32:36.982198",
     "exception": false,
     "start_time": "2025-06-15T21:32:36.976938",
     "status": "completed"
    },
    "tags": []
   },
   "source": [
    "**This notebook is an exercise in the [Intro to Programming](https://www.kaggle.com/learn/intro-to-programming) course.  You can reference the tutorial at [this link](https://www.kaggle.com/alexisbcook/intro-to-lists).**\n",
    "\n",
    "---\n"
   ]
  },
  {
   "cell_type": "markdown",
   "id": "359c217c",
   "metadata": {
    "papermill": {
     "duration": 0.003899,
     "end_time": "2025-06-15T21:32:36.990399",
     "exception": false,
     "start_time": "2025-06-15T21:32:36.986500",
     "status": "completed"
    },
    "tags": []
   },
   "source": [
    "In the tutorial, you learned how to define and modify Python lists.  In this exercise, you will use your new knowledge to solve several problems.\n",
    "\n",
    "# Set up the notebook\n",
    "\n",
    "Run the next code cell without changes to set up the notebook."
   ]
  },
  {
   "cell_type": "code",
   "execution_count": 1,
   "id": "94a58fbc",
   "metadata": {
    "execution": {
     "iopub.execute_input": "2025-06-15T21:32:36.999573Z",
     "iopub.status.busy": "2025-06-15T21:32:36.999290Z",
     "iopub.status.idle": "2025-06-15T21:32:38.747658Z",
     "shell.execute_reply": "2025-06-15T21:32:38.746734Z"
    },
    "papermill": {
     "duration": 1.754758,
     "end_time": "2025-06-15T21:32:38.749097",
     "exception": false,
     "start_time": "2025-06-15T21:32:36.994339",
     "status": "completed"
    },
    "tags": []
   },
   "outputs": [
    {
     "name": "stdout",
     "output_type": "stream",
     "text": [
      "Setup complete.\n"
     ]
    }
   ],
   "source": [
    "from learntools.core import binder\n",
    "binder.bind(globals())\n",
    "from learntools.intro_to_programming.ex5 import *\n",
    "print('Setup complete.')"
   ]
  },
  {
   "cell_type": "markdown",
   "id": "065bb485",
   "metadata": {
    "papermill": {
     "duration": 0.003993,
     "end_time": "2025-06-15T21:32:38.757671",
     "exception": false,
     "start_time": "2025-06-15T21:32:38.753678",
     "status": "completed"
    },
    "tags": []
   },
   "source": [
    "# Question 1\n",
    "\n",
    "You own a restaurant with five food dishes, organized in the Python list `menu` below.  One day, you decide to:\n",
    "- remove bean soup (`'bean soup'`) from the menu, and\n",
    "- add roasted beet salad (`'roasted beet salad'`) to the menu.\n",
    "\n",
    "Implement this change to the list below.  While completing this task, \n",
    "- do not change the line that creates the `menu` list.  \n",
    "- your answer should use `.remove()` and `.append()`.  "
   ]
  },
  {
   "cell_type": "code",
   "execution_count": 2,
   "id": "2e11d874",
   "metadata": {
    "execution": {
     "iopub.execute_input": "2025-06-15T21:32:38.767257Z",
     "iopub.status.busy": "2025-06-15T21:32:38.766794Z",
     "iopub.status.idle": "2025-06-15T21:32:38.775331Z",
     "shell.execute_reply": "2025-06-15T21:32:38.774539Z"
    },
    "papermill": {
     "duration": 0.014898,
     "end_time": "2025-06-15T21:32:38.776596",
     "exception": false,
     "start_time": "2025-06-15T21:32:38.761698",
     "status": "completed"
    },
    "tags": []
   },
   "outputs": [
    {
     "data": {
      "application/javascript": [
       "parent.postMessage({\"jupyterEvent\": \"custom.exercise_interaction\", \"data\": {\"outcomeType\": 1, \"valueTowardsCompletion\": 0.2, \"interactionType\": 1, \"questionType\": 2, \"questionId\": \"1_FoodMenu\", \"learnToolsVersion\": \"0.3.5\", \"failureMessage\": \"\", \"exceptionClass\": \"\", \"trace\": \"\"}}, \"*\")"
      ],
      "text/plain": [
       "<IPython.core.display.Javascript object>"
      ]
     },
     "metadata": {},
     "output_type": "display_data"
    },
    {
     "data": {
      "text/markdown": [
       "<span style=\"color:#33cc33\">Correct</span>"
      ],
      "text/plain": [
       "Correct"
      ]
     },
     "metadata": {},
     "output_type": "display_data"
    }
   ],
   "source": [
    "# Do not change: Initial menu for your restaurant\n",
    "menu = ['stewed meat with onions', 'bean soup', 'risotto with trout and shrimp',\n",
    "       'fish soup with cream and onion', 'gyro']\n",
    "\n",
    "menu.remove('bean soup')\n",
    "menu.append('roasted beet salad')\n",
    "\n",
    "# TODO: remove 'bean soup', and add 'roasted beet salad' to the end of the menu\n",
    "____\n",
    "\n",
    "# Do not change: Check your answer\n",
    "q1.check()"
   ]
  },
  {
   "cell_type": "code",
   "execution_count": 3,
   "id": "636a514d",
   "metadata": {
    "execution": {
     "iopub.execute_input": "2025-06-15T21:32:38.788669Z",
     "iopub.status.busy": "2025-06-15T21:32:38.787758Z",
     "iopub.status.idle": "2025-06-15T21:32:38.792002Z",
     "shell.execute_reply": "2025-06-15T21:32:38.791346Z"
    },
    "papermill": {
     "duration": 0.010841,
     "end_time": "2025-06-15T21:32:38.793359",
     "exception": false,
     "start_time": "2025-06-15T21:32:38.782518",
     "status": "completed"
    },
    "tags": []
   },
   "outputs": [],
   "source": [
    "# Uncomment to see a hint\n",
    "#q1.hint()\n",
    "\n",
    "# Uncomment to see the solution\n",
    "#q1.solution()"
   ]
  },
  {
   "cell_type": "markdown",
   "id": "96545bff",
   "metadata": {
    "papermill": {
     "duration": 0.004367,
     "end_time": "2025-06-15T21:32:38.802149",
     "exception": false,
     "start_time": "2025-06-15T21:32:38.797782",
     "status": "completed"
    },
    "tags": []
   },
   "source": [
    "# Question 2\n",
    "\n",
    "The list `num_customers` contains the number of customers who came into your restaurant every day over the last month (which lasted thirty days).  Fill in values for each of the following:\n",
    "- `avg_first_seven` - average number of customers who visited in the first seven days\n",
    "- `avg_last_seven` - average number of customers who visited in the last seven days\n",
    "- `max_month` - number of customers on the day that got the most customers in the last month\n",
    "- `min_month` - number of customers on the day that got the least customers in the last month\n",
    "\n",
    "Answer this question by writing code.  For instance, if you have to find the minimum value in a list, use `min()` instead of scanning for the smallest value and directly filling in a number."
   ]
  },
  {
   "cell_type": "code",
   "execution_count": 4,
   "id": "8c58896a",
   "metadata": {
    "execution": {
     "iopub.execute_input": "2025-06-15T21:32:38.812273Z",
     "iopub.status.busy": "2025-06-15T21:32:38.811994Z",
     "iopub.status.idle": "2025-06-15T21:32:38.822059Z",
     "shell.execute_reply": "2025-06-15T21:32:38.821281Z"
    },
    "papermill": {
     "duration": 0.016754,
     "end_time": "2025-06-15T21:32:38.823291",
     "exception": false,
     "start_time": "2025-06-15T21:32:38.806537",
     "status": "completed"
    },
    "tags": []
   },
   "outputs": [
    {
     "name": "stdout",
     "output_type": "stream",
     "text": [
      "150.85714285714286\n",
      "157.0\n",
      "174\n",
      "126\n"
     ]
    },
    {
     "data": {
      "application/javascript": [
       "parent.postMessage({\"jupyterEvent\": \"custom.exercise_interaction\", \"data\": {\"outcomeType\": 1, \"valueTowardsCompletion\": 0.2, \"interactionType\": 1, \"questionType\": 1, \"questionId\": \"2_NumCustomers\", \"learnToolsVersion\": \"0.3.5\", \"failureMessage\": \"\", \"exceptionClass\": \"\", \"trace\": \"\"}}, \"*\")"
      ],
      "text/plain": [
       "<IPython.core.display.Javascript object>"
      ]
     },
     "metadata": {},
     "output_type": "display_data"
    },
    {
     "data": {
      "text/markdown": [
       "<span style=\"color:#33cc33\">Correct</span>"
      ],
      "text/plain": [
       "Correct"
      ]
     },
     "metadata": {},
     "output_type": "display_data"
    }
   ],
   "source": [
    "###### Do not change: Number of customers each day for the last month\n",
    "num_customers = [137, 147, 135, 128, 170, 174, 165, 146, 126, 159,\n",
    "                 141, 148, 132, 147, 168, 153, 170, 161, 148, 152,\n",
    "                 141, 151, 131, 149, 164, 163, 143, 143, 166, 171]\n",
    "\n",
    "# TODO: Fill in values for the variables below\n",
    "fist_seven_days = num_customers[:7]\n",
    "last_seven_days = num_customers[-7:]\n",
    "\n",
    "avg_first_seven = sum(fist_seven_days)/7\n",
    "avg_last_seven = sum(last_seven_days) /7\n",
    "max_month = max(num_customers)\n",
    "min_month = min(num_customers)\n",
    "\n",
    "print(avg_first_seven)\n",
    "print(avg_last_seven)\n",
    "print(max_month)\n",
    "print(min_month)\n",
    "\n",
    "# Do not change: Check your answer\n",
    "q2.check()"
   ]
  },
  {
   "cell_type": "code",
   "execution_count": 5,
   "id": "c1eacbdc",
   "metadata": {
    "execution": {
     "iopub.execute_input": "2025-06-15T21:32:38.833689Z",
     "iopub.status.busy": "2025-06-15T21:32:38.833443Z",
     "iopub.status.idle": "2025-06-15T21:32:38.837488Z",
     "shell.execute_reply": "2025-06-15T21:32:38.836681Z"
    },
    "papermill": {
     "duration": 0.010697,
     "end_time": "2025-06-15T21:32:38.838739",
     "exception": false,
     "start_time": "2025-06-15T21:32:38.828042",
     "status": "completed"
    },
    "tags": []
   },
   "outputs": [],
   "source": [
    "# Uncomment to see a hint\n",
    "#q2.hint()\n",
    "\n",
    "# Uncomment to see the solution\n",
    "#q2.solution()"
   ]
  },
  {
   "cell_type": "markdown",
   "id": "1273508f",
   "metadata": {
    "papermill": {
     "duration": 0.004399,
     "end_time": "2025-06-15T21:32:38.847970",
     "exception": false,
     "start_time": "2025-06-15T21:32:38.843571",
     "status": "completed"
    },
    "tags": []
   },
   "source": [
    "# Question 3\n",
    "\n",
    "In the tutorial, we gave an example of a Python string with information that was better as a list."
   ]
  },
  {
   "cell_type": "code",
   "execution_count": 6,
   "id": "02dd6fdb",
   "metadata": {
    "execution": {
     "iopub.execute_input": "2025-06-15T21:32:38.858267Z",
     "iopub.status.busy": "2025-06-15T21:32:38.857962Z",
     "iopub.status.idle": "2025-06-15T21:32:38.861712Z",
     "shell.execute_reply": "2025-06-15T21:32:38.861125Z"
    },
    "papermill": {
     "duration": 0.010557,
     "end_time": "2025-06-15T21:32:38.863136",
     "exception": false,
     "start_time": "2025-06-15T21:32:38.852579",
     "status": "completed"
    },
    "tags": []
   },
   "outputs": [],
   "source": [
    "flowers = \"pink primrose,hard-leaved pocket orchid,canterbury bells,sweet pea,english marigold,tiger lily,moon orchid,bird of paradise,monkshood,globe thistle\""
   ]
  },
  {
   "cell_type": "markdown",
   "id": "dd41c1e1",
   "metadata": {
    "papermill": {
     "duration": 0.004399,
     "end_time": "2025-06-15T21:32:38.872328",
     "exception": false,
     "start_time": "2025-06-15T21:32:38.867929",
     "status": "completed"
    },
    "tags": []
   },
   "source": [
    "You can actually use Python to quickly turn this string into a list with `.split()`.  In the parentheses, we need to provide the character should be used to mark the end of one list item and the beginning of another, and enclose it in quotation marks.  In this case, that character is a comma."
   ]
  },
  {
   "cell_type": "code",
   "execution_count": 7,
   "id": "28362ba1",
   "metadata": {
    "execution": {
     "iopub.execute_input": "2025-06-15T21:32:38.883352Z",
     "iopub.status.busy": "2025-06-15T21:32:38.883075Z",
     "iopub.status.idle": "2025-06-15T21:32:38.887744Z",
     "shell.execute_reply": "2025-06-15T21:32:38.886804Z"
    },
    "papermill": {
     "duration": 0.011376,
     "end_time": "2025-06-15T21:32:38.889084",
     "exception": false,
     "start_time": "2025-06-15T21:32:38.877708",
     "status": "completed"
    },
    "tags": []
   },
   "outputs": [
    {
     "name": "stdout",
     "output_type": "stream",
     "text": [
      "['pink primrose', 'hard-leaved pocket orchid', 'canterbury bells', 'sweet pea', 'english marigold', 'tiger lily', 'moon orchid', 'bird of paradise', 'monkshood', 'globe thistle']\n"
     ]
    }
   ],
   "source": [
    " print(flowers.split(\",\"))"
   ]
  },
  {
   "cell_type": "markdown",
   "id": "5afa08fd",
   "metadata": {
    "papermill": {
     "duration": 0.004301,
     "end_time": "2025-06-15T21:32:38.897944",
     "exception": false,
     "start_time": "2025-06-15T21:32:38.893643",
     "status": "completed"
    },
    "tags": []
   },
   "source": [
    "Now it is your turn to try this out!  Create two Python lists:\n",
    "- `letters` should be a Python list where each entry is an uppercase letter of the English alphabet.  For instance, the first two entries should be `\"A\"` and `\"B\"`, and the final two entries should be `\"Y\"` and `\"Z\"`.  Use the string `alphabet` to create this list.\n",
    "- `address` should be a Python list where each row in `address` is a different item in the list.  Currently, each row in `address` is separated by a comma. "
   ]
  },
  {
   "cell_type": "code",
   "execution_count": 8,
   "id": "5723acd0",
   "metadata": {
    "execution": {
     "iopub.execute_input": "2025-06-15T21:32:38.908712Z",
     "iopub.status.busy": "2025-06-15T21:32:38.908184Z",
     "iopub.status.idle": "2025-06-15T21:32:38.916224Z",
     "shell.execute_reply": "2025-06-15T21:32:38.915322Z"
    },
    "papermill": {
     "duration": 0.015172,
     "end_time": "2025-06-15T21:32:38.917541",
     "exception": false,
     "start_time": "2025-06-15T21:32:38.902369",
     "status": "completed"
    },
    "tags": []
   },
   "outputs": [
    {
     "name": "stdout",
     "output_type": "stream",
     "text": [
      "['A', 'B', 'C', 'D', 'E', 'F', 'G', 'H', 'I', 'J', 'K', 'L', 'M', 'N', 'O', 'P', 'Q', 'R', 'S', 'T', 'U', 'V', 'W', 'X', 'Y', 'Z']\n",
      "['Mr. H. Potter', 'The cupboard under the Stairs', '4 Privet Drive', 'Little Whinging', 'Surrey']\n"
     ]
    },
    {
     "data": {
      "application/javascript": [
       "parent.postMessage({\"jupyterEvent\": \"custom.exercise_interaction\", \"data\": {\"outcomeType\": 1, \"valueTowardsCompletion\": 0.2, \"interactionType\": 1, \"questionType\": 1, \"questionId\": \"3_SplitString\", \"learnToolsVersion\": \"0.3.5\", \"failureMessage\": \"\", \"exceptionClass\": \"\", \"trace\": \"\"}}, \"*\")"
      ],
      "text/plain": [
       "<IPython.core.display.Javascript object>"
      ]
     },
     "metadata": {},
     "output_type": "display_data"
    },
    {
     "data": {
      "text/markdown": [
       "<span style=\"color:#33cc33\">Correct</span>"
      ],
      "text/plain": [
       "Correct"
      ]
     },
     "metadata": {},
     "output_type": "display_data"
    }
   ],
   "source": [
    "# DO not change: Define two Python strings\n",
    "alphabet = \"A.B.C.D.E.F.G.H.I.J.K.L.M.N.O.P.Q.R.S.T.U.V.W.X.Y.Z\"\n",
    "address = \"Mr. H. Potter,The cupboard under the Stairs,4 Privet Drive,Little Whinging,Surrey\"\n",
    "\n",
    "# TODO: Convert strings into Python lists\n",
    "letters = alphabet.split('.')\n",
    "formatted_address = address.split(',')\n",
    "\n",
    "print(letters)\n",
    "print(formatted_address)\n",
    "# Do not change: Check your answer\n",
    "q3.check()"
   ]
  },
  {
   "cell_type": "code",
   "execution_count": 9,
   "id": "5c306dc8",
   "metadata": {
    "execution": {
     "iopub.execute_input": "2025-06-15T21:32:38.928380Z",
     "iopub.status.busy": "2025-06-15T21:32:38.927730Z",
     "iopub.status.idle": "2025-06-15T21:32:38.931491Z",
     "shell.execute_reply": "2025-06-15T21:32:38.930681Z"
    },
    "papermill": {
     "duration": 0.010624,
     "end_time": "2025-06-15T21:32:38.932946",
     "exception": false,
     "start_time": "2025-06-15T21:32:38.922322",
     "status": "completed"
    },
    "tags": []
   },
   "outputs": [],
   "source": [
    "# Uncomment to see a hint\n",
    "#q3.hint()\n",
    "\n",
    "# Uncomment to see the solution\n",
    "#q3.solution()"
   ]
  },
  {
   "cell_type": "markdown",
   "id": "a1ef9dda",
   "metadata": {
    "papermill": {
     "duration": 0.004623,
     "end_time": "2025-06-15T21:32:38.942679",
     "exception": false,
     "start_time": "2025-06-15T21:32:38.938056",
     "status": "completed"
    },
    "tags": []
   },
   "source": [
    "# Question 4\n",
    "\n",
    "In the Python course, you'll learn all about **list comprehensions**, which allow you to create a list based on the values in another list.  In this question, you'll get a brief preview of how they work.\n",
    "\n",
    "Say we're working with the list below."
   ]
  },
  {
   "cell_type": "code",
   "execution_count": 10,
   "id": "324d408f",
   "metadata": {
    "execution": {
     "iopub.execute_input": "2025-06-15T21:32:38.954204Z",
     "iopub.status.busy": "2025-06-15T21:32:38.953446Z",
     "iopub.status.idle": "2025-06-15T21:32:38.957735Z",
     "shell.execute_reply": "2025-06-15T21:32:38.957025Z"
    },
    "papermill": {
     "duration": 0.011361,
     "end_time": "2025-06-15T21:32:38.959162",
     "exception": false,
     "start_time": "2025-06-15T21:32:38.947801",
     "status": "completed"
    },
    "tags": []
   },
   "outputs": [],
   "source": [
    "test_ratings = [1, 2, 3, 4, 5]"
   ]
  },
  {
   "cell_type": "markdown",
   "id": "0f53b900",
   "metadata": {
    "papermill": {
     "duration": 0.004589,
     "end_time": "2025-06-15T21:32:38.968862",
     "exception": false,
     "start_time": "2025-06-15T21:32:38.964273",
     "status": "completed"
    },
    "tags": []
   },
   "source": [
    "Then we can use this list (`test_ratings`) to create a new list (`test_liked`) where each item has been turned into a boolean, depending on whether or not the item is greater than or equal to four."
   ]
  },
  {
   "cell_type": "code",
   "execution_count": 11,
   "id": "1dd2469b",
   "metadata": {
    "execution": {
     "iopub.execute_input": "2025-06-15T21:32:38.979934Z",
     "iopub.status.busy": "2025-06-15T21:32:38.979202Z",
     "iopub.status.idle": "2025-06-15T21:32:38.984197Z",
     "shell.execute_reply": "2025-06-15T21:32:38.983166Z"
    },
    "papermill": {
     "duration": 0.011867,
     "end_time": "2025-06-15T21:32:38.985474",
     "exception": false,
     "start_time": "2025-06-15T21:32:38.973607",
     "status": "completed"
    },
    "tags": []
   },
   "outputs": [
    {
     "name": "stdout",
     "output_type": "stream",
     "text": [
      "[False, False, False, True, True]\n"
     ]
    }
   ],
   "source": [
    "test_liked = [i>=4 for i in test_ratings]\n",
    "print(test_liked)"
   ]
  },
  {
   "cell_type": "markdown",
   "id": "ec465738",
   "metadata": {
    "papermill": {
     "duration": 0.00461,
     "end_time": "2025-06-15T21:32:38.995048",
     "exception": false,
     "start_time": "2025-06-15T21:32:38.990438",
     "status": "completed"
    },
    "tags": []
   },
   "source": [
    "In this question, you'll use this list comprehension to define a function `percentage_liked()` that takes one argument as input:\n",
    "- `ratings`: list of ratings that people gave to a movie, where each rating is a number between 1-5, inclusive\n",
    "\n",
    "We say someone liked the movie, if they gave a rating of either 4 or 5.  Your function should return the percentage of people who liked the movie.\n",
    "\n",
    "For instance, if we supply a value of `[1, 2, 3, 4, 5, 4, 5, 1]`, then 50% (4/8) of the people liked the movie, and the function should return `0.5`.\n",
    "\n",
    "Part of the function has already been completed for you.  You need only use `list_liked` to calculate `percentage_liked`."
   ]
  },
  {
   "cell_type": "code",
   "execution_count": 12,
   "id": "654a4a72",
   "metadata": {
    "execution": {
     "iopub.execute_input": "2025-06-15T21:32:39.006313Z",
     "iopub.status.busy": "2025-06-15T21:32:39.005543Z",
     "iopub.status.idle": "2025-06-15T21:32:39.014352Z",
     "shell.execute_reply": "2025-06-15T21:32:39.013645Z"
    },
    "papermill": {
     "duration": 0.015875,
     "end_time": "2025-06-15T21:32:39.015653",
     "exception": false,
     "start_time": "2025-06-15T21:32:38.999778",
     "status": "completed"
    },
    "tags": []
   },
   "outputs": [
    {
     "name": "stdout",
     "output_type": "stream",
     "text": [
      "0.5\n"
     ]
    },
    {
     "data": {
      "application/javascript": [
       "parent.postMessage({\"jupyterEvent\": \"custom.exercise_interaction\", \"data\": {\"outcomeType\": 1, \"valueTowardsCompletion\": 0.2, \"interactionType\": 1, \"questionType\": 2, \"questionId\": \"4_PercentageLiked\", \"learnToolsVersion\": \"0.3.5\", \"failureMessage\": \"\", \"exceptionClass\": \"\", \"trace\": \"\"}}, \"*\")"
      ],
      "text/plain": [
       "<IPython.core.display.Javascript object>"
      ]
     },
     "metadata": {},
     "output_type": "display_data"
    },
    {
     "data": {
      "text/markdown": [
       "<span style=\"color:#33cc33\">Correct</span>"
      ],
      "text/plain": [
       "Correct"
      ]
     },
     "metadata": {},
     "output_type": "display_data"
    }
   ],
   "source": [
    "\n",
    "def percentage_liked(ratings):\n",
    "    list_liked = [i>=4 for i in ratings]\n",
    "    percentage_liked = sum(list_liked)\n",
    "    total_ratings = len(ratings)\n",
    "    return percentage_liked/total_ratings\n",
    "\n",
    "# Do not change: should return 0.5\n",
    "result = percentage_liked([1, 2, 3, 4, 5, 4, 5, 1])\n",
    "\n",
    "print(result)\n",
    "\n",
    "# Do not change: Check your answer\n",
    "q4.check()"
   ]
  },
  {
   "cell_type": "code",
   "execution_count": 13,
   "id": "b55c7334",
   "metadata": {
    "execution": {
     "iopub.execute_input": "2025-06-15T21:32:39.027749Z",
     "iopub.status.busy": "2025-06-15T21:32:39.027479Z",
     "iopub.status.idle": "2025-06-15T21:32:39.030971Z",
     "shell.execute_reply": "2025-06-15T21:32:39.030277Z"
    },
    "papermill": {
     "duration": 0.01106,
     "end_time": "2025-06-15T21:32:39.032205",
     "exception": false,
     "start_time": "2025-06-15T21:32:39.021145",
     "status": "completed"
    },
    "tags": []
   },
   "outputs": [],
   "source": [
    "# Uncomment to see a hint\n",
    "#q4.hint()\n",
    "\n",
    "# Uncomment to see the solution\n",
    "#q4.solution()"
   ]
  },
  {
   "cell_type": "markdown",
   "id": "e6efa79b",
   "metadata": {
    "papermill": {
     "duration": 0.004929,
     "end_time": "2025-06-15T21:32:39.042285",
     "exception": false,
     "start_time": "2025-06-15T21:32:39.037356",
     "status": "completed"
    },
    "tags": []
   },
   "source": [
    "# 🌶️ Question 5\n",
    " \n",
    "Say you're doing analytics for a website.  You need to write a function that returns the percentage growth in the total number of users relative to a specified number of years ago.\n",
    "\n",
    "Your function `percentage_growth()` should take two arguments as input:\n",
    "- `num_users` = Python list with the total number of users each year.  So `num_users[0]` is the total number of users in the first year, `num_users[1]` is the total number of users in the second year, and so on.  The final entry in the list gives the total number of users in the most recently completed year.\n",
    "- `yrs_ago` = number of years to go back in time when calculating the growth percentage\n",
    "\n",
    "For instance, say `num_users = [920344, 1043553, 1204334, 1458996, 1503323, 1593432, 1623463, 1843064, 1930992, 2001078]`.\n",
    "- if `yrs_ago = 1`, we want the function to return a value of about `0.036`. This corresponds to a percentage growth of approximately 3.6%, calculated as (2001078 - 1930992)/1930992.\n",
    "- if `years_ago = 7`, we would want to return approximately `0.66`.  This corresponds to a percentage growth of approximately 66%, calculated as (2001078 - 1204334)/1204334.\n",
    "\n",
    "Your coworker sent you a draft of a function, but it doesn't seem to be doing the correct calculation.  Can you figure out what has gone wrong and make the needed changes?"
   ]
  },
  {
   "cell_type": "code",
   "execution_count": 14,
   "id": "b850fcc6",
   "metadata": {
    "execution": {
     "iopub.execute_input": "2025-06-15T21:32:39.054265Z",
     "iopub.status.busy": "2025-06-15T21:32:39.053590Z",
     "iopub.status.idle": "2025-06-15T21:32:39.061811Z",
     "shell.execute_reply": "2025-06-15T21:32:39.061118Z"
    },
    "papermill": {
     "duration": 0.01561,
     "end_time": "2025-06-15T21:32:39.063133",
     "exception": false,
     "start_time": "2025-06-15T21:32:39.047523",
     "status": "completed"
    },
    "tags": []
   },
   "outputs": [
    {
     "name": "stdout",
     "output_type": "stream",
     "text": [
      "0.0\n",
      "0.2807272117129434\n"
     ]
    },
    {
     "data": {
      "application/javascript": [
       "parent.postMessage({\"jupyterEvent\": \"custom.exercise_interaction\", \"data\": {\"outcomeType\": 2, \"failureMessage\": \"Expected return value of `0.03629533421163837` given `num_users=[920344, 1043553, 1204334, 1458996, 1503323, 1593432, 1623463, 1843064, 1930992, 2001078]`, `yrs_ago=1`, but got `0.0` instead.\", \"interactionType\": 1, \"questionType\": 2, \"questionId\": \"5_WebsiteAnalytics\", \"learnToolsVersion\": \"0.3.5\", \"valueTowardsCompletion\": 0.0, \"exceptionClass\": \"\", \"trace\": \"\"}}, \"*\")"
      ],
      "text/plain": [
       "<IPython.core.display.Javascript object>"
      ]
     },
     "metadata": {},
     "output_type": "display_data"
    },
    {
     "data": {
      "text/markdown": [
       "<span style=\"color:#cc3333\">Incorrect:</span> Expected return value of `0.03629533421163837` given `num_users=[920344, 1043553, 1204334, 1458996, 1503323, 1593432, 1623463, 1843064, 1930992, 2001078]`, `yrs_ago=1`, but got `0.0` instead."
      ],
      "text/plain": [
       "Incorrect: Expected return value of `0.03629533421163837` given `num_users=[920344, 1043553, 1204334, 1458996, 1503323, 1593432, 1623463, 1843064, 1930992, 2001078]`, `yrs_ago=1`, but got `0.0` instead."
      ]
     },
     "metadata": {},
     "output_type": "display_data"
    }
   ],
   "source": [
    "# TODO: Edit the function\n",
    "def percentage_growth(num_users, yrs_ago):\n",
    "    growth = (num_users[len(num_users)-1] - num_users[len(num_users)-yrs_ago])/num_users[len(num_users)-2]\n",
    "    return growth\n",
    "\n",
    "# Do not change: Variable for calculating some test examples\n",
    "num_users_test = [920344, 1043553, 1204334, 1458996, 1503323, 1593432, 1623463, 1843064, 1930992, 2001078]\n",
    "\n",
    "# Do not change: Should return .036\n",
    "print(percentage_growth(num_users_test, 1))\n",
    "\n",
    "# Do not change: Should return 0.66\n",
    "print(percentage_growth(num_users_test, 7))\n",
    "\n",
    "# Do not change: Check your answer\n",
    "q5.check()"
   ]
  },
  {
   "cell_type": "code",
   "execution_count": 15,
   "id": "e3ad355c",
   "metadata": {
    "execution": {
     "iopub.execute_input": "2025-06-15T21:32:39.075508Z",
     "iopub.status.busy": "2025-06-15T21:32:39.074878Z",
     "iopub.status.idle": "2025-06-15T21:32:39.078364Z",
     "shell.execute_reply": "2025-06-15T21:32:39.077684Z"
    },
    "papermill": {
     "duration": 0.011206,
     "end_time": "2025-06-15T21:32:39.079719",
     "exception": false,
     "start_time": "2025-06-15T21:32:39.068513",
     "status": "completed"
    },
    "tags": []
   },
   "outputs": [],
   "source": [
    "# Uncomment to see a hint\n",
    "#q5.hint()\n",
    "\n",
    "# Uncomment to see the solution\n",
    "#q5.solution()"
   ]
  },
  {
   "cell_type": "markdown",
   "id": "7f5eecf8",
   "metadata": {
    "papermill": {
     "duration": 0.005264,
     "end_time": "2025-06-15T21:32:39.090740",
     "exception": false,
     "start_time": "2025-06-15T21:32:39.085476",
     "status": "completed"
    },
    "tags": []
   },
   "source": [
    "# Congratulations!\n",
    "\n",
    "Congratulations for finishing the Intro to Programming course!  You should be proud of your very first steps with learning programming.  As next steps, we recommend taking:\n",
    "- the **[Python course](http://www.kaggle.com/learn/python)**, and \n",
    "- the **[Intro to Machine Learning course](https://www.kaggle.com/learn/intro-to-machine-learning)**."
   ]
  },
  {
   "cell_type": "markdown",
   "id": "ca20fe3a",
   "metadata": {
    "papermill": {
     "duration": 0.005323,
     "end_time": "2025-06-15T21:32:39.101688",
     "exception": false,
     "start_time": "2025-06-15T21:32:39.096365",
     "status": "completed"
    },
    "tags": []
   },
   "source": [
    "---\n",
    "\n",
    "\n",
    "\n",
    "\n",
    "*Have questions or comments? Visit the [course discussion forum](https://www.kaggle.com/learn/intro-to-programming/discussion) to chat with other learners.*"
   ]
  }
 ],
 "metadata": {
  "kaggle": {
   "accelerator": "none",
   "dataSources": [],
   "isGpuEnabled": false,
   "isInternetEnabled": false,
   "language": "python",
   "sourceType": "notebook"
  },
  "kernelspec": {
   "display_name": "Python 3",
   "language": "python",
   "name": "python3"
  },
  "language_info": {
   "codemirror_mode": {
    "name": "ipython",
    "version": 3
   },
   "file_extension": ".py",
   "mimetype": "text/x-python",
   "name": "python",
   "nbconvert_exporter": "python",
   "pygments_lexer": "ipython3",
   "version": "3.11.11"
  },
  "papermill": {
   "default_parameters": {},
   "duration": 7.251152,
   "end_time": "2025-06-15T21:32:39.626760",
   "environment_variables": {},
   "exception": null,
   "input_path": "__notebook__.ipynb",
   "output_path": "__notebook__.ipynb",
   "parameters": {},
   "start_time": "2025-06-15T21:32:32.375608",
   "version": "2.6.0"
  }
 },
 "nbformat": 4,
 "nbformat_minor": 5
}
