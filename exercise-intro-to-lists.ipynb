{
 "cells": [
  {
   "cell_type": "markdown",
   "id": "9ed6afc2",
   "metadata": {
    "papermill": {
     "duration": 0.005092,
     "end_time": "2025-06-15T21:09:06.131959",
     "exception": false,
     "start_time": "2025-06-15T21:09:06.126867",
     "status": "completed"
    },
    "tags": []
   },
   "source": [
    "**This notebook is an exercise in the [Intro to Programming](https://www.kaggle.com/learn/intro-to-programming) course.  You can reference the tutorial at [this link](https://www.kaggle.com/alexisbcook/intro-to-lists).**\n",
    "\n",
    "---\n"
   ]
  },
  {
   "cell_type": "markdown",
   "id": "236ae02e",
   "metadata": {
    "papermill": {
     "duration": 0.00386,
     "end_time": "2025-06-15T21:09:06.140125",
     "exception": false,
     "start_time": "2025-06-15T21:09:06.136265",
     "status": "completed"
    },
    "tags": []
   },
   "source": [
    "In the tutorial, you learned how to define and modify Python lists.  In this exercise, you will use your new knowledge to solve several problems.\n",
    "\n",
    "# Set up the notebook\n",
    "\n",
    "Run the next code cell without changes to set up the notebook."
   ]
  },
  {
   "cell_type": "code",
   "execution_count": 1,
   "id": "d09606a1",
   "metadata": {
    "execution": {
     "iopub.execute_input": "2025-06-15T21:09:06.150033Z",
     "iopub.status.busy": "2025-06-15T21:09:06.149720Z",
     "iopub.status.idle": "2025-06-15T21:09:08.250853Z",
     "shell.execute_reply": "2025-06-15T21:09:08.249779Z"
    },
    "papermill": {
     "duration": 2.108182,
     "end_time": "2025-06-15T21:09:08.252385",
     "exception": false,
     "start_time": "2025-06-15T21:09:06.144203",
     "status": "completed"
    },
    "tags": []
   },
   "outputs": [
    {
     "name": "stdout",
     "output_type": "stream",
     "text": [
      "Setup complete.\n"
     ]
    }
   ],
   "source": [
    "from learntools.core import binder\n",
    "binder.bind(globals())\n",
    "from learntools.intro_to_programming.ex5 import *\n",
    "print('Setup complete.')"
   ]
  },
  {
   "cell_type": "markdown",
   "id": "6b5af89a",
   "metadata": {
    "papermill": {
     "duration": 0.004108,
     "end_time": "2025-06-15T21:09:08.261003",
     "exception": false,
     "start_time": "2025-06-15T21:09:08.256895",
     "status": "completed"
    },
    "tags": []
   },
   "source": [
    "# Question 1\n",
    "\n",
    "You own a restaurant with five food dishes, organized in the Python list `menu` below.  One day, you decide to:\n",
    "- remove bean soup (`'bean soup'`) from the menu, and\n",
    "- add roasted beet salad (`'roasted beet salad'`) to the menu.\n",
    "\n",
    "Implement this change to the list below.  While completing this task, \n",
    "- do not change the line that creates the `menu` list.  \n",
    "- your answer should use `.remove()` and `.append()`.  "
   ]
  },
  {
   "cell_type": "code",
   "execution_count": 2,
   "id": "594f350d",
   "metadata": {
    "execution": {
     "iopub.execute_input": "2025-06-15T21:09:08.270688Z",
     "iopub.status.busy": "2025-06-15T21:09:08.270240Z",
     "iopub.status.idle": "2025-06-15T21:09:08.279317Z",
     "shell.execute_reply": "2025-06-15T21:09:08.278406Z"
    },
    "papermill": {
     "duration": 0.015672,
     "end_time": "2025-06-15T21:09:08.280867",
     "exception": false,
     "start_time": "2025-06-15T21:09:08.265195",
     "status": "completed"
    },
    "tags": []
   },
   "outputs": [
    {
     "data": {
      "application/javascript": [
       "parent.postMessage({\"jupyterEvent\": \"custom.exercise_interaction\", \"data\": {\"outcomeType\": 1, \"valueTowardsCompletion\": 0.2, \"interactionType\": 1, \"questionType\": 2, \"questionId\": \"1_FoodMenu\", \"learnToolsVersion\": \"0.3.5\", \"failureMessage\": \"\", \"exceptionClass\": \"\", \"trace\": \"\"}}, \"*\")"
      ],
      "text/plain": [
       "<IPython.core.display.Javascript object>"
      ]
     },
     "metadata": {},
     "output_type": "display_data"
    },
    {
     "data": {
      "text/markdown": [
       "<span style=\"color:#33cc33\">Correct</span>"
      ],
      "text/plain": [
       "Correct"
      ]
     },
     "metadata": {},
     "output_type": "display_data"
    }
   ],
   "source": [
    "# Do not change: Initial menu for your restaurant\n",
    "menu = ['stewed meat with onions', 'bean soup', 'risotto with trout and shrimp',\n",
    "       'fish soup with cream and onion', 'gyro']\n",
    "\n",
    "menu.remove('bean soup')\n",
    "menu.append('roasted beet salad')\n",
    "\n",
    "# TODO: remove 'bean soup', and add 'roasted beet salad' to the end of the menu\n",
    "____\n",
    "\n",
    "# Do not change: Check your answer\n",
    "q1.check()"
   ]
  },
  {
   "cell_type": "code",
   "execution_count": 3,
   "id": "898a36dc",
   "metadata": {
    "execution": {
     "iopub.execute_input": "2025-06-15T21:09:08.291003Z",
     "iopub.status.busy": "2025-06-15T21:09:08.290699Z",
     "iopub.status.idle": "2025-06-15T21:09:08.295181Z",
     "shell.execute_reply": "2025-06-15T21:09:08.294105Z"
    },
    "papermill": {
     "duration": 0.011412,
     "end_time": "2025-06-15T21:09:08.296802",
     "exception": false,
     "start_time": "2025-06-15T21:09:08.285390",
     "status": "completed"
    },
    "tags": []
   },
   "outputs": [],
   "source": [
    "# Uncomment to see a hint\n",
    "#q1.hint()\n",
    "\n",
    "# Uncomment to see the solution\n",
    "#q1.solution()"
   ]
  },
  {
   "cell_type": "markdown",
   "id": "6125fe3f",
   "metadata": {
    "papermill": {
     "duration": 0.00431,
     "end_time": "2025-06-15T21:09:08.305825",
     "exception": false,
     "start_time": "2025-06-15T21:09:08.301515",
     "status": "completed"
    },
    "tags": []
   },
   "source": [
    "# Question 2\n",
    "\n",
    "The list `num_customers` contains the number of customers who came into your restaurant every day over the last month (which lasted thirty days).  Fill in values for each of the following:\n",
    "- `avg_first_seven` - average number of customers who visited in the first seven days\n",
    "- `avg_last_seven` - average number of customers who visited in the last seven days\n",
    "- `max_month` - number of customers on the day that got the most customers in the last month\n",
    "- `min_month` - number of customers on the day that got the least customers in the last month\n",
    "\n",
    "Answer this question by writing code.  For instance, if you have to find the minimum value in a list, use `min()` instead of scanning for the smallest value and directly filling in a number."
   ]
  },
  {
   "cell_type": "code",
   "execution_count": 4,
   "id": "9cfbf830",
   "metadata": {
    "execution": {
     "iopub.execute_input": "2025-06-15T21:09:08.315698Z",
     "iopub.status.busy": "2025-06-15T21:09:08.315347Z",
     "iopub.status.idle": "2025-06-15T21:09:08.325837Z",
     "shell.execute_reply": "2025-06-15T21:09:08.324826Z"
    },
    "papermill": {
     "duration": 0.017149,
     "end_time": "2025-06-15T21:09:08.327266",
     "exception": false,
     "start_time": "2025-06-15T21:09:08.310117",
     "status": "completed"
    },
    "tags": []
   },
   "outputs": [
    {
     "data": {
      "application/javascript": [
       "parent.postMessage({\"jupyterEvent\": \"custom.exercise_interaction\", \"data\": {\"outcomeType\": 1, \"valueTowardsCompletion\": 0.2, \"interactionType\": 1, \"questionType\": 1, \"questionId\": \"2_NumCustomers\", \"learnToolsVersion\": \"0.3.5\", \"failureMessage\": \"\", \"exceptionClass\": \"\", \"trace\": \"\"}}, \"*\")"
      ],
      "text/plain": [
       "<IPython.core.display.Javascript object>"
      ]
     },
     "metadata": {},
     "output_type": "display_data"
    },
    {
     "data": {
      "text/markdown": [
       "<span style=\"color:#33cc33\">Correct</span>"
      ],
      "text/plain": [
       "Correct"
      ]
     },
     "metadata": {},
     "output_type": "display_data"
    }
   ],
   "source": [
    "###### Do not change: Number of customers each day for the last month\n",
    "num_customers = [137, 147, 135, 128, 170, 174, 165, 146, 126, 159,\n",
    "                 141, 148, 132, 147, 168, 153, 170, 161, 148, 152,\n",
    "                 141, 151, 131, 149, 164, 163, 143, 143, 166, 171]\n",
    "\n",
    "# TODO: Fill in values for the variables below\n",
    "fist_seven_days = num_customers[:7]\n",
    "last_seven_days = num_customers[-7:]\n",
    "avg_first_seven = sum(fist_seven_days)/7\n",
    "avg_last_seven = sum(last_seven_days) /7\n",
    "max_month = max(num_customers)\n",
    "min_month = min(num_customers)\n",
    "\n",
    "# Do not change: Check your answer\n",
    "q2.check()"
   ]
  },
  {
   "cell_type": "code",
   "execution_count": 5,
   "id": "0d2a8718",
   "metadata": {
    "execution": {
     "iopub.execute_input": "2025-06-15T21:09:08.339207Z",
     "iopub.status.busy": "2025-06-15T21:09:08.338896Z",
     "iopub.status.idle": "2025-06-15T21:09:08.343052Z",
     "shell.execute_reply": "2025-06-15T21:09:08.342187Z"
    },
    "papermill": {
     "duration": 0.011526,
     "end_time": "2025-06-15T21:09:08.344479",
     "exception": false,
     "start_time": "2025-06-15T21:09:08.332953",
     "status": "completed"
    },
    "tags": []
   },
   "outputs": [],
   "source": [
    "# Uncomment to see a hint\n",
    "#q2.hint()\n",
    "\n",
    "# Uncomment to see the solution\n",
    "#q2.solution()"
   ]
  },
  {
   "cell_type": "markdown",
   "id": "472b8480",
   "metadata": {
    "papermill": {
     "duration": 0.005206,
     "end_time": "2025-06-15T21:09:08.354442",
     "exception": false,
     "start_time": "2025-06-15T21:09:08.349236",
     "status": "completed"
    },
    "tags": []
   },
   "source": [
    "# Question 3\n",
    "\n",
    "In the tutorial, we gave an example of a Python string with information that was better as a list."
   ]
  },
  {
   "cell_type": "code",
   "execution_count": 6,
   "id": "da998ec0",
   "metadata": {
    "execution": {
     "iopub.execute_input": "2025-06-15T21:09:08.365771Z",
     "iopub.status.busy": "2025-06-15T21:09:08.365382Z",
     "iopub.status.idle": "2025-06-15T21:09:08.369945Z",
     "shell.execute_reply": "2025-06-15T21:09:08.369035Z"
    },
    "papermill": {
     "duration": 0.011862,
     "end_time": "2025-06-15T21:09:08.371623",
     "exception": false,
     "start_time": "2025-06-15T21:09:08.359761",
     "status": "completed"
    },
    "tags": []
   },
   "outputs": [],
   "source": [
    "flowers = \"pink primrose,hard-leaved pocket orchid,canterbury bells,sweet pea,english marigold,tiger lily,moon orchid,bird of paradise,monkshood,globe thistle\""
   ]
  },
  {
   "cell_type": "markdown",
   "id": "337c949f",
   "metadata": {
    "papermill": {
     "duration": 0.004561,
     "end_time": "2025-06-15T21:09:08.381148",
     "exception": false,
     "start_time": "2025-06-15T21:09:08.376587",
     "status": "completed"
    },
    "tags": []
   },
   "source": [
    "You can actually use Python to quickly turn this string into a list with `.split()`.  In the parentheses, we need to provide the character should be used to mark the end of one list item and the beginning of another, and enclose it in quotation marks.  In this case, that character is a comma."
   ]
  },
  {
   "cell_type": "code",
   "execution_count": 7,
   "id": "e05913d0",
   "metadata": {
    "execution": {
     "iopub.execute_input": "2025-06-15T21:09:08.392338Z",
     "iopub.status.busy": "2025-06-15T21:09:08.391607Z",
     "iopub.status.idle": "2025-06-15T21:09:08.397236Z",
     "shell.execute_reply": "2025-06-15T21:09:08.396253Z"
    },
    "papermill": {
     "duration": 0.012891,
     "end_time": "2025-06-15T21:09:08.398833",
     "exception": false,
     "start_time": "2025-06-15T21:09:08.385942",
     "status": "completed"
    },
    "tags": []
   },
   "outputs": [
    {
     "name": "stdout",
     "output_type": "stream",
     "text": [
      "['pink primrose', 'hard-leaved pocket orchid', 'canterbury bells', 'sweet pea', 'english marigold', 'tiger lily', 'moon orchid', 'bird of paradise', 'monkshood', 'globe thistle']\n"
     ]
    }
   ],
   "source": [
    " print(flowers.split(\",\"))"
   ]
  },
  {
   "cell_type": "markdown",
   "id": "2dd68e27",
   "metadata": {
    "papermill": {
     "duration": 0.004986,
     "end_time": "2025-06-15T21:09:08.408745",
     "exception": false,
     "start_time": "2025-06-15T21:09:08.403759",
     "status": "completed"
    },
    "tags": []
   },
   "source": [
    "Now it is your turn to try this out!  Create two Python lists:\n",
    "- `letters` should be a Python list where each entry is an uppercase letter of the English alphabet.  For instance, the first two entries should be `\"A\"` and `\"B\"`, and the final two entries should be `\"Y\"` and `\"Z\"`.  Use the string `alphabet` to create this list.\n",
    "- `address` should be a Python list where each row in `address` is a different item in the list.  Currently, each row in `address` is separated by a comma. "
   ]
  },
  {
   "cell_type": "code",
   "execution_count": 8,
   "id": "8ba9f8d6",
   "metadata": {
    "execution": {
     "iopub.execute_input": "2025-06-15T21:09:08.419581Z",
     "iopub.status.busy": "2025-06-15T21:09:08.419184Z",
     "iopub.status.idle": "2025-06-15T21:09:08.427968Z",
     "shell.execute_reply": "2025-06-15T21:09:08.427084Z"
    },
    "papermill": {
     "duration": 0.01587,
     "end_time": "2025-06-15T21:09:08.429362",
     "exception": false,
     "start_time": "2025-06-15T21:09:08.413492",
     "status": "completed"
    },
    "tags": []
   },
   "outputs": [
    {
     "data": {
      "application/javascript": [
       "parent.postMessage({\"jupyterEvent\": \"custom.exercise_interaction\", \"data\": {\"outcomeType\": 4, \"interactionType\": 1, \"questionType\": 1, \"questionId\": \"3_SplitString\", \"learnToolsVersion\": \"0.3.5\", \"valueTowardsCompletion\": 0.0, \"failureMessage\": \"\", \"exceptionClass\": \"\", \"trace\": \"\"}}, \"*\")"
      ],
      "text/plain": [
       "<IPython.core.display.Javascript object>"
      ]
     },
     "metadata": {},
     "output_type": "display_data"
    },
    {
     "data": {
      "text/markdown": [
       "<span style=\"color:#ccaa33\">Check:</span> When you've updated the starter code, `check()` will tell you whether your code is correct. You need to update the code that creates variables `letters`, `formatted_address`"
      ],
      "text/plain": [
       "Check: When you've updated the starter code, `check()` will tell you whether your code is correct. You need to update the code that creates variables `letters`, `formatted_address`"
      ]
     },
     "metadata": {},
     "output_type": "display_data"
    }
   ],
   "source": [
    "# DO not change: Define two Python strings\n",
    "alphabet = \"A.B.C.D.E.F.G.H.I.J.K.L.M.N.O.P.Q.R.S.T.U.V.W.X.Y.Z\"\n",
    "address = \"Mr. H. Potter,The cupboard under the Stairs,4 Privet Drive,Little Whinging,Surrey\"\n",
    "\n",
    "# TODO: Convert strings into Python lists\n",
    "letters = ____\n",
    "formatted_address = ____\n",
    "\n",
    "# Do not change: Check your answer\n",
    "q3.check()"
   ]
  },
  {
   "cell_type": "code",
   "execution_count": 9,
   "id": "09ec3450",
   "metadata": {
    "execution": {
     "iopub.execute_input": "2025-06-15T21:09:08.441319Z",
     "iopub.status.busy": "2025-06-15T21:09:08.441005Z",
     "iopub.status.idle": "2025-06-15T21:09:08.445534Z",
     "shell.execute_reply": "2025-06-15T21:09:08.444499Z"
    },
    "papermill": {
     "duration": 0.012953,
     "end_time": "2025-06-15T21:09:08.447358",
     "exception": false,
     "start_time": "2025-06-15T21:09:08.434405",
     "status": "completed"
    },
    "tags": []
   },
   "outputs": [],
   "source": [
    "# Uncomment to see a hint\n",
    "#q3.hint()\n",
    "\n",
    "# Uncomment to see the solution\n",
    "#q3.solution()"
   ]
  },
  {
   "cell_type": "markdown",
   "id": "16097fb7",
   "metadata": {
    "papermill": {
     "duration": 0.005397,
     "end_time": "2025-06-15T21:09:08.458627",
     "exception": false,
     "start_time": "2025-06-15T21:09:08.453230",
     "status": "completed"
    },
    "tags": []
   },
   "source": [
    "# Question 4\n",
    "\n",
    "In the Python course, you'll learn all about **list comprehensions**, which allow you to create a list based on the values in another list.  In this question, you'll get a brief preview of how they work.\n",
    "\n",
    "Say we're working with the list below."
   ]
  },
  {
   "cell_type": "code",
   "execution_count": 10,
   "id": "f52a2987",
   "metadata": {
    "execution": {
     "iopub.execute_input": "2025-06-15T21:09:08.470013Z",
     "iopub.status.busy": "2025-06-15T21:09:08.469621Z",
     "iopub.status.idle": "2025-06-15T21:09:08.474687Z",
     "shell.execute_reply": "2025-06-15T21:09:08.473768Z"
    },
    "papermill": {
     "duration": 0.012739,
     "end_time": "2025-06-15T21:09:08.476359",
     "exception": false,
     "start_time": "2025-06-15T21:09:08.463620",
     "status": "completed"
    },
    "tags": []
   },
   "outputs": [],
   "source": [
    "test_ratings = [1, 2, 3, 4, 5]"
   ]
  },
  {
   "cell_type": "markdown",
   "id": "1e125463",
   "metadata": {
    "papermill": {
     "duration": 0.004717,
     "end_time": "2025-06-15T21:09:08.486145",
     "exception": false,
     "start_time": "2025-06-15T21:09:08.481428",
     "status": "completed"
    },
    "tags": []
   },
   "source": [
    "Then we can use this list (`test_ratings`) to create a new list (`test_liked`) where each item has been turned into a boolean, depending on whether or not the item is greater than or equal to four."
   ]
  },
  {
   "cell_type": "code",
   "execution_count": 11,
   "id": "96797a7b",
   "metadata": {
    "execution": {
     "iopub.execute_input": "2025-06-15T21:09:08.497597Z",
     "iopub.status.busy": "2025-06-15T21:09:08.497175Z",
     "iopub.status.idle": "2025-06-15T21:09:08.503076Z",
     "shell.execute_reply": "2025-06-15T21:09:08.502076Z"
    },
    "papermill": {
     "duration": 0.013533,
     "end_time": "2025-06-15T21:09:08.504622",
     "exception": false,
     "start_time": "2025-06-15T21:09:08.491089",
     "status": "completed"
    },
    "tags": []
   },
   "outputs": [
    {
     "name": "stdout",
     "output_type": "stream",
     "text": [
      "[False, False, False, True, True]\n"
     ]
    }
   ],
   "source": [
    "test_liked = [i>=4 for i in test_ratings]\n",
    "print(test_liked)"
   ]
  },
  {
   "cell_type": "markdown",
   "id": "20ece16b",
   "metadata": {
    "papermill": {
     "duration": 0.004829,
     "end_time": "2025-06-15T21:09:08.514646",
     "exception": false,
     "start_time": "2025-06-15T21:09:08.509817",
     "status": "completed"
    },
    "tags": []
   },
   "source": [
    "In this question, you'll use this list comprehension to define a function `percentage_liked()` that takes one argument as input:\n",
    "- `ratings`: list of ratings that people gave to a movie, where each rating is a number between 1-5, inclusive\n",
    "\n",
    "We say someone liked the movie, if they gave a rating of either 4 or 5.  Your function should return the percentage of people who liked the movie.\n",
    "\n",
    "For instance, if we supply a value of `[1, 2, 3, 4, 5, 4, 5, 1]`, then 50% (4/8) of the people liked the movie, and the function should return `0.5`.\n",
    "\n",
    "Part of the function has already been completed for you.  You need only use `list_liked` to calculate `percentage_liked`."
   ]
  },
  {
   "cell_type": "code",
   "execution_count": 12,
   "id": "0d372194",
   "metadata": {
    "execution": {
     "iopub.execute_input": "2025-06-15T21:09:08.526184Z",
     "iopub.status.busy": "2025-06-15T21:09:08.525807Z",
     "iopub.status.idle": "2025-06-15T21:09:08.535453Z",
     "shell.execute_reply": "2025-06-15T21:09:08.534612Z"
    },
    "papermill": {
     "duration": 0.017422,
     "end_time": "2025-06-15T21:09:08.537096",
     "exception": false,
     "start_time": "2025-06-15T21:09:08.519674",
     "status": "completed"
    },
    "tags": []
   },
   "outputs": [
    {
     "data": {
      "application/javascript": [
       "parent.postMessage({\"jupyterEvent\": \"custom.exercise_interaction\", \"data\": {\"outcomeType\": 2, \"failureMessage\": \"Expected return value of `0.5` given `ratings=[1, 2, 3, 4, 5, 4, 5, 1]`, but got `<learntools.core.constants.PlaceholderValue object at 0x7cac81c1b250>` instead.\", \"interactionType\": 1, \"questionType\": 2, \"questionId\": \"4_PercentageLiked\", \"learnToolsVersion\": \"0.3.5\", \"valueTowardsCompletion\": 0.0, \"exceptionClass\": \"\", \"trace\": \"\"}}, \"*\")"
      ],
      "text/plain": [
       "<IPython.core.display.Javascript object>"
      ]
     },
     "metadata": {},
     "output_type": "display_data"
    },
    {
     "data": {
      "text/markdown": [
       "<span style=\"color:#cc3333\">Incorrect:</span> Expected return value of `0.5` given `ratings=[1, 2, 3, 4, 5, 4, 5, 1]`, but got `<learntools.core.constants.PlaceholderValue object at 0x7cac81c1b250>` instead."
      ],
      "text/plain": [
       "Incorrect: Expected return value of `0.5` given `ratings=[1, 2, 3, 4, 5, 4, 5, 1]`, but got `<learntools.core.constants.PlaceholderValue object at 0x7cac81c1b250>` instead."
      ]
     },
     "metadata": {},
     "output_type": "display_data"
    }
   ],
   "source": [
    "\n",
    "def percentage_liked(ratings):\n",
    "    list_liked = [i>=4 for i in ratings]\n",
    "    # TODO: Complete the function\n",
    "    percentage_liked = ____\n",
    "    return percentage_liked\n",
    "\n",
    "# Do not change: should return 0.5\n",
    "percentage_liked([1, 2, 3, 4, 5, 4, 5, 1])\n",
    "\n",
    "# Do not change: Check your answer\n",
    "q4.check()"
   ]
  },
  {
   "cell_type": "code",
   "execution_count": 13,
   "id": "e3ba2344",
   "metadata": {
    "execution": {
     "iopub.execute_input": "2025-06-15T21:09:08.550009Z",
     "iopub.status.busy": "2025-06-15T21:09:08.549715Z",
     "iopub.status.idle": "2025-06-15T21:09:08.553929Z",
     "shell.execute_reply": "2025-06-15T21:09:08.552956Z"
    },
    "papermill": {
     "duration": 0.012296,
     "end_time": "2025-06-15T21:09:08.555655",
     "exception": false,
     "start_time": "2025-06-15T21:09:08.543359",
     "status": "completed"
    },
    "tags": []
   },
   "outputs": [],
   "source": [
    "# Uncomment to see a hint\n",
    "#q4.hint()\n",
    "\n",
    "# Uncomment to see the solution\n",
    "#q4.solution()"
   ]
  },
  {
   "cell_type": "markdown",
   "id": "451a4375",
   "metadata": {
    "papermill": {
     "duration": 0.006672,
     "end_time": "2025-06-15T21:09:08.571808",
     "exception": false,
     "start_time": "2025-06-15T21:09:08.565136",
     "status": "completed"
    },
    "tags": []
   },
   "source": [
    "# 🌶️ Question 5\n",
    " \n",
    "Say you're doing analytics for a website.  You need to write a function that returns the percentage growth in the total number of users relative to a specified number of years ago.\n",
    "\n",
    "Your function `percentage_growth()` should take two arguments as input:\n",
    "- `num_users` = Python list with the total number of users each year.  So `num_users[0]` is the total number of users in the first year, `num_users[1]` is the total number of users in the second year, and so on.  The final entry in the list gives the total number of users in the most recently completed year.\n",
    "- `yrs_ago` = number of years to go back in time when calculating the growth percentage\n",
    "\n",
    "For instance, say `num_users = [920344, 1043553, 1204334, 1458996, 1503323, 1593432, 1623463, 1843064, 1930992, 2001078]`.\n",
    "- if `yrs_ago = 1`, we want the function to return a value of about `0.036`. This corresponds to a percentage growth of approximately 3.6%, calculated as (2001078 - 1930992)/1930992.\n",
    "- if `years_ago = 7`, we would want to return approximately `0.66`.  This corresponds to a percentage growth of approximately 66%, calculated as (2001078 - 1204334)/1204334.\n",
    "\n",
    "Your coworker sent you a draft of a function, but it doesn't seem to be doing the correct calculation.  Can you figure out what has gone wrong and make the needed changes?"
   ]
  },
  {
   "cell_type": "code",
   "execution_count": 14,
   "id": "4da2bd09",
   "metadata": {
    "execution": {
     "iopub.execute_input": "2025-06-15T21:09:08.584446Z",
     "iopub.status.busy": "2025-06-15T21:09:08.583677Z",
     "iopub.status.idle": "2025-06-15T21:09:08.595166Z",
     "shell.execute_reply": "2025-06-15T21:09:08.594334Z"
    },
    "papermill": {
     "duration": 0.019919,
     "end_time": "2025-06-15T21:09:08.596881",
     "exception": false,
     "start_time": "2025-06-15T21:09:08.576962",
     "status": "completed"
    },
    "tags": []
   },
   "outputs": [
    {
     "name": "stdout",
     "output_type": "stream",
     "text": [
      "0.0\n",
      "0.2807272117129434\n"
     ]
    },
    {
     "data": {
      "application/javascript": [
       "parent.postMessage({\"jupyterEvent\": \"custom.exercise_interaction\", \"data\": {\"outcomeType\": 2, \"failureMessage\": \"Expected return value of `0.03629533421163837` given `num_users=[920344, 1043553, 1204334, 1458996, 1503323, 1593432, 1623463, 1843064, 1930992, 2001078]`, `yrs_ago=1`, but got `0.0` instead.\", \"interactionType\": 1, \"questionType\": 2, \"questionId\": \"5_WebsiteAnalytics\", \"learnToolsVersion\": \"0.3.5\", \"valueTowardsCompletion\": 0.0, \"exceptionClass\": \"\", \"trace\": \"\"}}, \"*\")"
      ],
      "text/plain": [
       "<IPython.core.display.Javascript object>"
      ]
     },
     "metadata": {},
     "output_type": "display_data"
    },
    {
     "data": {
      "text/markdown": [
       "<span style=\"color:#cc3333\">Incorrect:</span> Expected return value of `0.03629533421163837` given `num_users=[920344, 1043553, 1204334, 1458996, 1503323, 1593432, 1623463, 1843064, 1930992, 2001078]`, `yrs_ago=1`, but got `0.0` instead."
      ],
      "text/plain": [
       "Incorrect: Expected return value of `0.03629533421163837` given `num_users=[920344, 1043553, 1204334, 1458996, 1503323, 1593432, 1623463, 1843064, 1930992, 2001078]`, `yrs_ago=1`, but got `0.0` instead."
      ]
     },
     "metadata": {},
     "output_type": "display_data"
    }
   ],
   "source": [
    "# TODO: Edit the function\n",
    "def percentage_growth(num_users, yrs_ago):\n",
    "    growth = (num_users[len(num_users)-1] - num_users[len(num_users)-yrs_ago])/num_users[len(num_users)-2]\n",
    "    return growth\n",
    "\n",
    "# Do not change: Variable for calculating some test examples\n",
    "num_users_test = [920344, 1043553, 1204334, 1458996, 1503323, 1593432, 1623463, 1843064, 1930992, 2001078]\n",
    "\n",
    "# Do not change: Should return .036\n",
    "print(percentage_growth(num_users_test, 1))\n",
    "\n",
    "# Do not change: Should return 0.66\n",
    "print(percentage_growth(num_users_test, 7))\n",
    "\n",
    "# Do not change: Check your answer\n",
    "q5.check()"
   ]
  },
  {
   "cell_type": "code",
   "execution_count": 15,
   "id": "c5551a49",
   "metadata": {
    "execution": {
     "iopub.execute_input": "2025-06-15T21:09:08.610022Z",
     "iopub.status.busy": "2025-06-15T21:09:08.609637Z",
     "iopub.status.idle": "2025-06-15T21:09:08.614166Z",
     "shell.execute_reply": "2025-06-15T21:09:08.613264Z"
    },
    "papermill": {
     "duration": 0.012614,
     "end_time": "2025-06-15T21:09:08.615589",
     "exception": false,
     "start_time": "2025-06-15T21:09:08.602975",
     "status": "completed"
    },
    "tags": []
   },
   "outputs": [],
   "source": [
    "# Uncomment to see a hint\n",
    "#q5.hint()\n",
    "\n",
    "# Uncomment to see the solution\n",
    "#q5.solution()"
   ]
  },
  {
   "cell_type": "markdown",
   "id": "8ac8ed2b",
   "metadata": {
    "papermill": {
     "duration": 0.005484,
     "end_time": "2025-06-15T21:09:08.626835",
     "exception": false,
     "start_time": "2025-06-15T21:09:08.621351",
     "status": "completed"
    },
    "tags": []
   },
   "source": [
    "# Congratulations!\n",
    "\n",
    "Congratulations for finishing the Intro to Programming course!  You should be proud of your very first steps with learning programming.  As next steps, we recommend taking:\n",
    "- the **[Python course](http://www.kaggle.com/learn/python)**, and \n",
    "- the **[Intro to Machine Learning course](https://www.kaggle.com/learn/intro-to-machine-learning)**."
   ]
  },
  {
   "cell_type": "markdown",
   "id": "9e0e7421",
   "metadata": {
    "papermill": {
     "duration": 0.005814,
     "end_time": "2025-06-15T21:09:08.638918",
     "exception": false,
     "start_time": "2025-06-15T21:09:08.633104",
     "status": "completed"
    },
    "tags": []
   },
   "source": [
    "---\n",
    "\n",
    "\n",
    "\n",
    "\n",
    "*Have questions or comments? Visit the [course discussion forum](https://www.kaggle.com/learn/intro-to-programming/discussion) to chat with other learners.*"
   ]
  }
 ],
 "metadata": {
  "kaggle": {
   "accelerator": "none",
   "dataSources": [],
   "isGpuEnabled": false,
   "isInternetEnabled": false,
   "language": "python",
   "sourceType": "notebook"
  },
  "kernelspec": {
   "display_name": "Python 3",
   "language": "python",
   "name": "python3"
  },
  "language_info": {
   "codemirror_mode": {
    "name": "ipython",
    "version": 3
   },
   "file_extension": ".py",
   "mimetype": "text/x-python",
   "name": "python",
   "nbconvert_exporter": "python",
   "pygments_lexer": "ipython3",
   "version": "3.11.11"
  },
  "papermill": {
   "default_parameters": {},
   "duration": 8.008095,
   "end_time": "2025-06-15T21:09:09.167007",
   "environment_variables": {},
   "exception": null,
   "input_path": "__notebook__.ipynb",
   "output_path": "__notebook__.ipynb",
   "parameters": {},
   "start_time": "2025-06-15T21:09:01.158912",
   "version": "2.6.0"
  }
 },
 "nbformat": 4,
 "nbformat_minor": 5
}
