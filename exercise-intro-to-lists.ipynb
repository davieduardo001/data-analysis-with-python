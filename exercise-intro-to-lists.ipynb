{
 "cells": [
  {
   "cell_type": "markdown",
   "id": "4ea2395c",
   "metadata": {
    "papermill": {
     "duration": 0.004895,
     "end_time": "2025-06-15T20:59:34.079404",
     "exception": false,
     "start_time": "2025-06-15T20:59:34.074509",
     "status": "completed"
    },
    "tags": []
   },
   "source": [
    "**This notebook is an exercise in the [Intro to Programming](https://www.kaggle.com/learn/intro-to-programming) course.  You can reference the tutorial at [this link](https://www.kaggle.com/alexisbcook/intro-to-lists).**\n",
    "\n",
    "---\n"
   ]
  },
  {
   "cell_type": "markdown",
   "id": "32056f12",
   "metadata": {
    "papermill": {
     "duration": 0.003702,
     "end_time": "2025-06-15T20:59:34.087301",
     "exception": false,
     "start_time": "2025-06-15T20:59:34.083599",
     "status": "completed"
    },
    "tags": []
   },
   "source": [
    "In the tutorial, you learned how to define and modify Python lists.  In this exercise, you will use your new knowledge to solve several problems.\n",
    "\n",
    "# Set up the notebook\n",
    "\n",
    "Run the next code cell without changes to set up the notebook."
   ]
  },
  {
   "cell_type": "code",
   "execution_count": 1,
   "id": "8e4e5e52",
   "metadata": {
    "execution": {
     "iopub.execute_input": "2025-06-15T20:59:34.096860Z",
     "iopub.status.busy": "2025-06-15T20:59:34.096460Z",
     "iopub.status.idle": "2025-06-15T20:59:36.057257Z",
     "shell.execute_reply": "2025-06-15T20:59:36.056174Z"
    },
    "papermill": {
     "duration": 1.967633,
     "end_time": "2025-06-15T20:59:36.059049",
     "exception": false,
     "start_time": "2025-06-15T20:59:34.091416",
     "status": "completed"
    },
    "tags": []
   },
   "outputs": [
    {
     "name": "stdout",
     "output_type": "stream",
     "text": [
      "Setup complete.\n"
     ]
    }
   ],
   "source": [
    "from learntools.core import binder\n",
    "binder.bind(globals())\n",
    "from learntools.intro_to_programming.ex5 import *\n",
    "print('Setup complete.')"
   ]
  },
  {
   "cell_type": "markdown",
   "id": "a919c0ed",
   "metadata": {
    "papermill": {
     "duration": 0.004146,
     "end_time": "2025-06-15T20:59:36.067649",
     "exception": false,
     "start_time": "2025-06-15T20:59:36.063503",
     "status": "completed"
    },
    "tags": []
   },
   "source": [
    "# Question 1\n",
    "\n",
    "You own a restaurant with five food dishes, organized in the Python list `menu` below.  One day, you decide to:\n",
    "- remove bean soup (`'bean soup'`) from the menu, and\n",
    "- add roasted beet salad (`'roasted beet salad'`) to the menu.\n",
    "\n",
    "Implement this change to the list below.  While completing this task, \n",
    "- do not change the line that creates the `menu` list.  \n",
    "- your answer should use `.remove()` and `.append()`.  "
   ]
  },
  {
   "cell_type": "code",
   "execution_count": 2,
   "id": "43dc3c5e",
   "metadata": {
    "execution": {
     "iopub.execute_input": "2025-06-15T20:59:36.077353Z",
     "iopub.status.busy": "2025-06-15T20:59:36.076894Z",
     "iopub.status.idle": "2025-06-15T20:59:36.084883Z",
     "shell.execute_reply": "2025-06-15T20:59:36.084143Z"
    },
    "papermill": {
     "duration": 0.014434,
     "end_time": "2025-06-15T20:59:36.086295",
     "exception": false,
     "start_time": "2025-06-15T20:59:36.071861",
     "status": "completed"
    },
    "tags": []
   },
   "outputs": [
    {
     "data": {
      "application/javascript": [
       "parent.postMessage({\"jupyterEvent\": \"custom.exercise_interaction\", \"data\": {\"outcomeType\": 2, \"failureMessage\": \"These item(s) should be removed from `menu`: ['bean soup']\", \"interactionType\": 1, \"questionType\": 2, \"questionId\": \"1_FoodMenu\", \"learnToolsVersion\": \"0.3.5\", \"valueTowardsCompletion\": 0.0, \"exceptionClass\": \"\", \"trace\": \"\"}}, \"*\")"
      ],
      "text/plain": [
       "<IPython.core.display.Javascript object>"
      ]
     },
     "metadata": {},
     "output_type": "display_data"
    },
    {
     "data": {
      "text/markdown": [
       "<span style=\"color:#cc3333\">Incorrect:</span> These item(s) should be removed from `menu`: ['bean soup']"
      ],
      "text/plain": [
       "Incorrect: These item(s) should be removed from `menu`: ['bean soup']"
      ]
     },
     "metadata": {},
     "output_type": "display_data"
    }
   ],
   "source": [
    "# Do not change: Initial menu for your restaurant\n",
    "menu = ['stewed meat with onions', 'bean soup', 'risotto with trout and shrimp',\n",
    "       'fish soup with cream and onion', 'gyro']\n",
    "\n",
    "# TODO: remove 'bean soup', and add 'roasted beet salad' to the end of the menu\n",
    "____\n",
    "\n",
    "# Do not change: Check your answer\n",
    "q1.check()"
   ]
  },
  {
   "cell_type": "code",
   "execution_count": 3,
   "id": "2a3dd581",
   "metadata": {
    "execution": {
     "iopub.execute_input": "2025-06-15T20:59:36.096415Z",
     "iopub.status.busy": "2025-06-15T20:59:36.096044Z",
     "iopub.status.idle": "2025-06-15T20:59:36.100492Z",
     "shell.execute_reply": "2025-06-15T20:59:36.099566Z"
    },
    "papermill": {
     "duration": 0.011137,
     "end_time": "2025-06-15T20:59:36.101826",
     "exception": false,
     "start_time": "2025-06-15T20:59:36.090689",
     "status": "completed"
    },
    "tags": []
   },
   "outputs": [],
   "source": [
    "# Uncomment to see a hint\n",
    "#q1.hint()\n",
    "\n",
    "# Uncomment to see the solution\n",
    "#q1.solution()"
   ]
  },
  {
   "cell_type": "markdown",
   "id": "cfd1b2c3",
   "metadata": {
    "papermill": {
     "duration": 0.004172,
     "end_time": "2025-06-15T20:59:36.110552",
     "exception": false,
     "start_time": "2025-06-15T20:59:36.106380",
     "status": "completed"
    },
    "tags": []
   },
   "source": [
    "# Question 2\n",
    "\n",
    "The list `num_customers` contains the number of customers who came into your restaurant every day over the last month (which lasted thirty days).  Fill in values for each of the following:\n",
    "- `avg_first_seven` - average number of customers who visited in the first seven days\n",
    "- `avg_last_seven` - average number of customers who visited in the last seven days\n",
    "- `max_month` - number of customers on the day that got the most customers in the last month\n",
    "- `min_month` - number of customers on the day that got the least customers in the last month\n",
    "\n",
    "Answer this question by writing code.  For instance, if you have to find the minimum value in a list, use `min()` instead of scanning for the smallest value and directly filling in a number."
   ]
  },
  {
   "cell_type": "code",
   "execution_count": 4,
   "id": "7f2402a0",
   "metadata": {
    "execution": {
     "iopub.execute_input": "2025-06-15T20:59:36.120481Z",
     "iopub.status.busy": "2025-06-15T20:59:36.120192Z",
     "iopub.status.idle": "2025-06-15T20:59:36.129252Z",
     "shell.execute_reply": "2025-06-15T20:59:36.128307Z"
    },
    "papermill": {
     "duration": 0.015763,
     "end_time": "2025-06-15T20:59:36.130773",
     "exception": false,
     "start_time": "2025-06-15T20:59:36.115010",
     "status": "completed"
    },
    "tags": []
   },
   "outputs": [
    {
     "data": {
      "application/javascript": [
       "parent.postMessage({\"jupyterEvent\": \"custom.exercise_interaction\", \"data\": {\"outcomeType\": 4, \"interactionType\": 1, \"questionType\": 1, \"questionId\": \"2_NumCustomers\", \"learnToolsVersion\": \"0.3.5\", \"valueTowardsCompletion\": 0.0, \"failureMessage\": \"\", \"exceptionClass\": \"\", \"trace\": \"\"}}, \"*\")"
      ],
      "text/plain": [
       "<IPython.core.display.Javascript object>"
      ]
     },
     "metadata": {},
     "output_type": "display_data"
    },
    {
     "data": {
      "text/markdown": [
       "<span style=\"color:#ccaa33\">Check:</span> When you've updated the starter code, `check()` will tell you whether your code is correct. You need to update the code that creates variables `avg_first_seven`, `avg_last_seven`, `max_month`, `min_month`"
      ],
      "text/plain": [
       "Check: When you've updated the starter code, `check()` will tell you whether your code is correct. You need to update the code that creates variables `avg_first_seven`, `avg_last_seven`, `max_month`, `min_month`"
      ]
     },
     "metadata": {},
     "output_type": "display_data"
    }
   ],
   "source": [
    "# Do not change: Number of customers each day for the last month\n",
    "num_customers = [137, 147, 135, 128, 170, 174, 165, 146, 126, 159,\n",
    "                 141, 148, 132, 147, 168, 153, 170, 161, 148, 152,\n",
    "                 141, 151, 131, 149, 164, 163, 143, 143, 166, 171]\n",
    "\n",
    "# TODO: Fill in values for the variables below\n",
    "avg_first_seven = ____ \n",
    "avg_last_seven = ____ \n",
    "max_month = ____\n",
    "min_month = ____\n",
    "\n",
    "# Do not change: Check your answer\n",
    "q2.check()"
   ]
  },
  {
   "cell_type": "code",
   "execution_count": 5,
   "id": "80118851",
   "metadata": {
    "execution": {
     "iopub.execute_input": "2025-06-15T20:59:36.141421Z",
     "iopub.status.busy": "2025-06-15T20:59:36.141141Z",
     "iopub.status.idle": "2025-06-15T20:59:36.145384Z",
     "shell.execute_reply": "2025-06-15T20:59:36.144430Z"
    },
    "papermill": {
     "duration": 0.011221,
     "end_time": "2025-06-15T20:59:36.146948",
     "exception": false,
     "start_time": "2025-06-15T20:59:36.135727",
     "status": "completed"
    },
    "tags": []
   },
   "outputs": [],
   "source": [
    "# Uncomment to see a hint\n",
    "#q2.hint()\n",
    "\n",
    "# Uncomment to see the solution\n",
    "#q2.solution()"
   ]
  },
  {
   "cell_type": "markdown",
   "id": "1d95abf3",
   "metadata": {
    "papermill": {
     "duration": 0.004415,
     "end_time": "2025-06-15T20:59:36.156157",
     "exception": false,
     "start_time": "2025-06-15T20:59:36.151742",
     "status": "completed"
    },
    "tags": []
   },
   "source": [
    "# Question 3\n",
    "\n",
    "In the tutorial, we gave an example of a Python string with information that was better as a list."
   ]
  },
  {
   "cell_type": "code",
   "execution_count": 6,
   "id": "27641943",
   "metadata": {
    "execution": {
     "iopub.execute_input": "2025-06-15T20:59:36.166752Z",
     "iopub.status.busy": "2025-06-15T20:59:36.165884Z",
     "iopub.status.idle": "2025-06-15T20:59:36.170219Z",
     "shell.execute_reply": "2025-06-15T20:59:36.169418Z"
    },
    "papermill": {
     "duration": 0.011204,
     "end_time": "2025-06-15T20:59:36.171743",
     "exception": false,
     "start_time": "2025-06-15T20:59:36.160539",
     "status": "completed"
    },
    "tags": []
   },
   "outputs": [],
   "source": [
    "flowers = \"pink primrose,hard-leaved pocket orchid,canterbury bells,sweet pea,english marigold,tiger lily,moon orchid,bird of paradise,monkshood,globe thistle\""
   ]
  },
  {
   "cell_type": "markdown",
   "id": "7c6d809d",
   "metadata": {
    "papermill": {
     "duration": 0.004561,
     "end_time": "2025-06-15T20:59:36.181170",
     "exception": false,
     "start_time": "2025-06-15T20:59:36.176609",
     "status": "completed"
    },
    "tags": []
   },
   "source": [
    "You can actually use Python to quickly turn this string into a list with `.split()`.  In the parentheses, we need to provide the character should be used to mark the end of one list item and the beginning of another, and enclose it in quotation marks.  In this case, that character is a comma."
   ]
  },
  {
   "cell_type": "code",
   "execution_count": 7,
   "id": "0c1d957a",
   "metadata": {
    "execution": {
     "iopub.execute_input": "2025-06-15T20:59:36.192073Z",
     "iopub.status.busy": "2025-06-15T20:59:36.191092Z",
     "iopub.status.idle": "2025-06-15T20:59:36.196538Z",
     "shell.execute_reply": "2025-06-15T20:59:36.195549Z"
    },
    "papermill": {
     "duration": 0.012511,
     "end_time": "2025-06-15T20:59:36.198146",
     "exception": false,
     "start_time": "2025-06-15T20:59:36.185635",
     "status": "completed"
    },
    "tags": []
   },
   "outputs": [
    {
     "name": "stdout",
     "output_type": "stream",
     "text": [
      "['pink primrose', 'hard-leaved pocket orchid', 'canterbury bells', 'sweet pea', 'english marigold', 'tiger lily', 'moon orchid', 'bird of paradise', 'monkshood', 'globe thistle']\n"
     ]
    }
   ],
   "source": [
    " print(flowers.split(\",\"))"
   ]
  },
  {
   "cell_type": "markdown",
   "id": "6dad9c97",
   "metadata": {
    "papermill": {
     "duration": 0.004976,
     "end_time": "2025-06-15T20:59:36.207825",
     "exception": false,
     "start_time": "2025-06-15T20:59:36.202849",
     "status": "completed"
    },
    "tags": []
   },
   "source": [
    "Now it is your turn to try this out!  Create two Python lists:\n",
    "- `letters` should be a Python list where each entry is an uppercase letter of the English alphabet.  For instance, the first two entries should be `\"A\"` and `\"B\"`, and the final two entries should be `\"Y\"` and `\"Z\"`.  Use the string `alphabet` to create this list.\n",
    "- `address` should be a Python list where each row in `address` is a different item in the list.  Currently, each row in `address` is separated by a comma. "
   ]
  },
  {
   "cell_type": "code",
   "execution_count": 8,
   "id": "3d416575",
   "metadata": {
    "execution": {
     "iopub.execute_input": "2025-06-15T20:59:36.218118Z",
     "iopub.status.busy": "2025-06-15T20:59:36.217794Z",
     "iopub.status.idle": "2025-06-15T20:59:36.224920Z",
     "shell.execute_reply": "2025-06-15T20:59:36.224106Z"
    },
    "papermill": {
     "duration": 0.014007,
     "end_time": "2025-06-15T20:59:36.226373",
     "exception": false,
     "start_time": "2025-06-15T20:59:36.212366",
     "status": "completed"
    },
    "tags": []
   },
   "outputs": [
    {
     "data": {
      "application/javascript": [
       "parent.postMessage({\"jupyterEvent\": \"custom.exercise_interaction\", \"data\": {\"outcomeType\": 4, \"interactionType\": 1, \"questionType\": 1, \"questionId\": \"3_SplitString\", \"learnToolsVersion\": \"0.3.5\", \"valueTowardsCompletion\": 0.0, \"failureMessage\": \"\", \"exceptionClass\": \"\", \"trace\": \"\"}}, \"*\")"
      ],
      "text/plain": [
       "<IPython.core.display.Javascript object>"
      ]
     },
     "metadata": {},
     "output_type": "display_data"
    },
    {
     "data": {
      "text/markdown": [
       "<span style=\"color:#ccaa33\">Check:</span> When you've updated the starter code, `check()` will tell you whether your code is correct. You need to update the code that creates variables `letters`, `formatted_address`"
      ],
      "text/plain": [
       "Check: When you've updated the starter code, `check()` will tell you whether your code is correct. You need to update the code that creates variables `letters`, `formatted_address`"
      ]
     },
     "metadata": {},
     "output_type": "display_data"
    }
   ],
   "source": [
    "# DO not change: Define two Python strings\n",
    "alphabet = \"A.B.C.D.E.F.G.H.I.J.K.L.M.N.O.P.Q.R.S.T.U.V.W.X.Y.Z\"\n",
    "address = \"Mr. H. Potter,The cupboard under the Stairs,4 Privet Drive,Little Whinging,Surrey\"\n",
    "\n",
    "# TODO: Convert strings into Python lists\n",
    "letters = ____\n",
    "formatted_address = ____\n",
    "\n",
    "# Do not change: Check your answer\n",
    "q3.check()"
   ]
  },
  {
   "cell_type": "code",
   "execution_count": 9,
   "id": "ec013536",
   "metadata": {
    "execution": {
     "iopub.execute_input": "2025-06-15T20:59:36.237408Z",
     "iopub.status.busy": "2025-06-15T20:59:36.237126Z",
     "iopub.status.idle": "2025-06-15T20:59:36.240940Z",
     "shell.execute_reply": "2025-06-15T20:59:36.240283Z"
    },
    "papermill": {
     "duration": 0.010967,
     "end_time": "2025-06-15T20:59:36.242348",
     "exception": false,
     "start_time": "2025-06-15T20:59:36.231381",
     "status": "completed"
    },
    "tags": []
   },
   "outputs": [],
   "source": [
    "# Uncomment to see a hint\n",
    "#q3.hint()\n",
    "\n",
    "# Uncomment to see the solution\n",
    "#q3.solution()"
   ]
  },
  {
   "cell_type": "markdown",
   "id": "62c04562",
   "metadata": {
    "papermill": {
     "duration": 0.00447,
     "end_time": "2025-06-15T20:59:36.251732",
     "exception": false,
     "start_time": "2025-06-15T20:59:36.247262",
     "status": "completed"
    },
    "tags": []
   },
   "source": [
    "# Question 4\n",
    "\n",
    "In the Python course, you'll learn all about **list comprehensions**, which allow you to create a list based on the values in another list.  In this question, you'll get a brief preview of how they work.\n",
    "\n",
    "Say we're working with the list below."
   ]
  },
  {
   "cell_type": "code",
   "execution_count": 10,
   "id": "4ae568a7",
   "metadata": {
    "execution": {
     "iopub.execute_input": "2025-06-15T20:59:36.262486Z",
     "iopub.status.busy": "2025-06-15T20:59:36.262189Z",
     "iopub.status.idle": "2025-06-15T20:59:36.266336Z",
     "shell.execute_reply": "2025-06-15T20:59:36.265483Z"
    },
    "papermill": {
     "duration": 0.011485,
     "end_time": "2025-06-15T20:59:36.267976",
     "exception": false,
     "start_time": "2025-06-15T20:59:36.256491",
     "status": "completed"
    },
    "tags": []
   },
   "outputs": [],
   "source": [
    "test_ratings = [1, 2, 3, 4, 5]"
   ]
  },
  {
   "cell_type": "markdown",
   "id": "64e2f8e6",
   "metadata": {
    "papermill": {
     "duration": 0.009567,
     "end_time": "2025-06-15T20:59:36.283121",
     "exception": false,
     "start_time": "2025-06-15T20:59:36.273554",
     "status": "completed"
    },
    "tags": []
   },
   "source": [
    "Then we can use this list (`test_ratings`) to create a new list (`test_liked`) where each item has been turned into a boolean, depending on whether or not the item is greater than or equal to four."
   ]
  },
  {
   "cell_type": "code",
   "execution_count": 11,
   "id": "525b64a6",
   "metadata": {
    "execution": {
     "iopub.execute_input": "2025-06-15T20:59:36.295651Z",
     "iopub.status.busy": "2025-06-15T20:59:36.295326Z",
     "iopub.status.idle": "2025-06-15T20:59:36.301311Z",
     "shell.execute_reply": "2025-06-15T20:59:36.299903Z"
    },
    "papermill": {
     "duration": 0.014504,
     "end_time": "2025-06-15T20:59:36.303654",
     "exception": false,
     "start_time": "2025-06-15T20:59:36.289150",
     "status": "completed"
    },
    "tags": []
   },
   "outputs": [
    {
     "name": "stdout",
     "output_type": "stream",
     "text": [
      "[False, False, False, True, True]\n"
     ]
    }
   ],
   "source": [
    "test_liked = [i>=4 for i in test_ratings]\n",
    "print(test_liked)"
   ]
  },
  {
   "cell_type": "markdown",
   "id": "022b8a6a",
   "metadata": {
    "papermill": {
     "duration": 0.005006,
     "end_time": "2025-06-15T20:59:36.318854",
     "exception": false,
     "start_time": "2025-06-15T20:59:36.313848",
     "status": "completed"
    },
    "tags": []
   },
   "source": [
    "In this question, you'll use this list comprehension to define a function `percentage_liked()` that takes one argument as input:\n",
    "- `ratings`: list of ratings that people gave to a movie, where each rating is a number between 1-5, inclusive\n",
    "\n",
    "We say someone liked the movie, if they gave a rating of either 4 or 5.  Your function should return the percentage of people who liked the movie.\n",
    "\n",
    "For instance, if we supply a value of `[1, 2, 3, 4, 5, 4, 5, 1]`, then 50% (4/8) of the people liked the movie, and the function should return `0.5`.\n",
    "\n",
    "Part of the function has already been completed for you.  You need only use `list_liked` to calculate `percentage_liked`."
   ]
  },
  {
   "cell_type": "code",
   "execution_count": 12,
   "id": "d604ae41",
   "metadata": {
    "execution": {
     "iopub.execute_input": "2025-06-15T20:59:36.331077Z",
     "iopub.status.busy": "2025-06-15T20:59:36.330660Z",
     "iopub.status.idle": "2025-06-15T20:59:36.340838Z",
     "shell.execute_reply": "2025-06-15T20:59:36.339896Z"
    },
    "papermill": {
     "duration": 0.018186,
     "end_time": "2025-06-15T20:59:36.342487",
     "exception": false,
     "start_time": "2025-06-15T20:59:36.324301",
     "status": "completed"
    },
    "tags": []
   },
   "outputs": [
    {
     "data": {
      "application/javascript": [
       "parent.postMessage({\"jupyterEvent\": \"custom.exercise_interaction\", \"data\": {\"outcomeType\": 2, \"failureMessage\": \"Expected return value of `0.5` given `ratings=[1, 2, 3, 4, 5, 4, 5, 1]`, but got `<learntools.core.constants.PlaceholderValue object at 0x7cd1ec8cb350>` instead.\", \"interactionType\": 1, \"questionType\": 2, \"questionId\": \"4_PercentageLiked\", \"learnToolsVersion\": \"0.3.5\", \"valueTowardsCompletion\": 0.0, \"exceptionClass\": \"\", \"trace\": \"\"}}, \"*\")"
      ],
      "text/plain": [
       "<IPython.core.display.Javascript object>"
      ]
     },
     "metadata": {},
     "output_type": "display_data"
    },
    {
     "data": {
      "text/markdown": [
       "<span style=\"color:#cc3333\">Incorrect:</span> Expected return value of `0.5` given `ratings=[1, 2, 3, 4, 5, 4, 5, 1]`, but got `<learntools.core.constants.PlaceholderValue object at 0x7cd1ec8cb350>` instead."
      ],
      "text/plain": [
       "Incorrect: Expected return value of `0.5` given `ratings=[1, 2, 3, 4, 5, 4, 5, 1]`, but got `<learntools.core.constants.PlaceholderValue object at 0x7cd1ec8cb350>` instead."
      ]
     },
     "metadata": {},
     "output_type": "display_data"
    }
   ],
   "source": [
    "\n",
    "def percentage_liked(ratings):\n",
    "    list_liked = [i>=4 for i in ratings]\n",
    "    # TODO: Complete the function\n",
    "    percentage_liked = ____\n",
    "    return percentage_liked\n",
    "\n",
    "# Do not change: should return 0.5\n",
    "percentage_liked([1, 2, 3, 4, 5, 4, 5, 1])\n",
    "\n",
    "# Do not change: Check your answer\n",
    "q4.check()"
   ]
  },
  {
   "cell_type": "code",
   "execution_count": 13,
   "id": "351942dd",
   "metadata": {
    "execution": {
     "iopub.execute_input": "2025-06-15T20:59:36.354531Z",
     "iopub.status.busy": "2025-06-15T20:59:36.354253Z",
     "iopub.status.idle": "2025-06-15T20:59:36.358543Z",
     "shell.execute_reply": "2025-06-15T20:59:36.357572Z"
    },
    "papermill": {
     "duration": 0.012078,
     "end_time": "2025-06-15T20:59:36.360076",
     "exception": false,
     "start_time": "2025-06-15T20:59:36.347998",
     "status": "completed"
    },
    "tags": []
   },
   "outputs": [],
   "source": [
    "# Uncomment to see a hint\n",
    "#q4.hint()\n",
    "\n",
    "# Uncomment to see the solution\n",
    "#q4.solution()"
   ]
  },
  {
   "cell_type": "markdown",
   "id": "03af84a6",
   "metadata": {
    "papermill": {
     "duration": 0.004985,
     "end_time": "2025-06-15T20:59:36.370436",
     "exception": false,
     "start_time": "2025-06-15T20:59:36.365451",
     "status": "completed"
    },
    "tags": []
   },
   "source": [
    "# 🌶️ Question 5\n",
    " \n",
    "Say you're doing analytics for a website.  You need to write a function that returns the percentage growth in the total number of users relative to a specified number of years ago.\n",
    "\n",
    "Your function `percentage_growth()` should take two arguments as input:\n",
    "- `num_users` = Python list with the total number of users each year.  So `num_users[0]` is the total number of users in the first year, `num_users[1]` is the total number of users in the second year, and so on.  The final entry in the list gives the total number of users in the most recently completed year.\n",
    "- `yrs_ago` = number of years to go back in time when calculating the growth percentage\n",
    "\n",
    "For instance, say `num_users = [920344, 1043553, 1204334, 1458996, 1503323, 1593432, 1623463, 1843064, 1930992, 2001078]`.\n",
    "- if `yrs_ago = 1`, we want the function to return a value of about `0.036`. This corresponds to a percentage growth of approximately 3.6%, calculated as (2001078 - 1930992)/1930992.\n",
    "- if `years_ago = 7`, we would want to return approximately `0.66`.  This corresponds to a percentage growth of approximately 66%, calculated as (2001078 - 1204334)/1204334.\n",
    "\n",
    "Your coworker sent you a draft of a function, but it doesn't seem to be doing the correct calculation.  Can you figure out what has gone wrong and make the needed changes?"
   ]
  },
  {
   "cell_type": "code",
   "execution_count": 14,
   "id": "15a44cfb",
   "metadata": {
    "execution": {
     "iopub.execute_input": "2025-06-15T20:59:36.381986Z",
     "iopub.status.busy": "2025-06-15T20:59:36.381652Z",
     "iopub.status.idle": "2025-06-15T20:59:36.391093Z",
     "shell.execute_reply": "2025-06-15T20:59:36.390257Z"
    },
    "papermill": {
     "duration": 0.017026,
     "end_time": "2025-06-15T20:59:36.392633",
     "exception": false,
     "start_time": "2025-06-15T20:59:36.375607",
     "status": "completed"
    },
    "tags": []
   },
   "outputs": [
    {
     "name": "stdout",
     "output_type": "stream",
     "text": [
      "0.0\n",
      "0.2807272117129434\n"
     ]
    },
    {
     "data": {
      "application/javascript": [
       "parent.postMessage({\"jupyterEvent\": \"custom.exercise_interaction\", \"data\": {\"outcomeType\": 2, \"failureMessage\": \"Expected return value of `0.03629533421163837` given `num_users=[920344, 1043553, 1204334, 1458996, 1503323, 1593432, 1623463, 1843064, 1930992, 2001078]`, `yrs_ago=1`, but got `0.0` instead.\", \"interactionType\": 1, \"questionType\": 2, \"questionId\": \"5_WebsiteAnalytics\", \"learnToolsVersion\": \"0.3.5\", \"valueTowardsCompletion\": 0.0, \"exceptionClass\": \"\", \"trace\": \"\"}}, \"*\")"
      ],
      "text/plain": [
       "<IPython.core.display.Javascript object>"
      ]
     },
     "metadata": {},
     "output_type": "display_data"
    },
    {
     "data": {
      "text/markdown": [
       "<span style=\"color:#cc3333\">Incorrect:</span> Expected return value of `0.03629533421163837` given `num_users=[920344, 1043553, 1204334, 1458996, 1503323, 1593432, 1623463, 1843064, 1930992, 2001078]`, `yrs_ago=1`, but got `0.0` instead."
      ],
      "text/plain": [
       "Incorrect: Expected return value of `0.03629533421163837` given `num_users=[920344, 1043553, 1204334, 1458996, 1503323, 1593432, 1623463, 1843064, 1930992, 2001078]`, `yrs_ago=1`, but got `0.0` instead."
      ]
     },
     "metadata": {},
     "output_type": "display_data"
    }
   ],
   "source": [
    "# TODO: Edit the function\n",
    "def percentage_growth(num_users, yrs_ago):\n",
    "    growth = (num_users[len(num_users)-1] - num_users[len(num_users)-yrs_ago])/num_users[len(num_users)-2]\n",
    "    return growth\n",
    "\n",
    "# Do not change: Variable for calculating some test examples\n",
    "num_users_test = [920344, 1043553, 1204334, 1458996, 1503323, 1593432, 1623463, 1843064, 1930992, 2001078]\n",
    "\n",
    "# Do not change: Should return .036\n",
    "print(percentage_growth(num_users_test, 1))\n",
    "\n",
    "# Do not change: Should return 0.66\n",
    "print(percentage_growth(num_users_test, 7))\n",
    "\n",
    "# Do not change: Check your answer\n",
    "q5.check()"
   ]
  },
  {
   "cell_type": "code",
   "execution_count": 15,
   "id": "494fd0b7",
   "metadata": {
    "execution": {
     "iopub.execute_input": "2025-06-15T20:59:36.405048Z",
     "iopub.status.busy": "2025-06-15T20:59:36.404702Z",
     "iopub.status.idle": "2025-06-15T20:59:36.408771Z",
     "shell.execute_reply": "2025-06-15T20:59:36.407878Z"
    },
    "papermill": {
     "duration": 0.01202,
     "end_time": "2025-06-15T20:59:36.410444",
     "exception": false,
     "start_time": "2025-06-15T20:59:36.398424",
     "status": "completed"
    },
    "tags": []
   },
   "outputs": [],
   "source": [
    "# Uncomment to see a hint\n",
    "#q5.hint()\n",
    "\n",
    "# Uncomment to see the solution\n",
    "#q5.solution()"
   ]
  },
  {
   "cell_type": "markdown",
   "id": "903d32b2",
   "metadata": {
    "papermill": {
     "duration": 0.005378,
     "end_time": "2025-06-15T20:59:36.421649",
     "exception": false,
     "start_time": "2025-06-15T20:59:36.416271",
     "status": "completed"
    },
    "tags": []
   },
   "source": [
    "# Congratulations!\n",
    "\n",
    "Congratulations for finishing the Intro to Programming course!  You should be proud of your very first steps with learning programming.  As next steps, we recommend taking:\n",
    "- the **[Python course](http://www.kaggle.com/learn/python)**, and \n",
    "- the **[Intro to Machine Learning course](https://www.kaggle.com/learn/intro-to-machine-learning)**."
   ]
  },
  {
   "cell_type": "markdown",
   "id": "30336643",
   "metadata": {
    "papermill": {
     "duration": 0.009457,
     "end_time": "2025-06-15T20:59:36.436452",
     "exception": false,
     "start_time": "2025-06-15T20:59:36.426995",
     "status": "completed"
    },
    "tags": []
   },
   "source": [
    "---\n",
    "\n",
    "\n",
    "\n",
    "\n",
    "*Have questions or comments? Visit the [course discussion forum](https://www.kaggle.com/learn/intro-to-programming/discussion) to chat with other learners.*"
   ]
  }
 ],
 "metadata": {
  "kaggle": {
   "accelerator": "none",
   "dataSources": [],
   "isGpuEnabled": false,
   "isInternetEnabled": false,
   "language": "python",
   "sourceType": "notebook"
  },
  "kernelspec": {
   "display_name": "Python 3",
   "language": "python",
   "name": "python3"
  },
  "language_info": {
   "codemirror_mode": {
    "name": "ipython",
    "version": 3
   },
   "file_extension": ".py",
   "mimetype": "text/x-python",
   "name": "python",
   "nbconvert_exporter": "python",
   "pygments_lexer": "ipython3",
   "version": "3.11.11"
  },
  "papermill": {
   "default_parameters": {},
   "duration": 7.87635,
   "end_time": "2025-06-15T20:59:36.970609",
   "environment_variables": {},
   "exception": null,
   "input_path": "__notebook__.ipynb",
   "output_path": "__notebook__.ipynb",
   "parameters": {},
   "start_time": "2025-06-15T20:59:29.094259",
   "version": "2.6.0"
  }
 },
 "nbformat": 4,
 "nbformat_minor": 5
}
