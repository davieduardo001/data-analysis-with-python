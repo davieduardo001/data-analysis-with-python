{
 "cells": [
  {
   "cell_type": "markdown",
   "id": "05fc54f2",
   "metadata": {
    "papermill": {
     "duration": 0.005239,
     "end_time": "2025-06-15T21:12:05.983581",
     "exception": false,
     "start_time": "2025-06-15T21:12:05.978342",
     "status": "completed"
    },
    "tags": []
   },
   "source": [
    "**This notebook is an exercise in the [Intro to Programming](https://www.kaggle.com/learn/intro-to-programming) course.  You can reference the tutorial at [this link](https://www.kaggle.com/alexisbcook/intro-to-lists).**\n",
    "\n",
    "---\n"
   ]
  },
  {
   "cell_type": "markdown",
   "id": "04d57359",
   "metadata": {
    "papermill": {
     "duration": 0.003885,
     "end_time": "2025-06-15T21:12:05.991895",
     "exception": false,
     "start_time": "2025-06-15T21:12:05.988010",
     "status": "completed"
    },
    "tags": []
   },
   "source": [
    "In the tutorial, you learned how to define and modify Python lists.  In this exercise, you will use your new knowledge to solve several problems.\n",
    "\n",
    "# Set up the notebook\n",
    "\n",
    "Run the next code cell without changes to set up the notebook."
   ]
  },
  {
   "cell_type": "code",
   "execution_count": 1,
   "id": "4b3aa233",
   "metadata": {
    "execution": {
     "iopub.execute_input": "2025-06-15T21:12:06.001992Z",
     "iopub.status.busy": "2025-06-15T21:12:06.001554Z",
     "iopub.status.idle": "2025-06-15T21:12:08.051617Z",
     "shell.execute_reply": "2025-06-15T21:12:08.049543Z"
    },
    "papermill": {
     "duration": 2.05812,
     "end_time": "2025-06-15T21:12:08.054325",
     "exception": false,
     "start_time": "2025-06-15T21:12:05.996205",
     "status": "completed"
    },
    "tags": []
   },
   "outputs": [
    {
     "name": "stdout",
     "output_type": "stream",
     "text": [
      "Setup complete.\n"
     ]
    }
   ],
   "source": [
    "from learntools.core import binder\n",
    "binder.bind(globals())\n",
    "from learntools.intro_to_programming.ex5 import *\n",
    "print('Setup complete.')"
   ]
  },
  {
   "cell_type": "markdown",
   "id": "ccd68687",
   "metadata": {
    "papermill": {
     "duration": 0.004495,
     "end_time": "2025-06-15T21:12:08.067298",
     "exception": false,
     "start_time": "2025-06-15T21:12:08.062803",
     "status": "completed"
    },
    "tags": []
   },
   "source": [
    "# Question 1\n",
    "\n",
    "You own a restaurant with five food dishes, organized in the Python list `menu` below.  One day, you decide to:\n",
    "- remove bean soup (`'bean soup'`) from the menu, and\n",
    "- add roasted beet salad (`'roasted beet salad'`) to the menu.\n",
    "\n",
    "Implement this change to the list below.  While completing this task, \n",
    "- do not change the line that creates the `menu` list.  \n",
    "- your answer should use `.remove()` and `.append()`.  "
   ]
  },
  {
   "cell_type": "code",
   "execution_count": 2,
   "id": "4f52dc56",
   "metadata": {
    "execution": {
     "iopub.execute_input": "2025-06-15T21:12:08.080407Z",
     "iopub.status.busy": "2025-06-15T21:12:08.079977Z",
     "iopub.status.idle": "2025-06-15T21:12:08.089820Z",
     "shell.execute_reply": "2025-06-15T21:12:08.088754Z"
    },
    "papermill": {
     "duration": 0.019595,
     "end_time": "2025-06-15T21:12:08.091548",
     "exception": false,
     "start_time": "2025-06-15T21:12:08.071953",
     "status": "completed"
    },
    "tags": []
   },
   "outputs": [
    {
     "data": {
      "application/javascript": [
       "parent.postMessage({\"jupyterEvent\": \"custom.exercise_interaction\", \"data\": {\"outcomeType\": 1, \"valueTowardsCompletion\": 0.2, \"interactionType\": 1, \"questionType\": 2, \"questionId\": \"1_FoodMenu\", \"learnToolsVersion\": \"0.3.5\", \"failureMessage\": \"\", \"exceptionClass\": \"\", \"trace\": \"\"}}, \"*\")"
      ],
      "text/plain": [
       "<IPython.core.display.Javascript object>"
      ]
     },
     "metadata": {},
     "output_type": "display_data"
    },
    {
     "data": {
      "text/markdown": [
       "<span style=\"color:#33cc33\">Correct</span>"
      ],
      "text/plain": [
       "Correct"
      ]
     },
     "metadata": {},
     "output_type": "display_data"
    }
   ],
   "source": [
    "# Do not change: Initial menu for your restaurant\n",
    "menu = ['stewed meat with onions', 'bean soup', 'risotto with trout and shrimp',\n",
    "       'fish soup with cream and onion', 'gyro']\n",
    "\n",
    "menu.remove('bean soup')\n",
    "menu.append('roasted beet salad')\n",
    "\n",
    "# TODO: remove 'bean soup', and add 'roasted beet salad' to the end of the menu\n",
    "____\n",
    "\n",
    "# Do not change: Check your answer\n",
    "q1.check()"
   ]
  },
  {
   "cell_type": "code",
   "execution_count": 3,
   "id": "6d5f0de6",
   "metadata": {
    "execution": {
     "iopub.execute_input": "2025-06-15T21:12:08.103217Z",
     "iopub.status.busy": "2025-06-15T21:12:08.102399Z",
     "iopub.status.idle": "2025-06-15T21:12:08.106858Z",
     "shell.execute_reply": "2025-06-15T21:12:08.105868Z"
    },
    "papermill": {
     "duration": 0.011874,
     "end_time": "2025-06-15T21:12:08.108495",
     "exception": false,
     "start_time": "2025-06-15T21:12:08.096621",
     "status": "completed"
    },
    "tags": []
   },
   "outputs": [],
   "source": [
    "# Uncomment to see a hint\n",
    "#q1.hint()\n",
    "\n",
    "# Uncomment to see the solution\n",
    "#q1.solution()"
   ]
  },
  {
   "cell_type": "markdown",
   "id": "5b5903ca",
   "metadata": {
    "papermill": {
     "duration": 0.004319,
     "end_time": "2025-06-15T21:12:08.117650",
     "exception": false,
     "start_time": "2025-06-15T21:12:08.113331",
     "status": "completed"
    },
    "tags": []
   },
   "source": [
    "# Question 2\n",
    "\n",
    "The list `num_customers` contains the number of customers who came into your restaurant every day over the last month (which lasted thirty days).  Fill in values for each of the following:\n",
    "- `avg_first_seven` - average number of customers who visited in the first seven days\n",
    "- `avg_last_seven` - average number of customers who visited in the last seven days\n",
    "- `max_month` - number of customers on the day that got the most customers in the last month\n",
    "- `min_month` - number of customers on the day that got the least customers in the last month\n",
    "\n",
    "Answer this question by writing code.  For instance, if you have to find the minimum value in a list, use `min()` instead of scanning for the smallest value and directly filling in a number."
   ]
  },
  {
   "cell_type": "code",
   "execution_count": 4,
   "id": "eaef4001",
   "metadata": {
    "execution": {
     "iopub.execute_input": "2025-06-15T21:12:08.128434Z",
     "iopub.status.busy": "2025-06-15T21:12:08.128087Z",
     "iopub.status.idle": "2025-06-15T21:12:08.140249Z",
     "shell.execute_reply": "2025-06-15T21:12:08.139287Z"
    },
    "papermill": {
     "duration": 0.019528,
     "end_time": "2025-06-15T21:12:08.141698",
     "exception": false,
     "start_time": "2025-06-15T21:12:08.122170",
     "status": "completed"
    },
    "tags": []
   },
   "outputs": [
    {
     "name": "stdout",
     "output_type": "stream",
     "text": [
      "150.85714285714286\n",
      "157.0\n",
      "174\n",
      "126\n"
     ]
    },
    {
     "data": {
      "application/javascript": [
       "parent.postMessage({\"jupyterEvent\": \"custom.exercise_interaction\", \"data\": {\"outcomeType\": 1, \"valueTowardsCompletion\": 0.2, \"interactionType\": 1, \"questionType\": 1, \"questionId\": \"2_NumCustomers\", \"learnToolsVersion\": \"0.3.5\", \"failureMessage\": \"\", \"exceptionClass\": \"\", \"trace\": \"\"}}, \"*\")"
      ],
      "text/plain": [
       "<IPython.core.display.Javascript object>"
      ]
     },
     "metadata": {},
     "output_type": "display_data"
    },
    {
     "data": {
      "text/markdown": [
       "<span style=\"color:#33cc33\">Correct</span>"
      ],
      "text/plain": [
       "Correct"
      ]
     },
     "metadata": {},
     "output_type": "display_data"
    }
   ],
   "source": [
    "###### Do not change: Number of customers each day for the last month\n",
    "num_customers = [137, 147, 135, 128, 170, 174, 165, 146, 126, 159,\n",
    "                 141, 148, 132, 147, 168, 153, 170, 161, 148, 152,\n",
    "                 141, 151, 131, 149, 164, 163, 143, 143, 166, 171]\n",
    "\n",
    "# TODO: Fill in values for the variables below\n",
    "fist_seven_days = num_customers[:7]\n",
    "last_seven_days = num_customers[-7:]\n",
    "\n",
    "avg_first_seven = sum(fist_seven_days)/7\n",
    "avg_last_seven = sum(last_seven_days) /7\n",
    "max_month = max(num_customers)\n",
    "min_month = min(num_customers)\n",
    "\n",
    "print(avg_first_seven)\n",
    "print(avg_last_seven)\n",
    "print(max_month)\n",
    "print(min_month)\n",
    "\n",
    "# Do not change: Check your answer\n",
    "q2.check()"
   ]
  },
  {
   "cell_type": "code",
   "execution_count": 5,
   "id": "c287058c",
   "metadata": {
    "execution": {
     "iopub.execute_input": "2025-06-15T21:12:08.153074Z",
     "iopub.status.busy": "2025-06-15T21:12:08.152690Z",
     "iopub.status.idle": "2025-06-15T21:12:08.157229Z",
     "shell.execute_reply": "2025-06-15T21:12:08.156124Z"
    },
    "papermill": {
     "duration": 0.012083,
     "end_time": "2025-06-15T21:12:08.158923",
     "exception": false,
     "start_time": "2025-06-15T21:12:08.146840",
     "status": "completed"
    },
    "tags": []
   },
   "outputs": [],
   "source": [
    "# Uncomment to see a hint\n",
    "#q2.hint()\n",
    "\n",
    "# Uncomment to see the solution\n",
    "#q2.solution()"
   ]
  },
  {
   "cell_type": "markdown",
   "id": "34da6976",
   "metadata": {
    "papermill": {
     "duration": 0.004795,
     "end_time": "2025-06-15T21:12:08.169065",
     "exception": false,
     "start_time": "2025-06-15T21:12:08.164270",
     "status": "completed"
    },
    "tags": []
   },
   "source": [
    "# Question 3\n",
    "\n",
    "In the tutorial, we gave an example of a Python string with information that was better as a list."
   ]
  },
  {
   "cell_type": "code",
   "execution_count": 6,
   "id": "1bc650e1",
   "metadata": {
    "execution": {
     "iopub.execute_input": "2025-06-15T21:12:08.181260Z",
     "iopub.status.busy": "2025-06-15T21:12:08.180369Z",
     "iopub.status.idle": "2025-06-15T21:12:08.185357Z",
     "shell.execute_reply": "2025-06-15T21:12:08.184312Z"
    },
    "papermill": {
     "duration": 0.013189,
     "end_time": "2025-06-15T21:12:08.187329",
     "exception": false,
     "start_time": "2025-06-15T21:12:08.174140",
     "status": "completed"
    },
    "tags": []
   },
   "outputs": [],
   "source": [
    "flowers = \"pink primrose,hard-leaved pocket orchid,canterbury bells,sweet pea,english marigold,tiger lily,moon orchid,bird of paradise,monkshood,globe thistle\""
   ]
  },
  {
   "cell_type": "markdown",
   "id": "26c51dbb",
   "metadata": {
    "papermill": {
     "duration": 0.005127,
     "end_time": "2025-06-15T21:12:08.197530",
     "exception": false,
     "start_time": "2025-06-15T21:12:08.192403",
     "status": "completed"
    },
    "tags": []
   },
   "source": [
    "You can actually use Python to quickly turn this string into a list with `.split()`.  In the parentheses, we need to provide the character should be used to mark the end of one list item and the beginning of another, and enclose it in quotation marks.  In this case, that character is a comma."
   ]
  },
  {
   "cell_type": "code",
   "execution_count": 7,
   "id": "c7f25ce0",
   "metadata": {
    "execution": {
     "iopub.execute_input": "2025-06-15T21:12:08.209332Z",
     "iopub.status.busy": "2025-06-15T21:12:08.208633Z",
     "iopub.status.idle": "2025-06-15T21:12:08.214565Z",
     "shell.execute_reply": "2025-06-15T21:12:08.213498Z"
    },
    "papermill": {
     "duration": 0.013593,
     "end_time": "2025-06-15T21:12:08.216225",
     "exception": false,
     "start_time": "2025-06-15T21:12:08.202632",
     "status": "completed"
    },
    "tags": []
   },
   "outputs": [
    {
     "name": "stdout",
     "output_type": "stream",
     "text": [
      "['pink primrose', 'hard-leaved pocket orchid', 'canterbury bells', 'sweet pea', 'english marigold', 'tiger lily', 'moon orchid', 'bird of paradise', 'monkshood', 'globe thistle']\n"
     ]
    }
   ],
   "source": [
    " print(flowers.split(\",\"))"
   ]
  },
  {
   "cell_type": "markdown",
   "id": "361f8afa",
   "metadata": {
    "papermill": {
     "duration": 0.006027,
     "end_time": "2025-06-15T21:12:08.227064",
     "exception": false,
     "start_time": "2025-06-15T21:12:08.221037",
     "status": "completed"
    },
    "tags": []
   },
   "source": [
    "Now it is your turn to try this out!  Create two Python lists:\n",
    "- `letters` should be a Python list where each entry is an uppercase letter of the English alphabet.  For instance, the first two entries should be `\"A\"` and `\"B\"`, and the final two entries should be `\"Y\"` and `\"Z\"`.  Use the string `alphabet` to create this list.\n",
    "- `address` should be a Python list where each row in `address` is a different item in the list.  Currently, each row in `address` is separated by a comma. "
   ]
  },
  {
   "cell_type": "code",
   "execution_count": 8,
   "id": "20b17711",
   "metadata": {
    "execution": {
     "iopub.execute_input": "2025-06-15T21:12:08.238112Z",
     "iopub.status.busy": "2025-06-15T21:12:08.237737Z",
     "iopub.status.idle": "2025-06-15T21:12:08.248832Z",
     "shell.execute_reply": "2025-06-15T21:12:08.247645Z"
    },
    "papermill": {
     "duration": 0.01855,
     "end_time": "2025-06-15T21:12:08.250409",
     "exception": false,
     "start_time": "2025-06-15T21:12:08.231859",
     "status": "completed"
    },
    "tags": []
   },
   "outputs": [
    {
     "name": "stdout",
     "output_type": "stream",
     "text": [
      "['A', 'B', 'C', 'D', 'E', 'F', 'G', 'H', 'I', 'J', 'K', 'L', 'M', 'N', 'O', 'P', 'Q', 'R', 'S', 'T', 'U', 'V', 'W', 'X', 'Y', 'Z']\n",
      "['Mr. H. Potter', 'The cupboard under the Stairs', '4 Privet Drive', 'Little Whinging', 'Surrey']\n"
     ]
    },
    {
     "data": {
      "application/javascript": [
       "parent.postMessage({\"jupyterEvent\": \"custom.exercise_interaction\", \"data\": {\"outcomeType\": 1, \"valueTowardsCompletion\": 0.2, \"interactionType\": 1, \"questionType\": 1, \"questionId\": \"3_SplitString\", \"learnToolsVersion\": \"0.3.5\", \"failureMessage\": \"\", \"exceptionClass\": \"\", \"trace\": \"\"}}, \"*\")"
      ],
      "text/plain": [
       "<IPython.core.display.Javascript object>"
      ]
     },
     "metadata": {},
     "output_type": "display_data"
    },
    {
     "data": {
      "text/markdown": [
       "<span style=\"color:#33cc33\">Correct</span>"
      ],
      "text/plain": [
       "Correct"
      ]
     },
     "metadata": {},
     "output_type": "display_data"
    }
   ],
   "source": [
    "# DO not change: Define two Python strings\n",
    "alphabet = \"A.B.C.D.E.F.G.H.I.J.K.L.M.N.O.P.Q.R.S.T.U.V.W.X.Y.Z\"\n",
    "address = \"Mr. H. Potter,The cupboard under the Stairs,4 Privet Drive,Little Whinging,Surrey\"\n",
    "\n",
    "# TODO: Convert strings into Python lists\n",
    "letters = alphabet.split('.')\n",
    "formatted_address = address.split(',')\n",
    "\n",
    "print(letters)\n",
    "print(formatted_address)\n",
    "# Do not change: Check your answer\n",
    "q3.check()"
   ]
  },
  {
   "cell_type": "code",
   "execution_count": 9,
   "id": "74b88f2a",
   "metadata": {
    "execution": {
     "iopub.execute_input": "2025-06-15T21:12:08.262701Z",
     "iopub.status.busy": "2025-06-15T21:12:08.262388Z",
     "iopub.status.idle": "2025-06-15T21:12:08.267337Z",
     "shell.execute_reply": "2025-06-15T21:12:08.266313Z"
    },
    "papermill": {
     "duration": 0.013185,
     "end_time": "2025-06-15T21:12:08.269089",
     "exception": false,
     "start_time": "2025-06-15T21:12:08.255904",
     "status": "completed"
    },
    "tags": []
   },
   "outputs": [],
   "source": [
    "# Uncomment to see a hint\n",
    "#q3.hint()\n",
    "\n",
    "# Uncomment to see the solution\n",
    "#q3.solution()"
   ]
  },
  {
   "cell_type": "markdown",
   "id": "df7e32b3",
   "metadata": {
    "papermill": {
     "duration": 0.004869,
     "end_time": "2025-06-15T21:12:08.279400",
     "exception": false,
     "start_time": "2025-06-15T21:12:08.274531",
     "status": "completed"
    },
    "tags": []
   },
   "source": [
    "# Question 4\n",
    "\n",
    "In the Python course, you'll learn all about **list comprehensions**, which allow you to create a list based on the values in another list.  In this question, you'll get a brief preview of how they work.\n",
    "\n",
    "Say we're working with the list below."
   ]
  },
  {
   "cell_type": "code",
   "execution_count": 10,
   "id": "70f30376",
   "metadata": {
    "execution": {
     "iopub.execute_input": "2025-06-15T21:12:08.291297Z",
     "iopub.status.busy": "2025-06-15T21:12:08.290937Z",
     "iopub.status.idle": "2025-06-15T21:12:08.295971Z",
     "shell.execute_reply": "2025-06-15T21:12:08.294930Z"
    },
    "papermill": {
     "duration": 0.013297,
     "end_time": "2025-06-15T21:12:08.297804",
     "exception": false,
     "start_time": "2025-06-15T21:12:08.284507",
     "status": "completed"
    },
    "tags": []
   },
   "outputs": [],
   "source": [
    "test_ratings = [1, 2, 3, 4, 5]"
   ]
  },
  {
   "cell_type": "markdown",
   "id": "032abe80",
   "metadata": {
    "papermill": {
     "duration": 0.00515,
     "end_time": "2025-06-15T21:12:08.309191",
     "exception": false,
     "start_time": "2025-06-15T21:12:08.304041",
     "status": "completed"
    },
    "tags": []
   },
   "source": [
    "Then we can use this list (`test_ratings`) to create a new list (`test_liked`) where each item has been turned into a boolean, depending on whether or not the item is greater than or equal to four."
   ]
  },
  {
   "cell_type": "code",
   "execution_count": 11,
   "id": "6293ac34",
   "metadata": {
    "execution": {
     "iopub.execute_input": "2025-06-15T21:12:08.321695Z",
     "iopub.status.busy": "2025-06-15T21:12:08.321342Z",
     "iopub.status.idle": "2025-06-15T21:12:08.326958Z",
     "shell.execute_reply": "2025-06-15T21:12:08.325979Z"
    },
    "papermill": {
     "duration": 0.014197,
     "end_time": "2025-06-15T21:12:08.328800",
     "exception": false,
     "start_time": "2025-06-15T21:12:08.314603",
     "status": "completed"
    },
    "tags": []
   },
   "outputs": [
    {
     "name": "stdout",
     "output_type": "stream",
     "text": [
      "[False, False, False, True, True]\n"
     ]
    }
   ],
   "source": [
    "test_liked = [i>=4 for i in test_ratings]\n",
    "print(test_liked)"
   ]
  },
  {
   "cell_type": "markdown",
   "id": "c7ff872a",
   "metadata": {
    "papermill": {
     "duration": 0.005579,
     "end_time": "2025-06-15T21:12:08.341034",
     "exception": false,
     "start_time": "2025-06-15T21:12:08.335455",
     "status": "completed"
    },
    "tags": []
   },
   "source": [
    "In this question, you'll use this list comprehension to define a function `percentage_liked()` that takes one argument as input:\n",
    "- `ratings`: list of ratings that people gave to a movie, where each rating is a number between 1-5, inclusive\n",
    "\n",
    "We say someone liked the movie, if they gave a rating of either 4 or 5.  Your function should return the percentage of people who liked the movie.\n",
    "\n",
    "For instance, if we supply a value of `[1, 2, 3, 4, 5, 4, 5, 1]`, then 50% (4/8) of the people liked the movie, and the function should return `0.5`.\n",
    "\n",
    "Part of the function has already been completed for you.  You need only use `list_liked` to calculate `percentage_liked`."
   ]
  },
  {
   "cell_type": "code",
   "execution_count": 12,
   "id": "bdb599b0",
   "metadata": {
    "execution": {
     "iopub.execute_input": "2025-06-15T21:12:08.354400Z",
     "iopub.status.busy": "2025-06-15T21:12:08.354026Z",
     "iopub.status.idle": "2025-06-15T21:12:08.363910Z",
     "shell.execute_reply": "2025-06-15T21:12:08.362825Z"
    },
    "papermill": {
     "duration": 0.018515,
     "end_time": "2025-06-15T21:12:08.365460",
     "exception": false,
     "start_time": "2025-06-15T21:12:08.346945",
     "status": "completed"
    },
    "tags": []
   },
   "outputs": [
    {
     "data": {
      "application/javascript": [
       "parent.postMessage({\"jupyterEvent\": \"custom.exercise_interaction\", \"data\": {\"outcomeType\": 2, \"failureMessage\": \"Expected return value of `0.5` given `ratings=[1, 2, 3, 4, 5, 4, 5, 1]`, but got `<learntools.core.constants.PlaceholderValue object at 0x785ed172b050>` instead.\", \"interactionType\": 1, \"questionType\": 2, \"questionId\": \"4_PercentageLiked\", \"learnToolsVersion\": \"0.3.5\", \"valueTowardsCompletion\": 0.0, \"exceptionClass\": \"\", \"trace\": \"\"}}, \"*\")"
      ],
      "text/plain": [
       "<IPython.core.display.Javascript object>"
      ]
     },
     "metadata": {},
     "output_type": "display_data"
    },
    {
     "data": {
      "text/markdown": [
       "<span style=\"color:#cc3333\">Incorrect:</span> Expected return value of `0.5` given `ratings=[1, 2, 3, 4, 5, 4, 5, 1]`, but got `<learntools.core.constants.PlaceholderValue object at 0x785ed172b050>` instead."
      ],
      "text/plain": [
       "Incorrect: Expected return value of `0.5` given `ratings=[1, 2, 3, 4, 5, 4, 5, 1]`, but got `<learntools.core.constants.PlaceholderValue object at 0x785ed172b050>` instead."
      ]
     },
     "metadata": {},
     "output_type": "display_data"
    }
   ],
   "source": [
    "\n",
    "def percentage_liked(ratings):\n",
    "    list_liked = [i>=4 for i in ratings]\n",
    "    # TODO: Complete the function\n",
    "    percentage_liked = ____\n",
    "    return percentage_liked\n",
    "\n",
    "# Do not change: should return 0.5\n",
    "percentage_liked([1, 2, 3, 4, 5, 4, 5, 1])\n",
    "\n",
    "# Do not change: Check your answer\n",
    "q4.check()"
   ]
  },
  {
   "cell_type": "code",
   "execution_count": 13,
   "id": "3f87f416",
   "metadata": {
    "execution": {
     "iopub.execute_input": "2025-06-15T21:12:08.381487Z",
     "iopub.status.busy": "2025-06-15T21:12:08.380582Z",
     "iopub.status.idle": "2025-06-15T21:12:08.385539Z",
     "shell.execute_reply": "2025-06-15T21:12:08.384438Z"
    },
    "papermill": {
     "duration": 0.015402,
     "end_time": "2025-06-15T21:12:08.387505",
     "exception": false,
     "start_time": "2025-06-15T21:12:08.372103",
     "status": "completed"
    },
    "tags": []
   },
   "outputs": [],
   "source": [
    "# Uncomment to see a hint\n",
    "#q4.hint()\n",
    "\n",
    "# Uncomment to see the solution\n",
    "#q4.solution()"
   ]
  },
  {
   "cell_type": "markdown",
   "id": "2be0af94",
   "metadata": {
    "papermill": {
     "duration": 0.005574,
     "end_time": "2025-06-15T21:12:08.398797",
     "exception": false,
     "start_time": "2025-06-15T21:12:08.393223",
     "status": "completed"
    },
    "tags": []
   },
   "source": [
    "# 🌶️ Question 5\n",
    " \n",
    "Say you're doing analytics for a website.  You need to write a function that returns the percentage growth in the total number of users relative to a specified number of years ago.\n",
    "\n",
    "Your function `percentage_growth()` should take two arguments as input:\n",
    "- `num_users` = Python list with the total number of users each year.  So `num_users[0]` is the total number of users in the first year, `num_users[1]` is the total number of users in the second year, and so on.  The final entry in the list gives the total number of users in the most recently completed year.\n",
    "- `yrs_ago` = number of years to go back in time when calculating the growth percentage\n",
    "\n",
    "For instance, say `num_users = [920344, 1043553, 1204334, 1458996, 1503323, 1593432, 1623463, 1843064, 1930992, 2001078]`.\n",
    "- if `yrs_ago = 1`, we want the function to return a value of about `0.036`. This corresponds to a percentage growth of approximately 3.6%, calculated as (2001078 - 1930992)/1930992.\n",
    "- if `years_ago = 7`, we would want to return approximately `0.66`.  This corresponds to a percentage growth of approximately 66%, calculated as (2001078 - 1204334)/1204334.\n",
    "\n",
    "Your coworker sent you a draft of a function, but it doesn't seem to be doing the correct calculation.  Can you figure out what has gone wrong and make the needed changes?"
   ]
  },
  {
   "cell_type": "code",
   "execution_count": 14,
   "id": "3d7952a1",
   "metadata": {
    "execution": {
     "iopub.execute_input": "2025-06-15T21:12:08.411509Z",
     "iopub.status.busy": "2025-06-15T21:12:08.410785Z",
     "iopub.status.idle": "2025-06-15T21:12:08.421041Z",
     "shell.execute_reply": "2025-06-15T21:12:08.420112Z"
    },
    "papermill": {
     "duration": 0.018847,
     "end_time": "2025-06-15T21:12:08.423116",
     "exception": false,
     "start_time": "2025-06-15T21:12:08.404269",
     "status": "completed"
    },
    "tags": []
   },
   "outputs": [
    {
     "name": "stdout",
     "output_type": "stream",
     "text": [
      "0.0\n",
      "0.2807272117129434\n"
     ]
    },
    {
     "data": {
      "application/javascript": [
       "parent.postMessage({\"jupyterEvent\": \"custom.exercise_interaction\", \"data\": {\"outcomeType\": 2, \"failureMessage\": \"Expected return value of `0.03629533421163837` given `num_users=[920344, 1043553, 1204334, 1458996, 1503323, 1593432, 1623463, 1843064, 1930992, 2001078]`, `yrs_ago=1`, but got `0.0` instead.\", \"interactionType\": 1, \"questionType\": 2, \"questionId\": \"5_WebsiteAnalytics\", \"learnToolsVersion\": \"0.3.5\", \"valueTowardsCompletion\": 0.0, \"exceptionClass\": \"\", \"trace\": \"\"}}, \"*\")"
      ],
      "text/plain": [
       "<IPython.core.display.Javascript object>"
      ]
     },
     "metadata": {},
     "output_type": "display_data"
    },
    {
     "data": {
      "text/markdown": [
       "<span style=\"color:#cc3333\">Incorrect:</span> Expected return value of `0.03629533421163837` given `num_users=[920344, 1043553, 1204334, 1458996, 1503323, 1593432, 1623463, 1843064, 1930992, 2001078]`, `yrs_ago=1`, but got `0.0` instead."
      ],
      "text/plain": [
       "Incorrect: Expected return value of `0.03629533421163837` given `num_users=[920344, 1043553, 1204334, 1458996, 1503323, 1593432, 1623463, 1843064, 1930992, 2001078]`, `yrs_ago=1`, but got `0.0` instead."
      ]
     },
     "metadata": {},
     "output_type": "display_data"
    }
   ],
   "source": [
    "# TODO: Edit the function\n",
    "def percentage_growth(num_users, yrs_ago):\n",
    "    growth = (num_users[len(num_users)-1] - num_users[len(num_users)-yrs_ago])/num_users[len(num_users)-2]\n",
    "    return growth\n",
    "\n",
    "# Do not change: Variable for calculating some test examples\n",
    "num_users_test = [920344, 1043553, 1204334, 1458996, 1503323, 1593432, 1623463, 1843064, 1930992, 2001078]\n",
    "\n",
    "# Do not change: Should return .036\n",
    "print(percentage_growth(num_users_test, 1))\n",
    "\n",
    "# Do not change: Should return 0.66\n",
    "print(percentage_growth(num_users_test, 7))\n",
    "\n",
    "# Do not change: Check your answer\n",
    "q5.check()"
   ]
  },
  {
   "cell_type": "code",
   "execution_count": 15,
   "id": "098a0ffd",
   "metadata": {
    "execution": {
     "iopub.execute_input": "2025-06-15T21:12:08.437014Z",
     "iopub.status.busy": "2025-06-15T21:12:08.436623Z",
     "iopub.status.idle": "2025-06-15T21:12:08.440956Z",
     "shell.execute_reply": "2025-06-15T21:12:08.439929Z"
    },
    "papermill": {
     "duration": 0.013356,
     "end_time": "2025-06-15T21:12:08.442813",
     "exception": false,
     "start_time": "2025-06-15T21:12:08.429457",
     "status": "completed"
    },
    "tags": []
   },
   "outputs": [],
   "source": [
    "# Uncomment to see a hint\n",
    "#q5.hint()\n",
    "\n",
    "# Uncomment to see the solution\n",
    "#q5.solution()"
   ]
  },
  {
   "cell_type": "markdown",
   "id": "24e2c74b",
   "metadata": {
    "papermill": {
     "duration": 0.005751,
     "end_time": "2025-06-15T21:12:08.454768",
     "exception": false,
     "start_time": "2025-06-15T21:12:08.449017",
     "status": "completed"
    },
    "tags": []
   },
   "source": [
    "# Congratulations!\n",
    "\n",
    "Congratulations for finishing the Intro to Programming course!  You should be proud of your very first steps with learning programming.  As next steps, we recommend taking:\n",
    "- the **[Python course](http://www.kaggle.com/learn/python)**, and \n",
    "- the **[Intro to Machine Learning course](https://www.kaggle.com/learn/intro-to-machine-learning)**."
   ]
  },
  {
   "cell_type": "markdown",
   "id": "cc0133be",
   "metadata": {
    "papermill": {
     "duration": 0.005475,
     "end_time": "2025-06-15T21:12:08.466358",
     "exception": false,
     "start_time": "2025-06-15T21:12:08.460883",
     "status": "completed"
    },
    "tags": []
   },
   "source": [
    "---\n",
    "\n",
    "\n",
    "\n",
    "\n",
    "*Have questions or comments? Visit the [course discussion forum](https://www.kaggle.com/learn/intro-to-programming/discussion) to chat with other learners.*"
   ]
  }
 ],
 "metadata": {
  "kaggle": {
   "accelerator": "none",
   "dataSources": [],
   "isGpuEnabled": false,
   "isInternetEnabled": false,
   "language": "python",
   "sourceType": "notebook"
  },
  "kernelspec": {
   "display_name": "Python 3",
   "language": "python",
   "name": "python3"
  },
  "language_info": {
   "codemirror_mode": {
    "name": "ipython",
    "version": 3
   },
   "file_extension": ".py",
   "mimetype": "text/x-python",
   "name": "python",
   "nbconvert_exporter": "python",
   "pygments_lexer": "ipython3",
   "version": "3.11.11"
  },
  "papermill": {
   "default_parameters": {},
   "duration": 8.531371,
   "end_time": "2025-06-15T21:12:09.194324",
   "environment_variables": {},
   "exception": null,
   "input_path": "__notebook__.ipynb",
   "output_path": "__notebook__.ipynb",
   "parameters": {},
   "start_time": "2025-06-15T21:12:00.662953",
   "version": "2.6.0"
  }
 },
 "nbformat": 4,
 "nbformat_minor": 5
}
